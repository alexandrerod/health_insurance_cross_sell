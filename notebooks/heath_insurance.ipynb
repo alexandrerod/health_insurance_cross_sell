{
 "cells": [
  {
   "attachments": {},
   "cell_type": "markdown",
   "metadata": {},
   "source": [
    "# 0.0 Imports\n"
   ]
  },
  {
   "cell_type": "code",
   "execution_count": 355,
   "metadata": {},
   "outputs": [],
   "source": [
    "import pandas as pd\n",
    "import numpy as np\n",
    "import inflection\n",
    "\n",
    "import seaborn as sns\n",
    "import matplotlib.pyplot as plt\n",
    "import psycopg2 as pg\n",
    "import pickle\n",
    "\n",
    "from sklearn import model_selection as ms\n",
    "from sklearn import metrics as mt\n",
    "from sklearn import linear_model as lm\n",
    "from sklearn import tree as tr\n",
    "from sklearn import preprocessing as pp\n",
    "from sklearn import ensemble as en\n",
    "from sklearn import neighbors as ng\n",
    "from boruta import BorutaPy\n",
    "\n",
    "import scikitplot as sktplt\n"
   ]
  },
  {
   "cell_type": "code",
   "execution_count": 356,
   "metadata": {},
   "outputs": [
    {
     "data": {
      "text/plain": [
       "<module 'numpy.version' from '/home/alexandrerod/anaconda3/envs/HealthInsurance/lib/python3.11/site-packages/numpy/version.py'>"
      ]
     },
     "execution_count": 356,
     "metadata": {},
     "output_type": "execute_result"
    }
   ],
   "source": [
    "np.version"
   ]
  },
  {
   "attachments": {},
   "cell_type": "markdown",
   "metadata": {},
   "source": [
    "## 0.1 Helper Functions"
   ]
  },
  {
   "cell_type": "code",
   "execution_count": 415,
   "metadata": {},
   "outputs": [],
   "source": [
    "def precision_at_k(X_test, y_test, yhat, k=20000):\n",
    "\n",
    "    data = X_test.copy()\n",
    "    data['response'] = y_test.copy()\n",
    "\n",
    "   \n",
    "\n",
    "    data['score'] = yhat[:,1].tolist()\n",
    "    data = data.sort_values('score', ascending=False)\n",
    "\n",
    "\n",
    "    data = data.reset_index(drop=True)\n",
    "    data['ranking'] = data.index +1 \n",
    "\n",
    "    data['precision_at_k'] = data['response'].cumsum()/data['ranking']\n",
    "\n",
    "    return data.loc[k,'precision_at_k']\n",
    "\n",
    "def recall_at_k(X_test, y_test, k=20000):\n",
    "\n",
    "    data = X_test.copy()\n",
    "    data['response'] = y_test.copy()\n",
    "\n",
    "\n",
    "    data = data.reset_index(drop=True)\n",
    "    data['ranking'] = data.index +1 \n",
    "\n",
    "    data['recall_at_k'] = data['response'].cumsum()/data['response'].sum()\n",
    "\n",
    "    return data.loc[k,'recall_at_k']\n",
    "\n",
    "\n",
    "def model_result(model_name,X_test,y_test, yhat,k=20000):\n",
    "    name = model_name\n",
    "    precision = precision_at_k(X_test,y_test,yhat,k)\n",
    "    recall = recall_at_k(X_test, y_test,k)\n",
    "\n",
    "\n",
    "    return pd.DataFrame({'Model name': name, 'Precision at k': precision, 'Recall at k': recall}, index=[0])\n",
    "\n",
    "\n",
    "def cross_validation(model_name,model,x_train, y_train, kfold=5):\n",
    "\n",
    "    skf = ms.StratifiedKFold(n_splits=kfold, shuffle=True, random_state=42)\n",
    "\n",
    "    precision_list = []\n",
    "    recall_list = []\n",
    "\n",
    "    for train_index, val_index in skf.split(x_train,y_train):\n",
    "        x_train_cv, x_val_cv = x_train.iloc[train_index], x_train.iloc[val_index]\n",
    "        y_train_cv, y_val_cv = y_train.iloc[train_index], y_train.iloc[val_index]\n",
    "\n",
    "        #model definidtion\n",
    "        m = model.fit(x_train_cv, y_train_cv)\n",
    "        yhat_cv = m.predict_proba(x_val_cv)\n",
    "        ml_cv_result = model_result(model_name, x_val_cv, y_val_cv, yhat_cv, k=20000)\n",
    "        precision_list.append(ml_cv_result['Precision at k'])\n",
    "        recall_list.append(ml_cv_result['Recall at k'])\n",
    "        \n",
    "\n",
    "        metric = pd.DataFrame({'Model name': model_name, 'Precision at k': np.mean(precision_list), 'Recall at k': np.mean(recall_list)}, index=[0])\n",
    "\n",
    "    return metric\n",
    "    "
   ]
  },
  {
   "attachments": {},
   "cell_type": "markdown",
   "metadata": {},
   "source": [
    "## 0.2 Load Data"
   ]
  },
  {
   "cell_type": "code",
   "execution_count": 358,
   "metadata": {},
   "outputs": [],
   "source": [
    "data_train_raw = pd.read_csv('../inputs/train.csv')\n",
    "data_test_raw = pd.read_csv('../inputs/test.csv')"
   ]
  },
  {
   "attachments": {},
   "cell_type": "markdown",
   "metadata": {},
   "source": [
    "## 0.3 Rename Columns"
   ]
  },
  {
   "cell_type": "code",
   "execution_count": 359,
   "metadata": {},
   "outputs": [],
   "source": [
    "#old columns\n",
    "cols_old = list(data_train_raw.columns)\n",
    "#creating function\n",
    "rename_columns = lambda x: inflection.underscore(x)\n",
    "#new columns\n",
    "cols_new = list(map(rename_columns, cols_old))\n",
    "#renaming columns \n",
    "data_train_raw.columns = cols_new"
   ]
  },
  {
   "attachments": {},
   "cell_type": "markdown",
   "metadata": {},
   "source": [
    "## 0.3 Split dataset"
   ]
  },
  {
   "cell_type": "code",
   "execution_count": 360,
   "metadata": {},
   "outputs": [
    {
     "data": {
      "text/html": [
       "<div>\n",
       "<style scoped>\n",
       "    .dataframe tbody tr th:only-of-type {\n",
       "        vertical-align: middle;\n",
       "    }\n",
       "\n",
       "    .dataframe tbody tr th {\n",
       "        vertical-align: top;\n",
       "    }\n",
       "\n",
       "    .dataframe thead th {\n",
       "        text-align: right;\n",
       "    }\n",
       "</style>\n",
       "<table border=\"1\" class=\"dataframe\">\n",
       "  <thead>\n",
       "    <tr style=\"text-align: right;\">\n",
       "      <th></th>\n",
       "      <th>id</th>\n",
       "      <th>gender</th>\n",
       "      <th>age</th>\n",
       "      <th>driving_license</th>\n",
       "      <th>region_code</th>\n",
       "      <th>previously_insured</th>\n",
       "      <th>vehicle_age</th>\n",
       "      <th>vehicle_damage</th>\n",
       "      <th>annual_premium</th>\n",
       "      <th>policy_sales_channel</th>\n",
       "      <th>vintage</th>\n",
       "      <th>response</th>\n",
       "    </tr>\n",
       "  </thead>\n",
       "  <tbody>\n",
       "    <tr>\n",
       "      <th>0</th>\n",
       "      <td>1</td>\n",
       "      <td>Male</td>\n",
       "      <td>44</td>\n",
       "      <td>1</td>\n",
       "      <td>28.0</td>\n",
       "      <td>0</td>\n",
       "      <td>&gt; 2 Years</td>\n",
       "      <td>Yes</td>\n",
       "      <td>40454.0</td>\n",
       "      <td>26.0</td>\n",
       "      <td>217</td>\n",
       "      <td>1</td>\n",
       "    </tr>\n",
       "    <tr>\n",
       "      <th>1</th>\n",
       "      <td>2</td>\n",
       "      <td>Male</td>\n",
       "      <td>76</td>\n",
       "      <td>1</td>\n",
       "      <td>3.0</td>\n",
       "      <td>0</td>\n",
       "      <td>1-2 Year</td>\n",
       "      <td>No</td>\n",
       "      <td>33536.0</td>\n",
       "      <td>26.0</td>\n",
       "      <td>183</td>\n",
       "      <td>0</td>\n",
       "    </tr>\n",
       "    <tr>\n",
       "      <th>2</th>\n",
       "      <td>3</td>\n",
       "      <td>Male</td>\n",
       "      <td>47</td>\n",
       "      <td>1</td>\n",
       "      <td>28.0</td>\n",
       "      <td>0</td>\n",
       "      <td>&gt; 2 Years</td>\n",
       "      <td>Yes</td>\n",
       "      <td>38294.0</td>\n",
       "      <td>26.0</td>\n",
       "      <td>27</td>\n",
       "      <td>1</td>\n",
       "    </tr>\n",
       "    <tr>\n",
       "      <th>3</th>\n",
       "      <td>4</td>\n",
       "      <td>Male</td>\n",
       "      <td>21</td>\n",
       "      <td>1</td>\n",
       "      <td>11.0</td>\n",
       "      <td>1</td>\n",
       "      <td>&lt; 1 Year</td>\n",
       "      <td>No</td>\n",
       "      <td>28619.0</td>\n",
       "      <td>152.0</td>\n",
       "      <td>203</td>\n",
       "      <td>0</td>\n",
       "    </tr>\n",
       "    <tr>\n",
       "      <th>4</th>\n",
       "      <td>5</td>\n",
       "      <td>Female</td>\n",
       "      <td>29</td>\n",
       "      <td>1</td>\n",
       "      <td>41.0</td>\n",
       "      <td>1</td>\n",
       "      <td>&lt; 1 Year</td>\n",
       "      <td>No</td>\n",
       "      <td>27496.0</td>\n",
       "      <td>152.0</td>\n",
       "      <td>39</td>\n",
       "      <td>0</td>\n",
       "    </tr>\n",
       "    <tr>\n",
       "      <th>...</th>\n",
       "      <td>...</td>\n",
       "      <td>...</td>\n",
       "      <td>...</td>\n",
       "      <td>...</td>\n",
       "      <td>...</td>\n",
       "      <td>...</td>\n",
       "      <td>...</td>\n",
       "      <td>...</td>\n",
       "      <td>...</td>\n",
       "      <td>...</td>\n",
       "      <td>...</td>\n",
       "      <td>...</td>\n",
       "    </tr>\n",
       "    <tr>\n",
       "      <th>381104</th>\n",
       "      <td>381105</td>\n",
       "      <td>Male</td>\n",
       "      <td>74</td>\n",
       "      <td>1</td>\n",
       "      <td>26.0</td>\n",
       "      <td>1</td>\n",
       "      <td>1-2 Year</td>\n",
       "      <td>No</td>\n",
       "      <td>30170.0</td>\n",
       "      <td>26.0</td>\n",
       "      <td>88</td>\n",
       "      <td>0</td>\n",
       "    </tr>\n",
       "    <tr>\n",
       "      <th>381105</th>\n",
       "      <td>381106</td>\n",
       "      <td>Male</td>\n",
       "      <td>30</td>\n",
       "      <td>1</td>\n",
       "      <td>37.0</td>\n",
       "      <td>1</td>\n",
       "      <td>&lt; 1 Year</td>\n",
       "      <td>No</td>\n",
       "      <td>40016.0</td>\n",
       "      <td>152.0</td>\n",
       "      <td>131</td>\n",
       "      <td>0</td>\n",
       "    </tr>\n",
       "    <tr>\n",
       "      <th>381106</th>\n",
       "      <td>381107</td>\n",
       "      <td>Male</td>\n",
       "      <td>21</td>\n",
       "      <td>1</td>\n",
       "      <td>30.0</td>\n",
       "      <td>1</td>\n",
       "      <td>&lt; 1 Year</td>\n",
       "      <td>No</td>\n",
       "      <td>35118.0</td>\n",
       "      <td>160.0</td>\n",
       "      <td>161</td>\n",
       "      <td>0</td>\n",
       "    </tr>\n",
       "    <tr>\n",
       "      <th>381107</th>\n",
       "      <td>381108</td>\n",
       "      <td>Female</td>\n",
       "      <td>68</td>\n",
       "      <td>1</td>\n",
       "      <td>14.0</td>\n",
       "      <td>0</td>\n",
       "      <td>&gt; 2 Years</td>\n",
       "      <td>Yes</td>\n",
       "      <td>44617.0</td>\n",
       "      <td>124.0</td>\n",
       "      <td>74</td>\n",
       "      <td>0</td>\n",
       "    </tr>\n",
       "    <tr>\n",
       "      <th>381108</th>\n",
       "      <td>381109</td>\n",
       "      <td>Male</td>\n",
       "      <td>46</td>\n",
       "      <td>1</td>\n",
       "      <td>29.0</td>\n",
       "      <td>0</td>\n",
       "      <td>1-2 Year</td>\n",
       "      <td>No</td>\n",
       "      <td>41777.0</td>\n",
       "      <td>26.0</td>\n",
       "      <td>237</td>\n",
       "      <td>0</td>\n",
       "    </tr>\n",
       "  </tbody>\n",
       "</table>\n",
       "<p>381109 rows × 12 columns</p>\n",
       "</div>"
      ],
      "text/plain": [
       "            id  gender  age  driving_license  region_code  previously_insured   \n",
       "0            1    Male   44                1         28.0                   0  \\\n",
       "1            2    Male   76                1          3.0                   0   \n",
       "2            3    Male   47                1         28.0                   0   \n",
       "3            4    Male   21                1         11.0                   1   \n",
       "4            5  Female   29                1         41.0                   1   \n",
       "...        ...     ...  ...              ...          ...                 ...   \n",
       "381104  381105    Male   74                1         26.0                   1   \n",
       "381105  381106    Male   30                1         37.0                   1   \n",
       "381106  381107    Male   21                1         30.0                   1   \n",
       "381107  381108  Female   68                1         14.0                   0   \n",
       "381108  381109    Male   46                1         29.0                   0   \n",
       "\n",
       "       vehicle_age vehicle_damage  annual_premium  policy_sales_channel   \n",
       "0        > 2 Years            Yes         40454.0                  26.0  \\\n",
       "1         1-2 Year             No         33536.0                  26.0   \n",
       "2        > 2 Years            Yes         38294.0                  26.0   \n",
       "3         < 1 Year             No         28619.0                 152.0   \n",
       "4         < 1 Year             No         27496.0                 152.0   \n",
       "...            ...            ...             ...                   ...   \n",
       "381104    1-2 Year             No         30170.0                  26.0   \n",
       "381105    < 1 Year             No         40016.0                 152.0   \n",
       "381106    < 1 Year             No         35118.0                 160.0   \n",
       "381107   > 2 Years            Yes         44617.0                 124.0   \n",
       "381108    1-2 Year             No         41777.0                  26.0   \n",
       "\n",
       "        vintage  response  \n",
       "0           217         1  \n",
       "1           183         0  \n",
       "2            27         1  \n",
       "3           203         0  \n",
       "4            39         0  \n",
       "...         ...       ...  \n",
       "381104       88         0  \n",
       "381105      131         0  \n",
       "381106      161         0  \n",
       "381107       74         0  \n",
       "381108      237         0  \n",
       "\n",
       "[381109 rows x 12 columns]"
      ]
     },
     "execution_count": 360,
     "metadata": {},
     "output_type": "execute_result"
    }
   ],
   "source": [
    "data_train_raw"
   ]
  },
  {
   "cell_type": "code",
   "execution_count": 361,
   "metadata": {},
   "outputs": [],
   "source": [
    "X = data_train_raw.drop('response', axis=1)\n",
    "y = data_train_raw[['response']]\n"
   ]
  },
  {
   "cell_type": "code",
   "execution_count": 362,
   "metadata": {},
   "outputs": [],
   "source": [
    "X_train, X_test, y_train, y_test = ms.train_test_split(X,y, test_size=0.3, random_state=42)"
   ]
  },
  {
   "cell_type": "code",
   "execution_count": 363,
   "metadata": {},
   "outputs": [],
   "source": [
    "#train dataset\n",
    "df_train = pd.concat([X_train, y_train], axis=1)\n",
    "\n",
    "#test dataset\n",
    "df_test = pd.concat([X_test, y_test], axis=1)"
   ]
  },
  {
   "cell_type": "code",
   "execution_count": 364,
   "metadata": {},
   "outputs": [
    {
     "data": {
      "text/html": [
       "<div>\n",
       "<style scoped>\n",
       "    .dataframe tbody tr th:only-of-type {\n",
       "        vertical-align: middle;\n",
       "    }\n",
       "\n",
       "    .dataframe tbody tr th {\n",
       "        vertical-align: top;\n",
       "    }\n",
       "\n",
       "    .dataframe thead th {\n",
       "        text-align: right;\n",
       "    }\n",
       "</style>\n",
       "<table border=\"1\" class=\"dataframe\">\n",
       "  <thead>\n",
       "    <tr style=\"text-align: right;\">\n",
       "      <th></th>\n",
       "      <th>id</th>\n",
       "      <th>gender</th>\n",
       "      <th>age</th>\n",
       "      <th>driving_license</th>\n",
       "      <th>region_code</th>\n",
       "      <th>previously_insured</th>\n",
       "      <th>vehicle_age</th>\n",
       "      <th>vehicle_damage</th>\n",
       "      <th>annual_premium</th>\n",
       "      <th>policy_sales_channel</th>\n",
       "      <th>vintage</th>\n",
       "      <th>response</th>\n",
       "    </tr>\n",
       "  </thead>\n",
       "  <tbody>\n",
       "    <tr>\n",
       "      <th>26515</th>\n",
       "      <td>26516</td>\n",
       "      <td>Male</td>\n",
       "      <td>25</td>\n",
       "      <td>1</td>\n",
       "      <td>14.0</td>\n",
       "      <td>1</td>\n",
       "      <td>&lt; 1 Year</td>\n",
       "      <td>No</td>\n",
       "      <td>27308.0</td>\n",
       "      <td>152.0</td>\n",
       "      <td>138</td>\n",
       "      <td>0</td>\n",
       "    </tr>\n",
       "    <tr>\n",
       "      <th>153475</th>\n",
       "      <td>153476</td>\n",
       "      <td>Male</td>\n",
       "      <td>41</td>\n",
       "      <td>1</td>\n",
       "      <td>28.0</td>\n",
       "      <td>0</td>\n",
       "      <td>1-2 Year</td>\n",
       "      <td>Yes</td>\n",
       "      <td>62353.0</td>\n",
       "      <td>55.0</td>\n",
       "      <td>98</td>\n",
       "      <td>0</td>\n",
       "    </tr>\n",
       "    <tr>\n",
       "      <th>59079</th>\n",
       "      <td>59080</td>\n",
       "      <td>Male</td>\n",
       "      <td>24</td>\n",
       "      <td>1</td>\n",
       "      <td>50.0</td>\n",
       "      <td>1</td>\n",
       "      <td>&lt; 1 Year</td>\n",
       "      <td>No</td>\n",
       "      <td>21607.0</td>\n",
       "      <td>152.0</td>\n",
       "      <td>119</td>\n",
       "      <td>0</td>\n",
       "    </tr>\n",
       "    <tr>\n",
       "      <th>6631</th>\n",
       "      <td>6632</td>\n",
       "      <td>Male</td>\n",
       "      <td>54</td>\n",
       "      <td>1</td>\n",
       "      <td>24.0</td>\n",
       "      <td>0</td>\n",
       "      <td>&gt; 2 Years</td>\n",
       "      <td>Yes</td>\n",
       "      <td>36515.0</td>\n",
       "      <td>124.0</td>\n",
       "      <td>70</td>\n",
       "      <td>0</td>\n",
       "    </tr>\n",
       "    <tr>\n",
       "      <th>175869</th>\n",
       "      <td>175870</td>\n",
       "      <td>Male</td>\n",
       "      <td>69</td>\n",
       "      <td>1</td>\n",
       "      <td>17.0</td>\n",
       "      <td>1</td>\n",
       "      <td>1-2 Year</td>\n",
       "      <td>No</td>\n",
       "      <td>54397.0</td>\n",
       "      <td>30.0</td>\n",
       "      <td>227</td>\n",
       "      <td>0</td>\n",
       "    </tr>\n",
       "  </tbody>\n",
       "</table>\n",
       "</div>"
      ],
      "text/plain": [
       "            id gender  age  driving_license  region_code  previously_insured   \n",
       "26515    26516   Male   25                1         14.0                   1  \\\n",
       "153475  153476   Male   41                1         28.0                   0   \n",
       "59079    59080   Male   24                1         50.0                   1   \n",
       "6631      6632   Male   54                1         24.0                   0   \n",
       "175869  175870   Male   69                1         17.0                   1   \n",
       "\n",
       "       vehicle_age vehicle_damage  annual_premium  policy_sales_channel   \n",
       "26515     < 1 Year             No         27308.0                 152.0  \\\n",
       "153475    1-2 Year            Yes         62353.0                  55.0   \n",
       "59079     < 1 Year             No         21607.0                 152.0   \n",
       "6631     > 2 Years            Yes         36515.0                 124.0   \n",
       "175869    1-2 Year             No         54397.0                  30.0   \n",
       "\n",
       "        vintage  response  \n",
       "26515       138         0  \n",
       "153475       98         0  \n",
       "59079       119         0  \n",
       "6631         70         0  \n",
       "175869      227         0  "
      ]
     },
     "execution_count": 364,
     "metadata": {},
     "output_type": "execute_result"
    }
   ],
   "source": [
    "df_train.sample(5)"
   ]
  },
  {
   "attachments": {},
   "cell_type": "markdown",
   "metadata": {},
   "source": [
    "# 1.0 Data Description"
   ]
  },
  {
   "cell_type": "code",
   "execution_count": 365,
   "metadata": {},
   "outputs": [],
   "source": [
    "df1 = df_train.copy()"
   ]
  },
  {
   "attachments": {},
   "cell_type": "markdown",
   "metadata": {},
   "source": [
    "\n",
    "- 'id': \t'Unique ID for the customer',\n",
    "- 'Gender': \t'Gender of the customer',\n",
    "- 'Age': \t'Age of the customer',\n",
    "- 'Driving_License': \t'0 : Customer does not have DL, 1 : Customer already has DL',\n",
    "- 'Region_Code': \t'Unique code for the region of the customer',\n",
    "- 'Previously_Insured': \t'1 : Customer already has Vehicle Insurance, 0 : Customer doesnt have Vehicle Insurance',\n",
    "- 'Vehicle_Age': \t'Age of the Vehicle',\n",
    "- 'Vehicle_Damage': \t'1 : Customer got his/her vehicle damaged in the past. 0 : Customer didnt get his/her vehicle damaged in the past.',\n",
    "- 'Annual_Premium': \t'The amount customer needs to pay as premium in the year',\n",
    "- 'Policy_Sales_Channel': \t'Anonymized Code for the channel of outreaching to the customer ie. Different Agents, Over Mail, Over Phone, In Person, etc.',\n",
    "- 'Vintage': \t'Number of Days, Customer has been associated with the company',\n",
    "- 'Response': \t'1 : Customer is interested, 0 : Customer is not interested'}\n",
    "\n"
   ]
  },
  {
   "attachments": {},
   "cell_type": "markdown",
   "metadata": {},
   "source": [
    "# 1.1 Data amount"
   ]
  },
  {
   "cell_type": "code",
   "execution_count": 366,
   "metadata": {},
   "outputs": [
    {
     "name": "stdout",
     "output_type": "stream",
     "text": [
      "Quantidade de linhas: 266776\n",
      "Quantidade de colunas: 12\n"
     ]
    }
   ],
   "source": [
    "print('Quantidade de linhas: {}'.format(df1.shape[0]))\n",
    "print('Quantidade de colunas: {}'.format(df1.shape[1]))\n"
   ]
  },
  {
   "attachments": {},
   "cell_type": "markdown",
   "metadata": {},
   "source": [
    "## 1.2 Data Types"
   ]
  },
  {
   "cell_type": "code",
   "execution_count": 367,
   "metadata": {},
   "outputs": [
    {
     "data": {
      "text/plain": [
       "id                        int64\n",
       "gender                   object\n",
       "age                       int64\n",
       "driving_license           int64\n",
       "region_code             float64\n",
       "previously_insured        int64\n",
       "vehicle_age              object\n",
       "vehicle_damage           object\n",
       "annual_premium          float64\n",
       "policy_sales_channel    float64\n",
       "vintage                   int64\n",
       "response                  int64\n",
       "dtype: object"
      ]
     },
     "execution_count": 367,
     "metadata": {},
     "output_type": "execute_result"
    }
   ],
   "source": [
    "df1.dtypes"
   ]
  },
  {
   "attachments": {},
   "cell_type": "markdown",
   "metadata": {},
   "source": [
    "## 1.3 Check NaN"
   ]
  },
  {
   "cell_type": "code",
   "execution_count": 368,
   "metadata": {},
   "outputs": [
    {
     "data": {
      "text/plain": [
       "id                      0\n",
       "gender                  0\n",
       "age                     0\n",
       "driving_license         0\n",
       "region_code             0\n",
       "previously_insured      0\n",
       "vehicle_age             0\n",
       "vehicle_damage          0\n",
       "annual_premium          0\n",
       "policy_sales_channel    0\n",
       "vintage                 0\n",
       "response                0\n",
       "dtype: int64"
      ]
     },
     "execution_count": 368,
     "metadata": {},
     "output_type": "execute_result"
    }
   ],
   "source": [
    "df1.isna().sum()"
   ]
  },
  {
   "attachments": {},
   "cell_type": "markdown",
   "metadata": {},
   "source": [
    "## 1.4 Descriptive Statistical"
   ]
  },
  {
   "cell_type": "code",
   "execution_count": 369,
   "metadata": {},
   "outputs": [],
   "source": [
    "numerical_features = df1.select_dtypes(include=['int64', 'float64'])\n",
    "categorical_features = df1.select_dtypes(exclude=['int64','float64'])"
   ]
  },
  {
   "attachments": {},
   "cell_type": "markdown",
   "metadata": {},
   "source": [
    "### 1.4.1 Numerical Features"
   ]
  },
  {
   "cell_type": "code",
   "execution_count": 370,
   "metadata": {},
   "outputs": [
    {
     "data": {
      "text/html": [
       "<div>\n",
       "<style scoped>\n",
       "    .dataframe tbody tr th:only-of-type {\n",
       "        vertical-align: middle;\n",
       "    }\n",
       "\n",
       "    .dataframe tbody tr th {\n",
       "        vertical-align: top;\n",
       "    }\n",
       "\n",
       "    .dataframe thead th {\n",
       "        text-align: right;\n",
       "    }\n",
       "</style>\n",
       "<table border=\"1\" class=\"dataframe\">\n",
       "  <thead>\n",
       "    <tr style=\"text-align: right;\">\n",
       "      <th></th>\n",
       "      <th>attributes</th>\n",
       "      <th>min</th>\n",
       "      <th>max</th>\n",
       "      <th>range</th>\n",
       "      <th>mean</th>\n",
       "      <th>median</th>\n",
       "      <th>std</th>\n",
       "      <th>skewness</th>\n",
       "      <th>kurtosis</th>\n",
       "    </tr>\n",
       "  </thead>\n",
       "  <tbody>\n",
       "    <tr>\n",
       "      <th>0</th>\n",
       "      <td>id</td>\n",
       "      <td>2.0</td>\n",
       "      <td>381108.0</td>\n",
       "      <td>381106.0</td>\n",
       "      <td>190548.259180</td>\n",
       "      <td>190543.5</td>\n",
       "      <td>110059.963886</td>\n",
       "      <td>0.000641</td>\n",
       "      <td>-1.200396</td>\n",
       "    </tr>\n",
       "    <tr>\n",
       "      <th>1</th>\n",
       "      <td>age</td>\n",
       "      <td>20.0</td>\n",
       "      <td>85.0</td>\n",
       "      <td>65.0</td>\n",
       "      <td>38.851666</td>\n",
       "      <td>36.0</td>\n",
       "      <td>15.514605</td>\n",
       "      <td>0.668177</td>\n",
       "      <td>-0.573076</td>\n",
       "    </tr>\n",
       "    <tr>\n",
       "      <th>2</th>\n",
       "      <td>driving_license</td>\n",
       "      <td>0.0</td>\n",
       "      <td>1.0</td>\n",
       "      <td>1.0</td>\n",
       "      <td>0.997833</td>\n",
       "      <td>1.0</td>\n",
       "      <td>0.046496</td>\n",
       "      <td>-21.413956</td>\n",
       "      <td>456.560924</td>\n",
       "    </tr>\n",
       "    <tr>\n",
       "      <th>3</th>\n",
       "      <td>region_code</td>\n",
       "      <td>0.0</td>\n",
       "      <td>52.0</td>\n",
       "      <td>52.0</td>\n",
       "      <td>26.414434</td>\n",
       "      <td>28.0</td>\n",
       "      <td>13.214633</td>\n",
       "      <td>-0.118152</td>\n",
       "      <td>-0.862541</td>\n",
       "    </tr>\n",
       "    <tr>\n",
       "      <th>4</th>\n",
       "      <td>previously_insured</td>\n",
       "      <td>0.0</td>\n",
       "      <td>1.0</td>\n",
       "      <td>1.0</td>\n",
       "      <td>0.458310</td>\n",
       "      <td>0.0</td>\n",
       "      <td>0.498259</td>\n",
       "      <td>0.167345</td>\n",
       "      <td>-1.972010</td>\n",
       "    </tr>\n",
       "    <tr>\n",
       "      <th>5</th>\n",
       "      <td>annual_premium</td>\n",
       "      <td>2630.0</td>\n",
       "      <td>540165.0</td>\n",
       "      <td>537535.0</td>\n",
       "      <td>30580.218359</td>\n",
       "      <td>31680.0</td>\n",
       "      <td>17260.707353</td>\n",
       "      <td>1.862794</td>\n",
       "      <td>36.726254</td>\n",
       "    </tr>\n",
       "    <tr>\n",
       "      <th>6</th>\n",
       "      <td>policy_sales_channel</td>\n",
       "      <td>1.0</td>\n",
       "      <td>163.0</td>\n",
       "      <td>162.0</td>\n",
       "      <td>111.938139</td>\n",
       "      <td>128.0</td>\n",
       "      <td>54.243147</td>\n",
       "      <td>-0.896198</td>\n",
       "      <td>-0.978290</td>\n",
       "    </tr>\n",
       "    <tr>\n",
       "      <th>7</th>\n",
       "      <td>vintage</td>\n",
       "      <td>10.0</td>\n",
       "      <td>299.0</td>\n",
       "      <td>289.0</td>\n",
       "      <td>154.277158</td>\n",
       "      <td>154.0</td>\n",
       "      <td>83.670336</td>\n",
       "      <td>0.004882</td>\n",
       "      <td>-1.200055</td>\n",
       "    </tr>\n",
       "    <tr>\n",
       "      <th>8</th>\n",
       "      <td>response</td>\n",
       "      <td>0.0</td>\n",
       "      <td>1.0</td>\n",
       "      <td>1.0</td>\n",
       "      <td>0.122095</td>\n",
       "      <td>0.0</td>\n",
       "      <td>0.327395</td>\n",
       "      <td>2.308567</td>\n",
       "      <td>3.329508</td>\n",
       "    </tr>\n",
       "  </tbody>\n",
       "</table>\n",
       "</div>"
      ],
      "text/plain": [
       "             attributes     min       max     range           mean    median   \n",
       "0                    id     2.0  381108.0  381106.0  190548.259180  190543.5  \\\n",
       "1                   age    20.0      85.0      65.0      38.851666      36.0   \n",
       "2       driving_license     0.0       1.0       1.0       0.997833       1.0   \n",
       "3           region_code     0.0      52.0      52.0      26.414434      28.0   \n",
       "4    previously_insured     0.0       1.0       1.0       0.458310       0.0   \n",
       "5        annual_premium  2630.0  540165.0  537535.0   30580.218359   31680.0   \n",
       "6  policy_sales_channel     1.0     163.0     162.0     111.938139     128.0   \n",
       "7               vintage    10.0     299.0     289.0     154.277158     154.0   \n",
       "8              response     0.0       1.0       1.0       0.122095       0.0   \n",
       "\n",
       "             std   skewness    kurtosis  \n",
       "0  110059.963886   0.000641   -1.200396  \n",
       "1      15.514605   0.668177   -0.573076  \n",
       "2       0.046496 -21.413956  456.560924  \n",
       "3      13.214633  -0.118152   -0.862541  \n",
       "4       0.498259   0.167345   -1.972010  \n",
       "5   17260.707353   1.862794   36.726254  \n",
       "6      54.243147  -0.896198   -0.978290  \n",
       "7      83.670336   0.004882   -1.200055  \n",
       "8       0.327395   2.308567    3.329508  "
      ]
     },
     "execution_count": 370,
     "metadata": {},
     "output_type": "execute_result"
    }
   ],
   "source": [
    "#Têndencia central\n",
    "t01 = pd.DataFrame(numerical_features.apply(np.mean)).T\n",
    "t02 = pd.DataFrame(numerical_features.apply(np.median)).T\n",
    "#Dispersão dos dados\n",
    "d01 = pd.DataFrame(numerical_features.apply(np.min)).T\n",
    "d02 = pd.DataFrame(numerical_features.apply(np.max)).T\n",
    "d03 = pd.DataFrame(numerical_features.apply(lambda x: x.max() - x.min())).T\n",
    "d04 = pd.DataFrame(numerical_features.apply(np.std)).T\n",
    "d05 = pd.DataFrame(numerical_features.apply(lambda x: x.skew())).T\n",
    "d06 = pd.DataFrame(numerical_features.apply(lambda x: x.kurtosis())).T\n",
    "\n",
    "m = pd.concat([d01,d02,d03,t01,t02,d04,d05,d06]).T.reset_index()\n",
    "m.columns = ['attributes', 'min','max','range','mean','median','std','skewness','kurtosis']\n",
    "m\n"
   ]
  },
  {
   "attachments": {},
   "cell_type": "markdown",
   "metadata": {},
   "source": [
    "### 1.4.2 Categorical Features"
   ]
  },
  {
   "cell_type": "code",
   "execution_count": 371,
   "metadata": {},
   "outputs": [
    {
     "data": {
      "text/plain": [
       "gender            2\n",
       "vehicle_age       3\n",
       "vehicle_damage    2\n",
       "dtype: int64"
      ]
     },
     "execution_count": 371,
     "metadata": {},
     "output_type": "execute_result"
    }
   ],
   "source": [
    "categorical_features.nunique()"
   ]
  },
  {
   "attachments": {},
   "cell_type": "markdown",
   "metadata": {},
   "source": [
    "# 2.0 Feature Engineering"
   ]
  },
  {
   "cell_type": "code",
   "execution_count": 372,
   "metadata": {},
   "outputs": [],
   "source": [
    "df2 = df1.copy()"
   ]
  },
  {
   "attachments": {},
   "cell_type": "markdown",
   "metadata": {},
   "source": [
    "## 2.1 Hypothesis Map"
   ]
  },
  {
   "attachments": {},
   "cell_type": "markdown",
   "metadata": {},
   "source": [
    "1. Índice de Criminalidade da Região influência na contratação do seguro veicular\n",
    "2. Clientes com maior salário contratariam o seguro veicular\n",
    "3. Clientes com carros mais novos contratariam o seguro veicular\n",
    "4. Pessoas mais velhas contratariam o seguro veicular\n",
    "5. Clientes cujo veículo já sofreu danos contratariam o seguro veicular\n",
    "6. Somente clientes habilitados contratariam o seguro veicular\n",
    "7. Clientes mais antigos da seguradora contratariam o seguro veicular\n",
    "8. Clientes com carros mais novos contratam o seguro veicular"
   ]
  },
  {
   "attachments": {},
   "cell_type": "markdown",
   "metadata": {},
   "source": [
    "# 3.0 Data Filtering"
   ]
  },
  {
   "cell_type": "code",
   "execution_count": 373,
   "metadata": {},
   "outputs": [],
   "source": [
    "df3 = df2.copy()"
   ]
  },
  {
   "attachments": {},
   "cell_type": "markdown",
   "metadata": {},
   "source": [
    "# 4.0 Exploratory Data Analysis"
   ]
  },
  {
   "cell_type": "code",
   "execution_count": 374,
   "metadata": {},
   "outputs": [
    {
     "data": {
      "text/html": [
       "<div>\n",
       "<style scoped>\n",
       "    .dataframe tbody tr th:only-of-type {\n",
       "        vertical-align: middle;\n",
       "    }\n",
       "\n",
       "    .dataframe tbody tr th {\n",
       "        vertical-align: top;\n",
       "    }\n",
       "\n",
       "    .dataframe thead th {\n",
       "        text-align: right;\n",
       "    }\n",
       "</style>\n",
       "<table border=\"1\" class=\"dataframe\">\n",
       "  <thead>\n",
       "    <tr style=\"text-align: right;\">\n",
       "      <th></th>\n",
       "      <th>id</th>\n",
       "      <th>gender</th>\n",
       "      <th>age</th>\n",
       "      <th>driving_license</th>\n",
       "      <th>region_code</th>\n",
       "      <th>previously_insured</th>\n",
       "      <th>vehicle_age</th>\n",
       "      <th>vehicle_damage</th>\n",
       "      <th>annual_premium</th>\n",
       "      <th>policy_sales_channel</th>\n",
       "      <th>vintage</th>\n",
       "      <th>response</th>\n",
       "    </tr>\n",
       "  </thead>\n",
       "  <tbody>\n",
       "    <tr>\n",
       "      <th>8526</th>\n",
       "      <td>8527</td>\n",
       "      <td>Female</td>\n",
       "      <td>44</td>\n",
       "      <td>1</td>\n",
       "      <td>28.0</td>\n",
       "      <td>0</td>\n",
       "      <td>1-2 Year</td>\n",
       "      <td>Yes</td>\n",
       "      <td>47650.0</td>\n",
       "      <td>26.0</td>\n",
       "      <td>182</td>\n",
       "      <td>0</td>\n",
       "    </tr>\n",
       "    <tr>\n",
       "      <th>378671</th>\n",
       "      <td>378672</td>\n",
       "      <td>Male</td>\n",
       "      <td>24</td>\n",
       "      <td>1</td>\n",
       "      <td>45.0</td>\n",
       "      <td>1</td>\n",
       "      <td>&lt; 1 Year</td>\n",
       "      <td>No</td>\n",
       "      <td>2630.0</td>\n",
       "      <td>152.0</td>\n",
       "      <td>98</td>\n",
       "      <td>0</td>\n",
       "    </tr>\n",
       "    <tr>\n",
       "      <th>73762</th>\n",
       "      <td>73763</td>\n",
       "      <td>Male</td>\n",
       "      <td>28</td>\n",
       "      <td>1</td>\n",
       "      <td>16.0</td>\n",
       "      <td>1</td>\n",
       "      <td>&lt; 1 Year</td>\n",
       "      <td>No</td>\n",
       "      <td>2630.0</td>\n",
       "      <td>160.0</td>\n",
       "      <td>288</td>\n",
       "      <td>0</td>\n",
       "    </tr>\n",
       "    <tr>\n",
       "      <th>296727</th>\n",
       "      <td>296728</td>\n",
       "      <td>Female</td>\n",
       "      <td>40</td>\n",
       "      <td>1</td>\n",
       "      <td>28.0</td>\n",
       "      <td>1</td>\n",
       "      <td>1-2 Year</td>\n",
       "      <td>No</td>\n",
       "      <td>60069.0</td>\n",
       "      <td>26.0</td>\n",
       "      <td>87</td>\n",
       "      <td>0</td>\n",
       "    </tr>\n",
       "    <tr>\n",
       "      <th>30491</th>\n",
       "      <td>30492</td>\n",
       "      <td>Male</td>\n",
       "      <td>38</td>\n",
       "      <td>1</td>\n",
       "      <td>41.0</td>\n",
       "      <td>1</td>\n",
       "      <td>1-2 Year</td>\n",
       "      <td>No</td>\n",
       "      <td>29228.0</td>\n",
       "      <td>160.0</td>\n",
       "      <td>247</td>\n",
       "      <td>0</td>\n",
       "    </tr>\n",
       "  </tbody>\n",
       "</table>\n",
       "</div>"
      ],
      "text/plain": [
       "            id  gender  age  driving_license  region_code  previously_insured   \n",
       "8526      8527  Female   44                1         28.0                   0  \\\n",
       "378671  378672    Male   24                1         45.0                   1   \n",
       "73762    73763    Male   28                1         16.0                   1   \n",
       "296727  296728  Female   40                1         28.0                   1   \n",
       "30491    30492    Male   38                1         41.0                   1   \n",
       "\n",
       "       vehicle_age vehicle_damage  annual_premium  policy_sales_channel   \n",
       "8526      1-2 Year            Yes         47650.0                  26.0  \\\n",
       "378671    < 1 Year             No          2630.0                 152.0   \n",
       "73762     < 1 Year             No          2630.0                 160.0   \n",
       "296727    1-2 Year             No         60069.0                  26.0   \n",
       "30491     1-2 Year             No         29228.0                 160.0   \n",
       "\n",
       "        vintage  response  \n",
       "8526        182         0  \n",
       "378671       98         0  \n",
       "73762       288         0  \n",
       "296727       87         0  \n",
       "30491       247         0  "
      ]
     },
     "execution_count": 374,
     "metadata": {},
     "output_type": "execute_result"
    }
   ],
   "source": [
    "df4 = df3.copy()\n",
    "df4.sample(5)"
   ]
  },
  {
   "cell_type": "markdown",
   "metadata": {},
   "source": [
    "## 4.1 Univariate Analysis"
   ]
  },
  {
   "attachments": {},
   "cell_type": "markdown",
   "metadata": {},
   "source": [
    "### 4.1.1 Numerical Features"
   ]
  },
  {
   "cell_type": "code",
   "execution_count": 375,
   "metadata": {},
   "outputs": [
    {
     "data": {
      "text/plain": [
       "Index(['id', 'age', 'driving_license', 'region_code', 'previously_insured',\n",
       "       'annual_premium', 'policy_sales_channel', 'vintage', 'response'],\n",
       "      dtype='object')"
      ]
     },
     "execution_count": 375,
     "metadata": {},
     "output_type": "execute_result"
    }
   ],
   "source": [
    "df4.select_dtypes(include=['int64','float64']).columns"
   ]
  },
  {
   "cell_type": "code",
   "execution_count": 376,
   "metadata": {},
   "outputs": [
    {
     "data": {
      "text/plain": [
       "<Axes: xlabel='age'>"
      ]
     },
     "execution_count": 376,
     "metadata": {},
     "output_type": "execute_result"
    },
    {
     "data": {
      "image/png": "[encoded data removed]",
      "text/plain": [
       "<Figure size 1080x360 with 2 Axes>"
      ]
     },
     "metadata": {
      "needs_background": "light"
     },
     "output_type": "display_data"
    }
   ],
   "source": [
    "#Age  - Client Age\n",
    "plt.figure(figsize=(15,5))\n",
    "plt.subplot(1,2,1)\n",
    "sns.histplot(data=df4, x='age')\n",
    "plt.subplot(1,2,2)\n",
    "sns.boxplot(data=df4, x='age')"
   ]
  },
  {
   "attachments": {},
   "cell_type": "markdown",
   "metadata": {},
   "source": [
    "Como identificado na secção **1.4** a feature Age tem assimetria positiva indicando maior concentração no lado esquerdo do histograma na faixa de idade de 22 e 27 anos aproximadamente. Além de indicar que moda < mediana < média"
   ]
  },
  {
   "cell_type": "code",
   "execution_count": 377,
   "metadata": {},
   "outputs": [
    {
     "data": {
      "text/plain": [
       "<Axes: xlabel='annual_premium'>"
      ]
     },
     "execution_count": 377,
     "metadata": {},
     "output_type": "execute_result"
    },
    {
     "data": {
      "image/png": "[encoded data removed]",
      "text/plain": [
       "<Figure size 1080x360 with 2 Axes>"
      ]
     },
     "metadata": {
      "needs_background": "light"
     },
     "output_type": "display_data"
    }
   ],
   "source": [
    "#Annual Premium\n",
    "plt.figure(figsize=(15,5))\n",
    "plt.subplot(1,2,1)\n",
    "sns.histplot(data=df4, x='annual_premium')\n",
    "plt.subplot(1,2,2)\n",
    "sns.boxplot(data=df4, x='annual_premium')"
   ]
  },
  {
   "cell_type": "code",
   "execution_count": 378,
   "metadata": {},
   "outputs": [
    {
     "data": {
      "text/plain": [
       "<Axes: xlabel='vintage'>"
      ]
     },
     "execution_count": 378,
     "metadata": {},
     "output_type": "execute_result"
    },
    {
     "data": {
      "image/png": "[encoded data removed]",
      "text/plain": [
       "<Figure size 1080x360 with 2 Axes>"
      ]
     },
     "metadata": {
      "needs_background": "light"
     },
     "output_type": "display_data"
    }
   ],
   "source": [
    "# Vintage \n",
    "plt.figure(figsize=(15,5))\n",
    "plt.subplot(1,2,1)\n",
    "sns.histplot(data=df4, x='vintage')\n",
    "plt.subplot(1,2,2)\n",
    "sns.boxplot(data=df4, x='vintage')"
   ]
  },
  {
   "attachments": {},
   "cell_type": "markdown",
   "metadata": {},
   "source": [
    "### 4.1.2 Categorical Features"
   ]
  },
  {
   "cell_type": "code",
   "execution_count": 379,
   "metadata": {},
   "outputs": [
    {
     "data": {
      "text/plain": [
       "<Axes: xlabel='driving_license', ylabel='count'>"
      ]
     },
     "execution_count": 379,
     "metadata": {},
     "output_type": "execute_result"
    },
    {
     "data": {
      "image/png": "[encoded data removed]",
      "text/plain": [
       "<Figure size 1080x360 with 2 Axes>"
      ]
     },
     "metadata": {
      "needs_background": "light"
     },
     "output_type": "display_data"
    }
   ],
   "source": [
    "#Driving Licence\n",
    "plt.figure(figsize=(15,5))\n",
    "plt.subplot(1,2,1)\n",
    "sns.countplot(data=df4, x='driving_license')\n",
    "plt.subplot(1,2,2)\n",
    "aux = df4.loc[df4['driving_license'] == 0, :].reset_index()\n",
    "# sns.countplot(data=aux, x='driving_license')\n",
    "sns.countplot(data=aux, x='driving_license')\n"
   ]
  },
  {
   "cell_type": "code",
   "execution_count": 380,
   "metadata": {},
   "outputs": [
    {
     "data": {
      "text/plain": [
       "<Axes: xlabel='previously_insured', ylabel='count'>"
      ]
     },
     "execution_count": 380,
     "metadata": {},
     "output_type": "execute_result"
    },
    {
     "data": {
      "image/png": "[encoded data removed]",
      "text/plain": [
       "<Figure size 1080x360 with 1 Axes>"
      ]
     },
     "metadata": {
      "needs_background": "light"
     },
     "output_type": "display_data"
    }
   ],
   "source": [
    "# previously_insured\n",
    "\n",
    "plt.figure(figsize=(15,5))\n",
    "plt.subplot(1,2,1)\n",
    "sns.countplot(data=df4, x='previously_insured')"
   ]
  },
  {
   "cell_type": "code",
   "execution_count": 381,
   "metadata": {},
   "outputs": [
    {
     "data": {
      "text/plain": [
       "<Axes: xlabel='gender', ylabel='count'>"
      ]
     },
     "execution_count": 381,
     "metadata": {},
     "output_type": "execute_result"
    },
    {
     "data": {
      "image/png": "[encoded data removed]",
      "text/plain": [
       "<Figure size 720x360 with 1 Axes>"
      ]
     },
     "metadata": {
      "needs_background": "light"
     },
     "output_type": "display_data"
    }
   ],
   "source": [
    "#gender\n",
    "plt.figure(figsize=(10,5))\n",
    "sns.countplot(data=df4, x= 'gender') "
   ]
  },
  {
   "cell_type": "code",
   "execution_count": 382,
   "metadata": {},
   "outputs": [
    {
     "data": {
      "text/plain": [
       "<Axes: xlabel='vehicle_age', ylabel='count'>"
      ]
     },
     "execution_count": 382,
     "metadata": {},
     "output_type": "execute_result"
    },
    {
     "data": {
      "image/png": "[encoded data removed]",
      "text/plain": [
       "<Figure size 1080x360 with 2 Axes>"
      ]
     },
     "metadata": {
      "needs_background": "light"
     },
     "output_type": "display_data"
    }
   ],
   "source": [
    "#vehicle_age\n",
    "plt.figure(figsize=(15,5))\n",
    "plt.subplot(1,2,1)\n",
    "sns.countplot(data=df4, x= 'vehicle_age') \n",
    "plt.subplot(1,2,2)\n",
    "aux = df4.loc[df4['vehicle_age'] == '> 2 Years',:]\n",
    "sns.countplot(data=aux, x='vehicle_age')"
   ]
  },
  {
   "cell_type": "code",
   "execution_count": 383,
   "metadata": {},
   "outputs": [
    {
     "data": {
      "text/plain": [
       "<Axes: xlabel='vehicle_damage', ylabel='count'>"
      ]
     },
     "execution_count": 383,
     "metadata": {},
     "output_type": "execute_result"
    },
    {
     "data": {
      "image/png": "[encoded data removed]",
      "text/plain": [
       "<Figure size 1080x360 with 1 Axes>"
      ]
     },
     "metadata": {
      "needs_background": "light"
     },
     "output_type": "display_data"
    }
   ],
   "source": [
    "#vehicle_damage\n",
    "plt.figure(figsize=(15,5))\n",
    "plt.subplot(1,2,1)\n",
    "sns.countplot(data=df4, x= 'vehicle_damage')"
   ]
  },
  {
   "cell_type": "code",
   "execution_count": 384,
   "metadata": {},
   "outputs": [
    {
     "data": {
      "text/plain": [
       "<Axes: xlabel='response', ylabel='count'>"
      ]
     },
     "execution_count": 384,
     "metadata": {},
     "output_type": "execute_result"
    },
    {
     "data": {
      "image/png": "[encoded data removed]",
      "text/plain": [
       "<Figure size 1080x360 with 2 Axes>"
      ]
     },
     "metadata": {
      "needs_background": "light"
     },
     "output_type": "display_data"
    }
   ],
   "source": [
    "# Response\n",
    "\n",
    "plt.figure(figsize=(15,5))\n",
    "plt.subplot(1,2,1)\n",
    "sns.countplot(data=df4, x='response')\n",
    "plt.subplot(1,2,2)\n",
    "aux = df4.loc[df4['response'] == 1, :]\n",
    "sns.countplot(data=aux, x='response')"
   ]
  },
  {
   "cell_type": "code",
   "execution_count": 385,
   "metadata": {},
   "outputs": [
    {
     "data": {
      "text/plain": [
       "<Axes: xlabel='region_code'>"
      ]
     },
     "execution_count": 385,
     "metadata": {},
     "output_type": "execute_result"
    },
    {
     "data": {
      "image/png": "[encoded data removed]",
      "text/plain": [
       "<Figure size 1080x360 with 2 Axes>"
      ]
     },
     "metadata": {
      "needs_background": "light"
     },
     "output_type": "display_data"
    }
   ],
   "source": [
    "#region_code\n",
    "plt.figure(figsize=(15,5))\n",
    "plt.subplot(1,2,1)\n",
    "sns.histplot(data=df4, x='region_code')\n",
    "plt.subplot(1,2,2)\n",
    "sns.boxplot(data=df4, x='region_code')"
   ]
  },
  {
   "attachments": {},
   "cell_type": "markdown",
   "metadata": {},
   "source": [
    "## 4.2 Bivariate Analysis"
   ]
  },
  {
   "attachments": {},
   "cell_type": "markdown",
   "metadata": {},
   "source": [
    "### H3. Clientes com carros novos com menos de um ano contratariam o seguro veicular\n",
    " "
   ]
  },
  {
   "cell_type": "code",
   "execution_count": 386,
   "metadata": {},
   "outputs": [
    {
     "data": {
      "text/plain": [
       "<Axes: xlabel='vehicle_age', ylabel='response'>"
      ]
     },
     "execution_count": 386,
     "metadata": {},
     "output_type": "execute_result"
    },
    {
     "data": {
      "image/png": "[encoded data removed]",
      "text/plain": [
       "<Figure size 1080x360 with 2 Axes>"
      ]
     },
     "metadata": {
      "needs_background": "light"
     },
     "output_type": "display_data"
    }
   ],
   "source": [
    "plt.figure(figsize=(15,5))\n",
    "plt.subplot(1,2,1)\n",
    "aux = df4.loc[df4['response'] == 1, ['response', 'vehicle_age']].groupby(['vehicle_age']).count().reset_index()\n",
    "sns.barplot(data=aux, x='vehicle_age', y='response')\n",
    "plt.subplot(1,2,2)\n",
    "aux1 = df4.loc[df4['response'] == 0, ['response', 'vehicle_age']].groupby(['vehicle_age']).count().reset_index()\n",
    "sns.barplot(data=aux1, x='vehicle_age', y='response')\n"
   ]
  },
  {
   "cell_type": "code",
   "execution_count": 387,
   "metadata": {},
   "outputs": [
    {
     "name": "stdout",
     "output_type": "stream",
     "text": [
      "Total de pessoas que contratariam o seguro veicular e o carro tem menos de um ano: 0.1537\n",
      "Total de pessoas que contratariam o seguro veicular e o carro tem entre um e dois anos: 0.7452\n"
     ]
    }
   ],
   "source": [
    "total_response_v = len(df4.loc[df4['response'] == 1,:])\n",
    "############## Para menos de um ano #################\n",
    "total_less_oney = len(df4.loc[(df4['response'] == 1) & (df4['vehicle_age'] == '< 1 Year'),:])\n",
    "percentage_less_oney = total_less_oney/total_response_v\n",
    "print('Total de pessoas que contratariam o seguro veicular e o carro tem menos de um ano: {:.4f}'.format(percentage_less_oney))\n",
    "\n",
    "############## Entre um e dois anos #################\n",
    "total_less_oney = len(df4.loc[(df4['response'] == 1) & (df4['vehicle_age'] == '1-2 Year'),:])\n",
    "percentage_bwt_onetwo = total_less_oney/total_response_v\n",
    "print('Total de pessoas que contratariam o seguro veicular e o carro tem entre um e dois anos: {:.4f}'.format(percentage_bwt_onetwo))"
   ]
  },
  {
   "attachments": {},
   "cell_type": "markdown",
   "metadata": {},
   "source": [
    "Como apenas 15% das pessoas que tem o carro a menos de um ano contratariam o seguro a hipótese **H3** é falsa. Além disso, 74% das pessoas que contratariam o seguro tem o carro entre 1 e 2 anos."
   ]
  },
  {
   "attachments": {},
   "cell_type": "markdown",
   "metadata": {},
   "source": [
    "### H4. Pessoas acima dos 30 anos contratariam o seguro veicular\n"
   ]
  },
  {
   "cell_type": "code",
   "execution_count": 388,
   "metadata": {},
   "outputs": [
    {
     "name": "stderr",
     "output_type": "stream",
     "text": [
      "/tmp/ipykernel_81033/2479584926.py:7: SettingWithCopyWarning: \n",
      "A value is trying to be set on a copy of a slice from a DataFrame.\n",
      "Try using .loc[row_indexer,col_indexer] = value instead\n",
      "\n",
      "See the caveats in the documentation: https://pandas.pydata.org/pandas-docs/stable/user_guide/indexing.html#returning-a-view-versus-a-copy\n",
      "  aux['age_binned'] = pd.cut(aux['age'], bins)\n"
     ]
    },
    {
     "data": {
      "image/png": "[encoded data removed]",
      "text/plain": [
       "<Figure size 1440x360 with 2 Axes>"
      ]
     },
     "metadata": {
      "needs_background": "light"
     },
     "output_type": "display_data"
    }
   ],
   "source": [
    "aux = df4.loc[df4['response'] == 1,:]\n",
    "plt.figure(figsize=(20,5))\n",
    "plt.subplot(1,2,1)\n",
    "sns.histplot(data=aux, x='age')\n",
    "plt.subplot(1,2,2)\n",
    "bins = np.arange(20,90,5)\n",
    "aux['age_binned'] = pd.cut(aux['age'], bins)\n",
    "aux2 = aux.loc[:, ['response', 'age_binned']].groupby(['age_binned']).sum().reset_index()\n",
    "sns.barplot(data=aux2, x='age_binned',y='response')\n",
    "plt.xticks(rotation=90);"
   ]
  },
  {
   "cell_type": "code",
   "execution_count": 389,
   "metadata": {},
   "outputs": [
    {
     "name": "stdout",
     "output_type": "stream",
     "text": [
      "Total de pessoas que contratariam o seguro e tem mais de 30 anos: 0.8462\n",
      "Total de pessoas que contratariam o seguro e tem menos de 30 anos: 0.1364\n"
     ]
    }
   ],
   "source": [
    "less_30 =len(aux.loc[aux['age'] <30, : ])/len(aux)\n",
    "higher_30 = len(aux.loc[aux['age'] >30, : ])/len(aux)\n",
    "print('Total de pessoas que contratariam o seguro e tem mais de 30 anos: {:.4f}'.format(higher_30))\n",
    "print('Total de pessoas que contratariam o seguro e tem menos de 30 anos: {:.4f}'.format(less_30))\n"
   ]
  },
  {
   "attachments": {},
   "cell_type": "markdown",
   "metadata": {},
   "source": [
    "Hipótese é **verdadeira**, aproximadamente 85% das pessoas que contratariam o seguro tem mais de 30 anos de idade"
   ]
  },
  {
   "attachments": {},
   "cell_type": "markdown",
   "metadata": {},
   "source": [
    "### H5. Clientes cujo veículo já sofreu danos contratariam o seguro veicular"
   ]
  },
  {
   "cell_type": "code",
   "execution_count": 390,
   "metadata": {},
   "outputs": [
    {
     "data": {
      "text/plain": [
       "vehicle_damage\n",
       "Yes    0.5053\n",
       "No     0.4947\n",
       "Name: proportion, dtype: float64"
      ]
     },
     "execution_count": 390,
     "metadata": {},
     "output_type": "execute_result"
    }
   ],
   "source": [
    "df4['vehicle_damage'].value_counts(normalize=True)"
   ]
  },
  {
   "cell_type": "markdown",
   "metadata": {},
   "source": [
    "### H6. Somente clientes habilitados contratariam o seguro veicular\n"
   ]
  },
  {
   "cell_type": "code",
   "execution_count": 391,
   "metadata": {},
   "outputs": [
    {
     "data": {
      "text/plain": [
       "driving_license\n",
       "1    0.997833\n",
       "0    0.002167\n",
       "Name: proportion, dtype: float64"
      ]
     },
     "execution_count": 391,
     "metadata": {},
     "output_type": "execute_result"
    }
   ],
   "source": [
    "df4['driving_license'].value_counts(normalize=True)"
   ]
  },
  {
   "attachments": {},
   "cell_type": "markdown",
   "metadata": {},
   "source": [
    "Hipótese verdadeira, 99,7% dos clientes que contratariam o seguro são habilitados."
   ]
  },
  {
   "cell_type": "markdown",
   "metadata": {},
   "source": [
    "### H7. Clientes mais antigos da seguradora contratariam o seguro veicular\n"
   ]
  },
  {
   "cell_type": "code",
   "execution_count": 392,
   "metadata": {},
   "outputs": [
    {
     "data": {
      "image/png": "[encoded data removed]",
      "text/plain": [
       "<Figure size 1440x360 with 1 Axes>"
      ]
     },
     "metadata": {
      "needs_background": "light"
     },
     "output_type": "display_data"
    }
   ],
   "source": [
    "aux = df4.loc[df4['response'] == 1, ['response', 'vintage']]\n",
    "plt.figure(figsize=(20,5))\n",
    "bins = np.arange(1,320,30)\n",
    "aux['vintage_binned'] = pd.cut(aux['vintage'], bins = bins)\n",
    "aux2 = aux.loc[:, ['response','vintage_binned']].groupby(['vintage_binned']).sum().reset_index()\n",
    "sns.barplot(data=aux2,x='vintage_binned', y='response')\n",
    "plt.xticks(rotation=90);\n"
   ]
  },
  {
   "attachments": {},
   "cell_type": "markdown",
   "metadata": {},
   "source": [
    "## 4.3 Multivariate Analysis"
   ]
  },
  {
   "cell_type": "code",
   "execution_count": 393,
   "metadata": {},
   "outputs": [
    {
     "data": {
      "text/plain": [
       "<Axes: >"
      ]
     },
     "execution_count": 393,
     "metadata": {},
     "output_type": "execute_result"
    },
    {
     "data": {
      "image/png": "[encoded data removed]",
      "text/plain": [
       "<Figure size 1440x720 with 2 Axes>"
      ]
     },
     "metadata": {
      "needs_background": "light"
     },
     "output_type": "display_data"
    }
   ],
   "source": [
    "\n",
    "plt.figure(figsize=(20,10))\n",
    "sns.heatmap(numerical_features.corr('pearson'), annot=True)\n",
    "\n"
   ]
  },
  {
   "attachments": {},
   "cell_type": "markdown",
   "metadata": {},
   "source": [
    "# 5.0 Data Preparation"
   ]
  },
  {
   "cell_type": "code",
   "execution_count": 394,
   "metadata": {},
   "outputs": [
    {
     "data": {
      "text/html": [
       "<div>\n",
       "<style scoped>\n",
       "    .dataframe tbody tr th:only-of-type {\n",
       "        vertical-align: middle;\n",
       "    }\n",
       "\n",
       "    .dataframe tbody tr th {\n",
       "        vertical-align: top;\n",
       "    }\n",
       "\n",
       "    .dataframe thead th {\n",
       "        text-align: right;\n",
       "    }\n",
       "</style>\n",
       "<table border=\"1\" class=\"dataframe\">\n",
       "  <thead>\n",
       "    <tr style=\"text-align: right;\">\n",
       "      <th></th>\n",
       "      <th>id</th>\n",
       "      <th>gender</th>\n",
       "      <th>age</th>\n",
       "      <th>driving_license</th>\n",
       "      <th>region_code</th>\n",
       "      <th>previously_insured</th>\n",
       "      <th>vehicle_age</th>\n",
       "      <th>vehicle_damage</th>\n",
       "      <th>annual_premium</th>\n",
       "      <th>policy_sales_channel</th>\n",
       "      <th>vintage</th>\n",
       "      <th>response</th>\n",
       "    </tr>\n",
       "  </thead>\n",
       "  <tbody>\n",
       "    <tr>\n",
       "      <th>240051</th>\n",
       "      <td>240052</td>\n",
       "      <td>Male</td>\n",
       "      <td>46</td>\n",
       "      <td>1</td>\n",
       "      <td>14.0</td>\n",
       "      <td>0</td>\n",
       "      <td>1-2 Year</td>\n",
       "      <td>Yes</td>\n",
       "      <td>33721.0</td>\n",
       "      <td>124.0</td>\n",
       "      <td>27</td>\n",
       "      <td>1</td>\n",
       "    </tr>\n",
       "    <tr>\n",
       "      <th>249637</th>\n",
       "      <td>249638</td>\n",
       "      <td>Male</td>\n",
       "      <td>40</td>\n",
       "      <td>1</td>\n",
       "      <td>41.0</td>\n",
       "      <td>0</td>\n",
       "      <td>1-2 Year</td>\n",
       "      <td>Yes</td>\n",
       "      <td>21717.0</td>\n",
       "      <td>124.0</td>\n",
       "      <td>287</td>\n",
       "      <td>0</td>\n",
       "    </tr>\n",
       "    <tr>\n",
       "      <th>26243</th>\n",
       "      <td>26244</td>\n",
       "      <td>Male</td>\n",
       "      <td>23</td>\n",
       "      <td>1</td>\n",
       "      <td>28.0</td>\n",
       "      <td>0</td>\n",
       "      <td>1-2 Year</td>\n",
       "      <td>Yes</td>\n",
       "      <td>2630.0</td>\n",
       "      <td>158.0</td>\n",
       "      <td>92</td>\n",
       "      <td>0</td>\n",
       "    </tr>\n",
       "    <tr>\n",
       "      <th>2907</th>\n",
       "      <td>2908</td>\n",
       "      <td>Male</td>\n",
       "      <td>38</td>\n",
       "      <td>1</td>\n",
       "      <td>28.0</td>\n",
       "      <td>0</td>\n",
       "      <td>1-2 Year</td>\n",
       "      <td>Yes</td>\n",
       "      <td>24197.0</td>\n",
       "      <td>26.0</td>\n",
       "      <td>258</td>\n",
       "      <td>0</td>\n",
       "    </tr>\n",
       "    <tr>\n",
       "      <th>316530</th>\n",
       "      <td>316531</td>\n",
       "      <td>Female</td>\n",
       "      <td>36</td>\n",
       "      <td>1</td>\n",
       "      <td>8.0</td>\n",
       "      <td>0</td>\n",
       "      <td>1-2 Year</td>\n",
       "      <td>Yes</td>\n",
       "      <td>25117.0</td>\n",
       "      <td>19.0</td>\n",
       "      <td>148</td>\n",
       "      <td>0</td>\n",
       "    </tr>\n",
       "  </tbody>\n",
       "</table>\n",
       "</div>"
      ],
      "text/plain": [
       "            id  gender  age  driving_license  region_code  previously_insured   \n",
       "240051  240052    Male   46                1         14.0                   0  \\\n",
       "249637  249638    Male   40                1         41.0                   0   \n",
       "26243    26244    Male   23                1         28.0                   0   \n",
       "2907      2908    Male   38                1         28.0                   0   \n",
       "316530  316531  Female   36                1          8.0                   0   \n",
       "\n",
       "       vehicle_age vehicle_damage  annual_premium  policy_sales_channel   \n",
       "240051    1-2 Year            Yes         33721.0                 124.0  \\\n",
       "249637    1-2 Year            Yes         21717.0                 124.0   \n",
       "26243     1-2 Year            Yes          2630.0                 158.0   \n",
       "2907      1-2 Year            Yes         24197.0                  26.0   \n",
       "316530    1-2 Year            Yes         25117.0                  19.0   \n",
       "\n",
       "        vintage  response  \n",
       "240051       27         1  \n",
       "249637      287         0  \n",
       "26243        92         0  \n",
       "2907        258         0  \n",
       "316530      148         0  "
      ]
     },
     "execution_count": 394,
     "metadata": {},
     "output_type": "execute_result"
    }
   ],
   "source": [
    "df5 = df4.copy()\n",
    "df5.sample(5)"
   ]
  },
  {
   "attachments": {},
   "cell_type": "markdown",
   "metadata": {},
   "source": [
    "### 5.1 Encodind"
   ]
  },
  {
   "cell_type": "code",
   "execution_count": 395,
   "metadata": {},
   "outputs": [
    {
     "name": "stderr",
     "output_type": "stream",
     "text": [
      "/home/alexandrerod/anaconda3/envs/HealthInsurance/lib/python3.11/site-packages/sklearn/preprocessing/_label.py:116: DataConversionWarning: A column-vector y was passed when a 1d array was expected. Please change the shape of y to (n_samples, ), for example using ravel().\n",
      "  y = column_or_1d(y, warn=True)\n",
      "/home/alexandrerod/anaconda3/envs/HealthInsurance/lib/python3.11/site-packages/sklearn/preprocessing/_label.py:134: DataConversionWarning: A column-vector y was passed when a 1d array was expected. Please change the shape of y to (n_samples, ), for example using ravel().\n",
      "  y = column_or_1d(y, dtype=self.classes_.dtype, warn=True)\n"
     ]
    }
   ],
   "source": [
    "################# Train Data ###############\n",
    "\n",
    "le_vehicle_age = pp.LabelEncoder()\n",
    "\n",
    "\n",
    "\n",
    "#gender train\n",
    "df5 = pd.get_dummies(df5, prefix=['gender'], columns=['gender']  ,dtype='int64')\n",
    "\n",
    "#gender test\n",
    "df_test = pd.get_dummies(df_test, prefix=['gender'], columns=['gender'], dtype='int64' )\n",
    "\n",
    "#vehicle_age train\n",
    "df5['vehicle_age'] = le_vehicle_age.fit_transform(df5[['vehicle_age']].values)\n",
    "#vehicle_age test\n",
    "df_test['vehicle_age'] = le_vehicle_age.transform(df_test[['vehicle_age']].values)\n",
    "\n",
    "#vehicle_damage train\n",
    "df5 = pd.get_dummies(df5, prefix=['vehicle_damage'], columns=['vehicle_damage'] ,dtype='int64' )\n",
    "\n",
    "#vehicle_damage test\n",
    "df_test = pd.get_dummies(df_test, prefix=['vehicle_damage'], columns=['vehicle_damage'], dtype='int64'  )\n",
    "\n",
    "\n"
   ]
  },
  {
   "attachments": {},
   "cell_type": "markdown",
   "metadata": {},
   "source": [
    "### 5.3 Rescaling"
   ]
  },
  {
   "cell_type": "code",
   "execution_count": 396,
   "metadata": {},
   "outputs": [],
   "source": [
    "rs_annual = pp.RobustScaler()\n",
    "rs_vintage = pp.RobustScaler()\n",
    "\n",
    "mms_age= pp.MinMaxScaler()\n",
    "mms_region = pp.MinMaxScaler()\n",
    "mms_policy = pp.MinMaxScaler()\n",
    "\n",
    "\n",
    "\n",
    "#age train\n",
    "df5['age'] = mms_age.fit_transform(df5[['age']].values)\n",
    "pickle.dump(mms_age,open('../parameters/age_scaler.pkl', 'wb'))\n",
    "#age test\n",
    "df_test['age'] = mms_age.transform(df_test[['age']].values)\n",
    "\n",
    "#region_code train\n",
    "df5['region_code'] = mms_region.fit_transform(df5[['region_code']].values)\n",
    "pickle.dump(mms_region, open('../parameters/region_scaler.pkl', 'wb'))\n",
    "#region_code test\n",
    "df_test['region_code'] = mms_region.transform(df_test[['region_code']].values)\n",
    "\n",
    "#annual_premium train\n",
    "df5['annual_premium'] = rs_annual.fit_transform(df5[['annual_premium']].values)\n",
    "pickle.dump(rs_annual, open('../parameters/annual_premium.pkl', 'wb'))\n",
    "\n",
    "#annual_premium test\n",
    "df_test['annual_premium'] = rs_annual.transform(df_test[['annual_premium']].values)\n",
    "\n",
    "#policy_sales_channel train\n",
    "df5['policy_sales_channel'] = mms_policy.fit_transform(df5[['policy_sales_channel']].values)\n",
    "pickle.dump(mms_policy, open('../parameters/policy_chanel_scaler.pkl', 'wb'))\n",
    "\n",
    "#policy_sales_channel test\n",
    "df_test['policy_sales_channel'] = mms_policy.transform(df_test[['policy_sales_channel']].values)\n",
    "\n",
    "#vintage train\n",
    "df5['vintage'] = rs_vintage.fit_transform(df5[['vintage']].values)\n",
    "pickle.dump(rs_vintage, open('../parameters/vintage_scaler.pkl', 'wb'))\n",
    "#vintage test\n",
    "df_test['vintage'] = rs_vintage.transform(df_test[['vintage']].values)\n"
   ]
  },
  {
   "attachments": {},
   "cell_type": "markdown",
   "metadata": {},
   "source": [
    "# 6.0 Feature Selection"
   ]
  },
  {
   "cell_type": "code",
   "execution_count": 397,
   "metadata": {},
   "outputs": [
    {
     "name": "stdout",
     "output_type": "stream",
     "text": [
      "Number of rows in x_train: 266776\n",
      "Number of rows in x_test: 114333\n",
      "Number of rows in y_train: 266776\n",
      "Number of rows in y_teste: 114333\n"
     ]
    }
   ],
   "source": [
    "X_train = df5.drop('response', axis=1)\n",
    "y_train = df5['response']\n",
    "\n",
    "X_test = df_test.drop('response', axis=1)\n",
    "y_test = df_test['response']\n",
    "\n",
    "print('Number of rows in x_train: {}'.format(len(X_train)))\n",
    "print('Number of rows in x_test: {}'.format(len(X_test)))\n",
    "print('Number of rows in y_train: {}'.format(len(y_train)))\n",
    "print('Number of rows in y_teste: {}'.format(len(y_test)))\n"
   ]
  },
  {
   "attachments": {},
   "cell_type": "markdown",
   "metadata": {},
   "source": [
    "## 6.1 Boruta as Feat Selector"
   ]
  },
  {
   "cell_type": "code",
   "execution_count": 398,
   "metadata": {},
   "outputs": [],
   "source": [
    "# X_train_n = X_train.values\n",
    "# y_train_n = y_train.ravel()\n",
    "\n",
    "# rf= en.RandomForestClassifier(n_jobs=-1, max_depth=5)"
   ]
  },
  {
   "attachments": {},
   "cell_type": "markdown",
   "metadata": {},
   "source": [
    "## 6.2 Features Select from boruta"
   ]
  },
  {
   "cell_type": "code",
   "execution_count": 399,
   "metadata": {},
   "outputs": [],
   "source": [
    "# boruta = BorutaPy(rf, n_estimators='auto', verbose=2, random_state=42)\n",
    "\n",
    "# boruta.fit(X_train_n, y_train_n)"
   ]
  },
  {
   "cell_type": "code",
   "execution_count": 400,
   "metadata": {},
   "outputs": [],
   "source": [
    "# cols_selected = boruta.support_.tolist()\n",
    "# cols_selected\n",
    "# X_train_fs = X_train\n",
    "# cols_selected_boruta = X_train_fs.iloc[:,cols_selected].columns.tolist()\n",
    "# cols_selected_boruta\n"
   ]
  },
  {
   "attachments": {},
   "cell_type": "markdown",
   "metadata": {},
   "source": [
    "## 6.3 Manual Feature Selection"
   ]
  },
  {
   "cell_type": "code",
   "execution_count": 401,
   "metadata": {},
   "outputs": [],
   "source": [
    "cols_selected_boruta = ['age',\n",
    " 'driving_license',\n",
    " 'region_code',\n",
    " 'previously_insured',\n",
    " 'vehicle_age',\n",
    " 'annual_premium',\n",
    " 'policy_sales_channel',\n",
    " 'gender_Female',\n",
    " 'gender_Male',\n",
    " 'vehicle_damage_No',\n",
    " 'vehicle_damage_Yes']"
   ]
  },
  {
   "attachments": {},
   "cell_type": "markdown",
   "metadata": {},
   "source": [
    "# 7.0 Machine Learning Modelling"
   ]
  },
  {
   "cell_type": "code",
   "execution_count": 402,
   "metadata": {},
   "outputs": [],
   "source": [
    "x_train = X_train[cols_selected_boruta]\n",
    "x_test = X_test[cols_selected_boruta]\n"
   ]
  },
  {
   "attachments": {},
   "cell_type": "markdown",
   "metadata": {},
   "source": [
    "## 7.1 KNN"
   ]
  },
  {
   "cell_type": "code",
   "execution_count": 416,
   "metadata": {},
   "outputs": [
    {
     "data": {
      "text/plain": [
       "<Axes: title={'center': 'Cumulative Gains Curve'}, xlabel='Percentage of sample', ylabel='Gain'>"
      ]
     },
     "execution_count": 416,
     "metadata": {},
     "output_type": "execute_result"
    },
    {
     "data": {
      "image/png": "[encoded data removed]",
      "text/plain": [
       "<Figure size 432x288 with 1 Axes>"
      ]
     },
     "metadata": {
      "needs_background": "light"
     },
     "output_type": "display_data"
    }
   ],
   "source": [
    "knn = ng.KNeighborsClassifier(n_neighbors=10)\n",
    "\n",
    "#model training\n",
    "knn.fit(x_train, y_train)\n",
    "\n",
    "#predict\n",
    "\n",
    "yhat_knn = knn.predict_proba(x_test)\n",
    "#performance\n",
    "sktplt.metrics.plot_cumulative_gain(y_test, yhat_knn)"
   ]
  },
  {
   "attachments": {},
   "cell_type": "markdown",
   "metadata": {},
   "source": [
    "#### 7.1.1 KNN - CROSS VALIDATION"
   ]
  },
  {
   "cell_type": "code",
   "execution_count": 417,
   "metadata": {},
   "outputs": [
    {
     "data": {
      "text/html": [
       "<div>\n",
       "<style scoped>\n",
       "    .dataframe tbody tr th:only-of-type {\n",
       "        vertical-align: middle;\n",
       "    }\n",
       "\n",
       "    .dataframe tbody tr th {\n",
       "        vertical-align: top;\n",
       "    }\n",
       "\n",
       "    .dataframe thead th {\n",
       "        text-align: right;\n",
       "    }\n",
       "</style>\n",
       "<table border=\"1\" class=\"dataframe\">\n",
       "  <thead>\n",
       "    <tr style=\"text-align: right;\">\n",
       "      <th></th>\n",
       "      <th>Model name</th>\n",
       "      <th>Precision at k</th>\n",
       "      <th>Recall at k</th>\n",
       "    </tr>\n",
       "  </thead>\n",
       "  <tbody>\n",
       "    <tr>\n",
       "      <th>0</th>\n",
       "      <td>KNN CV</td>\n",
       "      <td>0.270856</td>\n",
       "      <td>0.37827</td>\n",
       "    </tr>\n",
       "  </tbody>\n",
       "</table>\n",
       "</div>"
      ],
      "text/plain": [
       "  Model name  Precision at k  Recall at k\n",
       "0     KNN CV        0.270856      0.37827"
      ]
     },
     "execution_count": 417,
     "metadata": {},
     "output_type": "execute_result"
    }
   ],
   "source": [
    "knn_cv = cross_validation('KNN CV', knn, x_train,y_train, kfold=5)\n",
    "knn_cv"
   ]
  },
  {
   "attachments": {},
   "cell_type": "markdown",
   "metadata": {},
   "source": [
    "## 7.2 Decision Three"
   ]
  },
  {
   "cell_type": "code",
   "execution_count": 427,
   "metadata": {},
   "outputs": [
    {
     "data": {
      "text/plain": [
       "<Axes: title={'center': 'Cumulative Gains Curve'}, xlabel='Percentage of sample', ylabel='Gain'>"
      ]
     },
     "execution_count": 427,
     "metadata": {},
     "output_type": "execute_result"
    },
    {
     "data": {
      "image/png": "[encoded data removed]",
      "text/plain": [
       "<Figure size 432x288 with 1 Axes>"
      ]
     },
     "metadata": {
      "needs_background": "light"
     },
     "output_type": "display_data"
    }
   ],
   "source": [
    "model_tr = tr.DecisionTreeClassifier(max_depth=5)\n",
    "\n",
    "model_tr.fit(x_train, y_train)\n",
    "\n",
    "yhat_tr = model_tr.predict_proba(x_test)\n",
    "sktplt.metrics.plot_cumulative_gain(y_test, yhat_tr)"
   ]
  },
  {
   "attachments": {},
   "cell_type": "markdown",
   "metadata": {},
   "source": [
    "#### 7.2.1 Decision Tree Cross Validation"
   ]
  },
  {
   "cell_type": "code",
   "execution_count": 429,
   "metadata": {},
   "outputs": [
    {
     "data": {
      "text/html": [
       "<div>\n",
       "<style scoped>\n",
       "    .dataframe tbody tr th:only-of-type {\n",
       "        vertical-align: middle;\n",
       "    }\n",
       "\n",
       "    .dataframe tbody tr th {\n",
       "        vertical-align: top;\n",
       "    }\n",
       "\n",
       "    .dataframe thead th {\n",
       "        text-align: right;\n",
       "    }\n",
       "</style>\n",
       "<table border=\"1\" class=\"dataframe\">\n",
       "  <thead>\n",
       "    <tr style=\"text-align: right;\">\n",
       "      <th></th>\n",
       "      <th>Model name</th>\n",
       "      <th>Precision at k</th>\n",
       "      <th>Recall at k</th>\n",
       "    </tr>\n",
       "  </thead>\n",
       "  <tbody>\n",
       "    <tr>\n",
       "      <th>0</th>\n",
       "      <td>Decision Tree CV</td>\n",
       "      <td>0.286416</td>\n",
       "      <td>0.37827</td>\n",
       "    </tr>\n",
       "  </tbody>\n",
       "</table>\n",
       "</div>"
      ],
      "text/plain": [
       "         Model name  Precision at k  Recall at k\n",
       "0  Decision Tree CV        0.286416      0.37827"
      ]
     },
     "execution_count": 429,
     "metadata": {},
     "output_type": "execute_result"
    }
   ],
   "source": [
    "tr_cv = cross_validation('Decision Tree CV', model_tr, x_train, y_train, kfold=5)\n",
    "tr_cv"
   ]
  },
  {
   "attachments": {},
   "cell_type": "markdown",
   "metadata": {},
   "source": [
    "## 7.3 Random Forest"
   ]
  },
  {
   "cell_type": "code",
   "execution_count": 428,
   "metadata": {},
   "outputs": [
    {
     "data": {
      "text/plain": [
       "<Axes: title={'center': 'Cumulative Gains Curve'}, xlabel='Percentage of sample', ylabel='Gain'>"
      ]
     },
     "execution_count": 428,
     "metadata": {},
     "output_type": "execute_result"
    },
    {
     "data": {
      "image/png": "[encoded data removed]",
      "text/plain": [
       "<Figure size 432x288 with 1 Axes>"
      ]
     },
     "metadata": {
      "needs_background": "light"
     },
     "output_type": "display_data"
    }
   ],
   "source": [
    "#model definition\n",
    " \n",
    "rf= en.RandomForestClassifier(n_estimators= 1000,max_depth=5, n_jobs=-1, random_state=42)\n",
    "#model training\n",
    "rf.fit(x_train, y_train)\n",
    "yhat_rf = rf.predict_proba(x_test)\n",
    "sktplt.metrics.plot_cumulative_gain(y_test, yhat_rf)"
   ]
  },
  {
   "attachments": {},
   "cell_type": "markdown",
   "metadata": {},
   "source": [
    "#### 7.3.1 Random Forest Cross Validation"
   ]
  },
  {
   "cell_type": "code",
   "execution_count": 430,
   "metadata": {},
   "outputs": [
    {
     "data": {
      "text/html": [
       "<div>\n",
       "<style scoped>\n",
       "    .dataframe tbody tr th:only-of-type {\n",
       "        vertical-align: middle;\n",
       "    }\n",
       "\n",
       "    .dataframe tbody tr th {\n",
       "        vertical-align: top;\n",
       "    }\n",
       "\n",
       "    .dataframe thead th {\n",
       "        text-align: right;\n",
       "    }\n",
       "</style>\n",
       "<table border=\"1\" class=\"dataframe\">\n",
       "  <thead>\n",
       "    <tr style=\"text-align: right;\">\n",
       "      <th></th>\n",
       "      <th>Model name</th>\n",
       "      <th>Precision at k</th>\n",
       "      <th>Recall at k</th>\n",
       "    </tr>\n",
       "  </thead>\n",
       "  <tbody>\n",
       "    <tr>\n",
       "      <th>0</th>\n",
       "      <td>Random Forest CV</td>\n",
       "      <td>0.287896</td>\n",
       "      <td>0.37827</td>\n",
       "    </tr>\n",
       "  </tbody>\n",
       "</table>\n",
       "</div>"
      ],
      "text/plain": [
       "         Model name  Precision at k  Recall at k\n",
       "0  Random Forest CV        0.287896      0.37827"
      ]
     },
     "execution_count": 430,
     "metadata": {},
     "output_type": "execute_result"
    }
   ],
   "source": [
    "rf_cv = cross_validation('Random Forest CV', rf, x_train, y_train, kfold=5)\n",
    "rf_cv"
   ]
  },
  {
   "attachments": {},
   "cell_type": "markdown",
   "metadata": {},
   "source": [
    "## 7.5 Model Performance"
   ]
  },
  {
   "attachments": {},
   "cell_type": "markdown",
   "metadata": {},
   "source": [
    "### 7.5.1 KNN"
   ]
  },
  {
   "cell_type": "code",
   "execution_count": 422,
   "metadata": {},
   "outputs": [
    {
     "data": {
      "text/plain": [
       "Index(['Model name', 'Precision at k', 'Recall at k'], dtype='object')"
      ]
     },
     "execution_count": 422,
     "metadata": {},
     "output_type": "execute_result"
    }
   ],
   "source": [
    "df_knn = x_test.copy()\n",
    "df_knn['response'] = y_test.copy()\n",
    "#propensity score \n",
    "\n",
    "df_knn['score'] = yhat_knn[:,1].tolist()\n",
    "\n",
    "df_knn = df_knn.sort_values('score', ascending=False)\n",
    "\n",
    "result_knn  = model_result('Knn', x_test, y_test, yhat_knn ,2000)\n",
    "result_knn.columns\n"
   ]
  },
  {
   "attachments": {},
   "cell_type": "markdown",
   "metadata": {},
   "source": [
    "### 7.5.2 Decision Tree"
   ]
  },
  {
   "cell_type": "code",
   "execution_count": 431,
   "metadata": {},
   "outputs": [
    {
     "data": {
      "text/html": [
       "<div>\n",
       "<style scoped>\n",
       "    .dataframe tbody tr th:only-of-type {\n",
       "        vertical-align: middle;\n",
       "    }\n",
       "\n",
       "    .dataframe tbody tr th {\n",
       "        vertical-align: top;\n",
       "    }\n",
       "\n",
       "    .dataframe thead th {\n",
       "        text-align: right;\n",
       "    }\n",
       "</style>\n",
       "<table border=\"1\" class=\"dataframe\">\n",
       "  <thead>\n",
       "    <tr style=\"text-align: right;\">\n",
       "      <th></th>\n",
       "      <th>Model name</th>\n",
       "      <th>Precision at k</th>\n",
       "      <th>Recall at k</th>\n",
       "    </tr>\n",
       "  </thead>\n",
       "  <tbody>\n",
       "    <tr>\n",
       "      <th>0</th>\n",
       "      <td>Decision Tree</td>\n",
       "      <td>0.318341</td>\n",
       "      <td>0.018036</td>\n",
       "    </tr>\n",
       "  </tbody>\n",
       "</table>\n",
       "</div>"
      ],
      "text/plain": [
       "      Model name  Precision at k  Recall at k\n",
       "0  Decision Tree        0.318341     0.018036"
      ]
     },
     "execution_count": 431,
     "metadata": {},
     "output_type": "execute_result"
    }
   ],
   "source": [
    "df_tr = x_test.copy()\n",
    "df_tr['response'] = y_test.copy()\n",
    "\n",
    "#propensity score\n",
    "df_tr['score'] = yhat_tr[:,1].tolist()\n",
    "\n",
    "df_tr = df_tr.sort_values('score', ascending=False)\n",
    "\n",
    "result_tr = model_result('Decision Tree', x_test, y_test,yhat_tr, 2000)\n",
    "result_tr"
   ]
  },
  {
   "attachments": {},
   "cell_type": "markdown",
   "metadata": {},
   "source": [
    "### 7.5.3 Random Forest"
   ]
  },
  {
   "cell_type": "code",
   "execution_count": 432,
   "metadata": {},
   "outputs": [
    {
     "data": {
      "text/html": [
       "<div>\n",
       "<style scoped>\n",
       "    .dataframe tbody tr th:only-of-type {\n",
       "        vertical-align: middle;\n",
       "    }\n",
       "\n",
       "    .dataframe tbody tr th {\n",
       "        vertical-align: top;\n",
       "    }\n",
       "\n",
       "    .dataframe thead th {\n",
       "        text-align: right;\n",
       "    }\n",
       "</style>\n",
       "<table border=\"1\" class=\"dataframe\">\n",
       "  <thead>\n",
       "    <tr style=\"text-align: right;\">\n",
       "      <th></th>\n",
       "      <th>Model name</th>\n",
       "      <th>Precision at k</th>\n",
       "      <th>Recall at k</th>\n",
       "    </tr>\n",
       "  </thead>\n",
       "  <tbody>\n",
       "    <tr>\n",
       "      <th>0</th>\n",
       "      <td>Random Forest</td>\n",
       "      <td>0.416292</td>\n",
       "      <td>0.018036</td>\n",
       "    </tr>\n",
       "  </tbody>\n",
       "</table>\n",
       "</div>"
      ],
      "text/plain": [
       "      Model name  Precision at k  Recall at k\n",
       "0  Random Forest        0.416292     0.018036"
      ]
     },
     "execution_count": 432,
     "metadata": {},
     "output_type": "execute_result"
    }
   ],
   "source": [
    "df_rf = x_test.copy()\n",
    "df_rf['response'] = y_test.copy()\n",
    "\n",
    "#propensity score\n",
    "\n",
    "df_rf['score'] = yhat_rf[:,1].tolist()\n",
    "\n",
    "df_rf = df_rf.sort_values('score', ascending=False)\n",
    "\n",
    "result_rf = model_result('Random Forest', x_test,y_test,yhat= yhat_rf,k=2000)\n",
    "result_rf\n"
   ]
  },
  {
   "attachments": {},
   "cell_type": "markdown",
   "metadata": {},
   "source": [
    "## 7.6 Compare model performance\n"
   ]
  },
  {
   "cell_type": "code",
   "execution_count": 433,
   "metadata": {},
   "outputs": [
    {
     "data": {
      "text/html": [
       "<div>\n",
       "<style scoped>\n",
       "    .dataframe tbody tr th:only-of-type {\n",
       "        vertical-align: middle;\n",
       "    }\n",
       "\n",
       "    .dataframe tbody tr th {\n",
       "        vertical-align: top;\n",
       "    }\n",
       "\n",
       "    .dataframe thead th {\n",
       "        text-align: right;\n",
       "    }\n",
       "</style>\n",
       "<table border=\"1\" class=\"dataframe\">\n",
       "  <thead>\n",
       "    <tr style=\"text-align: right;\">\n",
       "      <th></th>\n",
       "      <th>Model name</th>\n",
       "      <th>Precision at k</th>\n",
       "      <th>Recall at k</th>\n",
       "    </tr>\n",
       "  </thead>\n",
       "  <tbody>\n",
       "    <tr>\n",
       "      <th>0</th>\n",
       "      <td>Knn</td>\n",
       "      <td>0.368816</td>\n",
       "      <td>0.018036</td>\n",
       "    </tr>\n",
       "    <tr>\n",
       "      <th>1</th>\n",
       "      <td>Decision Tree</td>\n",
       "      <td>0.318341</td>\n",
       "      <td>0.018036</td>\n",
       "    </tr>\n",
       "    <tr>\n",
       "      <th>2</th>\n",
       "      <td>Random Forest</td>\n",
       "      <td>0.416292</td>\n",
       "      <td>0.018036</td>\n",
       "    </tr>\n",
       "  </tbody>\n",
       "</table>\n",
       "</div>"
      ],
      "text/plain": [
       "      Model name  Precision at k  Recall at k\n",
       "0            Knn        0.368816     0.018036\n",
       "1  Decision Tree        0.318341     0.018036\n",
       "2  Random Forest        0.416292     0.018036"
      ]
     },
     "execution_count": 433,
     "metadata": {},
     "output_type": "execute_result"
    }
   ],
   "source": [
    "final_performance = pd.concat([result_knn, result_tr, result_rf])\n",
    "final_performance.reset_index(drop=True)"
   ]
  },
  {
   "cell_type": "code",
   "execution_count": 434,
   "metadata": {},
   "outputs": [
    {
     "data": {
      "text/html": [
       "<div>\n",
       "<style scoped>\n",
       "    .dataframe tbody tr th:only-of-type {\n",
       "        vertical-align: middle;\n",
       "    }\n",
       "\n",
       "    .dataframe tbody tr th {\n",
       "        vertical-align: top;\n",
       "    }\n",
       "\n",
       "    .dataframe thead th {\n",
       "        text-align: right;\n",
       "    }\n",
       "</style>\n",
       "<table border=\"1\" class=\"dataframe\">\n",
       "  <thead>\n",
       "    <tr style=\"text-align: right;\">\n",
       "      <th></th>\n",
       "      <th>Model name</th>\n",
       "      <th>Precision at k</th>\n",
       "      <th>Recall at k</th>\n",
       "    </tr>\n",
       "  </thead>\n",
       "  <tbody>\n",
       "    <tr>\n",
       "      <th>0</th>\n",
       "      <td>KNN CV</td>\n",
       "      <td>0.270856</td>\n",
       "      <td>0.37827</td>\n",
       "    </tr>\n",
       "    <tr>\n",
       "      <th>1</th>\n",
       "      <td>Decision Tree CV</td>\n",
       "      <td>0.286416</td>\n",
       "      <td>0.37827</td>\n",
       "    </tr>\n",
       "    <tr>\n",
       "      <th>2</th>\n",
       "      <td>Random Forest CV</td>\n",
       "      <td>0.287896</td>\n",
       "      <td>0.37827</td>\n",
       "    </tr>\n",
       "  </tbody>\n",
       "</table>\n",
       "</div>"
      ],
      "text/plain": [
       "         Model name  Precision at k  Recall at k\n",
       "0            KNN CV        0.270856      0.37827\n",
       "1  Decision Tree CV        0.286416      0.37827\n",
       "2  Random Forest CV        0.287896      0.37827"
      ]
     },
     "execution_count": 434,
     "metadata": {},
     "output_type": "execute_result"
    }
   ],
   "source": [
    "performance_cv= pd.concat([knn_cv,tr_cv, rf_cv])\n",
    "performance_cv.reset_index(drop=True)"
   ]
  }
 ],
 "metadata": {
  "kernelspec": {
   "display_name": "HealthInsurance",
   "language": "python",
   "name": "python3"
  },
  "language_info": {
   "codemirror_mode": {
    "name": "ipython",
    "version": 3
   },
   "file_extension": ".py",
   "mimetype": "text/x-python",
   "name": "python",
   "nbconvert_exporter": "python",
   "pygments_lexer": "ipython3",
   "version": "3.11.3"
  },
  "orig_nbformat": 4
 },
 "nbformat": 4,
 "nbformat_minor": 2
}
