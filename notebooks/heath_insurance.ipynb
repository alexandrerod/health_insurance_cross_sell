{
 "cells": [
  {
   "attachments": {},
   "cell_type": "markdown",
   "metadata": {},
   "source": [
    "# 0.0 Imports\n"
   ]
  },
  {
   "cell_type": "code",
   "execution_count": 128,
   "metadata": {},
   "outputs": [],
   "source": [
    "import pandas as pd\n",
    "import numpy as np\n",
    "import inflection\n",
    "\n",
    "import seaborn as sns\n",
    "import matplotlib.pyplot as plt\n",
    "import psycopg2 as pg\n",
    "import pickle\n",
    "import random\n",
    "from sklearn import model_selection as ms\n",
    "from sklearn import metrics as mt\n",
    "from sklearn import linear_model as lm\n",
    "from sklearn import tree as tr\n",
    "from sklearn import preprocessing as pp\n",
    "from sklearn import ensemble as en\n",
    "from sklearn import neighbors as ng\n",
    "from boruta import BorutaPy\n",
    "import xgboost as xgb\n",
    "\n",
    "from flask import Flask, request, Response\n",
    "import json\n",
    "import requests\n",
    "\n",
    "import scikitplot as sktplt\n",
    "from imblearn import under_sampling as us"
   ]
  },
  {
   "attachments": {},
   "cell_type": "markdown",
   "metadata": {},
   "source": [
    "## 0.1 Helper Functions"
   ]
  },
  {
   "cell_type": "code",
   "execution_count": 129,
   "metadata": {},
   "outputs": [],
   "source": [
    "def precision_at_k(X_test, y_test, yhat, k=2000):\n",
    "\n",
    "    data = X_test.copy()\n",
    "    data['response'] = y_test.copy()\n",
    "\n",
    " \n",
    "    data['score'] = yhat[:,1].tolist()\n",
    "    data = data.sort_values('score', ascending=False)\n",
    "\n",
    "\n",
    "    data = data.reset_index(drop=True)\n",
    "    data['ranking'] = data.index +1 \n",
    "\n",
    "    data['precision_at_k'] = data['response'].cumsum()/data['ranking']\n",
    "\n",
    "    return data.loc[k,'precision_at_k']\n",
    "\n",
    "def recall_at_k(X_test, y_test,yhat, k=2000):\n",
    "\n",
    "    data = X_test.copy()\n",
    "    data['response'] = y_test.copy()\n",
    "\n",
    "    data['score'] = yhat[:,1].tolist()\n",
    "    data = data.sort_values('score', ascending=False)\n",
    "\n",
    "\n",
    "    data = data.reset_index(drop=True)\n",
    "    data['ranking'] = data.index +1 \n",
    "\n",
    "    data['recall_at_k'] = data['response'].cumsum()/data['response'].sum()\n",
    "\n",
    "    return data.loc[k,'recall_at_k']\n",
    "\n",
    "\n",
    "def model_result(model_name,X_test,y_test, yhat,k=2000):\n",
    "    name = model_name\n",
    "    precision = precision_at_k(X_test,y_test,yhat,k)\n",
    "    recall = recall_at_k(X_test, y_test,yhat,k)\n",
    "\n",
    "\n",
    "    return pd.DataFrame({'Model name': name, 'Precision at k': precision, 'Recall at k': recall}, index=[0])\n",
    "\n",
    "\n",
    "def cross_validation(model_name,model,x_train, y_train, kfold=5):\n",
    "\n",
    "    skf = ms.StratifiedKFold(n_splits=kfold, shuffle=True, random_state=42)\n",
    "\n",
    "    precision_list = []\n",
    "    recall_list = []\n",
    "\n",
    "    for train_index, val_index in skf.split(x_train,y_train):\n",
    "        x_train_cv, x_val_cv = x_train.iloc[train_index], x_train.iloc[val_index]\n",
    "        y_train_cv, y_val_cv = y_train.iloc[train_index], y_train.iloc[val_index]\n",
    "\n",
    "        #model definidtion\n",
    "        m = model.fit(x_train_cv, y_train_cv)\n",
    "        yhat_cv = m.predict_proba(x_val_cv)\n",
    "        ml_cv_result = model_result(model_name, x_val_cv, y_val_cv, yhat_cv, k=2000)\n",
    "        precision_list.append(ml_cv_result['Precision at k'])\n",
    "        recall_list.append(ml_cv_result['Recall at k'])\n",
    "        \n",
    "\n",
    "        metric = pd.DataFrame({'Model name': model_name, 'Precision at k': np.round(np.mean(precision_list),4).astype(str) + ' +/- ' + np.round(np.std(precision_list),4).astype(str) , \n",
    "                               'Recall at k': np.round(np.mean(recall_list),4).astype(str) + ' +/- ' + np.round(np.std(recall_list),4).astype(str)}, index=[0])\n",
    "\n",
    "    return metric\n",
    "    "
   ]
  },
  {
   "attachments": {},
   "cell_type": "markdown",
   "metadata": {},
   "source": [
    "## 0.2 Load Data"
   ]
  },
  {
   "cell_type": "code",
   "execution_count": 130,
   "metadata": {},
   "outputs": [],
   "source": [
    "data_train_raw = pd.read_csv('../inputs/train.csv')"
   ]
  },
  {
   "cell_type": "code",
   "execution_count": 316,
   "metadata": {},
   "outputs": [
    {
     "data": {
      "text/html": [
       "<div>\n",
       "<style scoped>\n",
       "    .dataframe tbody tr th:only-of-type {\n",
       "        vertical-align: middle;\n",
       "    }\n",
       "\n",
       "    .dataframe tbody tr th {\n",
       "        vertical-align: top;\n",
       "    }\n",
       "\n",
       "    .dataframe thead th {\n",
       "        text-align: right;\n",
       "    }\n",
       "</style>\n",
       "<table border=\"1\" class=\"dataframe\">\n",
       "  <thead>\n",
       "    <tr style=\"text-align: right;\">\n",
       "      <th></th>\n",
       "      <th>id</th>\n",
       "      <th>gender</th>\n",
       "      <th>age</th>\n",
       "      <th>driving_license</th>\n",
       "      <th>region_code</th>\n",
       "      <th>previously_insured</th>\n",
       "      <th>vehicle_age</th>\n",
       "      <th>vehicle_damage</th>\n",
       "      <th>annual_premium</th>\n",
       "      <th>policy_sales_channel</th>\n",
       "      <th>vintage</th>\n",
       "      <th>response</th>\n",
       "    </tr>\n",
       "  </thead>\n",
       "  <tbody>\n",
       "    <tr>\n",
       "      <th>0</th>\n",
       "      <td>1</td>\n",
       "      <td>Male</td>\n",
       "      <td>44</td>\n",
       "      <td>1</td>\n",
       "      <td>28.0</td>\n",
       "      <td>0</td>\n",
       "      <td>&gt; 2 Years</td>\n",
       "      <td>Yes</td>\n",
       "      <td>40454.0</td>\n",
       "      <td>26.0</td>\n",
       "      <td>217</td>\n",
       "      <td>1</td>\n",
       "    </tr>\n",
       "    <tr>\n",
       "      <th>1</th>\n",
       "      <td>2</td>\n",
       "      <td>Male</td>\n",
       "      <td>76</td>\n",
       "      <td>1</td>\n",
       "      <td>3.0</td>\n",
       "      <td>0</td>\n",
       "      <td>1-2 Year</td>\n",
       "      <td>No</td>\n",
       "      <td>33536.0</td>\n",
       "      <td>26.0</td>\n",
       "      <td>183</td>\n",
       "      <td>0</td>\n",
       "    </tr>\n",
       "    <tr>\n",
       "      <th>2</th>\n",
       "      <td>3</td>\n",
       "      <td>Male</td>\n",
       "      <td>47</td>\n",
       "      <td>1</td>\n",
       "      <td>28.0</td>\n",
       "      <td>0</td>\n",
       "      <td>&gt; 2 Years</td>\n",
       "      <td>Yes</td>\n",
       "      <td>38294.0</td>\n",
       "      <td>26.0</td>\n",
       "      <td>27</td>\n",
       "      <td>1</td>\n",
       "    </tr>\n",
       "    <tr>\n",
       "      <th>3</th>\n",
       "      <td>4</td>\n",
       "      <td>Male</td>\n",
       "      <td>21</td>\n",
       "      <td>1</td>\n",
       "      <td>11.0</td>\n",
       "      <td>1</td>\n",
       "      <td>&lt; 1 Year</td>\n",
       "      <td>No</td>\n",
       "      <td>28619.0</td>\n",
       "      <td>152.0</td>\n",
       "      <td>203</td>\n",
       "      <td>0</td>\n",
       "    </tr>\n",
       "    <tr>\n",
       "      <th>4</th>\n",
       "      <td>5</td>\n",
       "      <td>Female</td>\n",
       "      <td>29</td>\n",
       "      <td>1</td>\n",
       "      <td>41.0</td>\n",
       "      <td>1</td>\n",
       "      <td>&lt; 1 Year</td>\n",
       "      <td>No</td>\n",
       "      <td>27496.0</td>\n",
       "      <td>152.0</td>\n",
       "      <td>39</td>\n",
       "      <td>0</td>\n",
       "    </tr>\n",
       "    <tr>\n",
       "      <th>...</th>\n",
       "      <td>...</td>\n",
       "      <td>...</td>\n",
       "      <td>...</td>\n",
       "      <td>...</td>\n",
       "      <td>...</td>\n",
       "      <td>...</td>\n",
       "      <td>...</td>\n",
       "      <td>...</td>\n",
       "      <td>...</td>\n",
       "      <td>...</td>\n",
       "      <td>...</td>\n",
       "      <td>...</td>\n",
       "    </tr>\n",
       "    <tr>\n",
       "      <th>381104</th>\n",
       "      <td>381105</td>\n",
       "      <td>Male</td>\n",
       "      <td>74</td>\n",
       "      <td>1</td>\n",
       "      <td>26.0</td>\n",
       "      <td>1</td>\n",
       "      <td>1-2 Year</td>\n",
       "      <td>No</td>\n",
       "      <td>30170.0</td>\n",
       "      <td>26.0</td>\n",
       "      <td>88</td>\n",
       "      <td>0</td>\n",
       "    </tr>\n",
       "    <tr>\n",
       "      <th>381105</th>\n",
       "      <td>381106</td>\n",
       "      <td>Male</td>\n",
       "      <td>30</td>\n",
       "      <td>1</td>\n",
       "      <td>37.0</td>\n",
       "      <td>1</td>\n",
       "      <td>&lt; 1 Year</td>\n",
       "      <td>No</td>\n",
       "      <td>40016.0</td>\n",
       "      <td>152.0</td>\n",
       "      <td>131</td>\n",
       "      <td>0</td>\n",
       "    </tr>\n",
       "    <tr>\n",
       "      <th>381106</th>\n",
       "      <td>381107</td>\n",
       "      <td>Male</td>\n",
       "      <td>21</td>\n",
       "      <td>1</td>\n",
       "      <td>30.0</td>\n",
       "      <td>1</td>\n",
       "      <td>&lt; 1 Year</td>\n",
       "      <td>No</td>\n",
       "      <td>35118.0</td>\n",
       "      <td>160.0</td>\n",
       "      <td>161</td>\n",
       "      <td>0</td>\n",
       "    </tr>\n",
       "    <tr>\n",
       "      <th>381107</th>\n",
       "      <td>381108</td>\n",
       "      <td>Female</td>\n",
       "      <td>68</td>\n",
       "      <td>1</td>\n",
       "      <td>14.0</td>\n",
       "      <td>0</td>\n",
       "      <td>&gt; 2 Years</td>\n",
       "      <td>Yes</td>\n",
       "      <td>44617.0</td>\n",
       "      <td>124.0</td>\n",
       "      <td>74</td>\n",
       "      <td>0</td>\n",
       "    </tr>\n",
       "    <tr>\n",
       "      <th>381108</th>\n",
       "      <td>381109</td>\n",
       "      <td>Male</td>\n",
       "      <td>46</td>\n",
       "      <td>1</td>\n",
       "      <td>29.0</td>\n",
       "      <td>0</td>\n",
       "      <td>1-2 Year</td>\n",
       "      <td>No</td>\n",
       "      <td>41777.0</td>\n",
       "      <td>26.0</td>\n",
       "      <td>237</td>\n",
       "      <td>0</td>\n",
       "    </tr>\n",
       "  </tbody>\n",
       "</table>\n",
       "<p>381109 rows × 12 columns</p>\n",
       "</div>"
      ],
      "text/plain": [
       "            id  gender  age  driving_license  region_code  previously_insured   \n",
       "0            1    Male   44                1         28.0                   0  \\\n",
       "1            2    Male   76                1          3.0                   0   \n",
       "2            3    Male   47                1         28.0                   0   \n",
       "3            4    Male   21                1         11.0                   1   \n",
       "4            5  Female   29                1         41.0                   1   \n",
       "...        ...     ...  ...              ...          ...                 ...   \n",
       "381104  381105    Male   74                1         26.0                   1   \n",
       "381105  381106    Male   30                1         37.0                   1   \n",
       "381106  381107    Male   21                1         30.0                   1   \n",
       "381107  381108  Female   68                1         14.0                   0   \n",
       "381108  381109    Male   46                1         29.0                   0   \n",
       "\n",
       "       vehicle_age vehicle_damage  annual_premium  policy_sales_channel   \n",
       "0        > 2 Years            Yes         40454.0                  26.0  \\\n",
       "1         1-2 Year             No         33536.0                  26.0   \n",
       "2        > 2 Years            Yes         38294.0                  26.0   \n",
       "3         < 1 Year             No         28619.0                 152.0   \n",
       "4         < 1 Year             No         27496.0                 152.0   \n",
       "...            ...            ...             ...                   ...   \n",
       "381104    1-2 Year             No         30170.0                  26.0   \n",
       "381105    < 1 Year             No         40016.0                 152.0   \n",
       "381106    < 1 Year             No         35118.0                 160.0   \n",
       "381107   > 2 Years            Yes         44617.0                 124.0   \n",
       "381108    1-2 Year             No         41777.0                  26.0   \n",
       "\n",
       "        vintage  response  \n",
       "0           217         1  \n",
       "1           183         0  \n",
       "2            27         1  \n",
       "3           203         0  \n",
       "4            39         0  \n",
       "...         ...       ...  \n",
       "381104       88         0  \n",
       "381105      131         0  \n",
       "381106      161         0  \n",
       "381107       74         0  \n",
       "381108      237         0  \n",
       "\n",
       "[381109 rows x 12 columns]"
      ]
     },
     "execution_count": 316,
     "metadata": {},
     "output_type": "execute_result"
    }
   ],
   "source": [
    "data_train_raw"
   ]
  },
  {
   "attachments": {},
   "cell_type": "markdown",
   "metadata": {},
   "source": [
    "## 0.3 Rename Columns"
   ]
  },
  {
   "cell_type": "code",
   "execution_count": 131,
   "metadata": {},
   "outputs": [],
   "source": [
    "#old columns\n",
    "cols_old = list(data_train_raw.columns)\n",
    "#creating function\n",
    "rename_columns = lambda x: inflection.underscore(x)\n",
    "#new columns\n",
    "cols_new = list(map(rename_columns, cols_old))\n",
    "#renaming columns \n",
    "data_train_raw.columns = cols_new"
   ]
  },
  {
   "attachments": {},
   "cell_type": "markdown",
   "metadata": {},
   "source": [
    "## 0.3 Split dataset"
   ]
  },
  {
   "cell_type": "code",
   "execution_count": 132,
   "metadata": {},
   "outputs": [],
   "source": [
    "X = data_train_raw.drop('response', axis=1)\n",
    "y = data_train_raw[['response']]\n"
   ]
  },
  {
   "cell_type": "code",
   "execution_count": 247,
   "metadata": {},
   "outputs": [],
   "source": [
    "X_train, X_test, y_train, y_test = ms.train_test_split(X,y, test_size=0.2, random_state=42)"
   ]
  },
  {
   "cell_type": "code",
   "execution_count": 134,
   "metadata": {},
   "outputs": [],
   "source": [
    "#train dataset\n",
    "df_train = pd.concat([X_train, y_train], axis=1)\n",
    "\n",
    "#test dataset\n",
    "df_test = pd.concat([X_test, y_test], axis=1)"
   ]
  },
  {
   "attachments": {},
   "cell_type": "markdown",
   "metadata": {},
   "source": [
    "# 1.0 Data Description"
   ]
  },
  {
   "cell_type": "code",
   "execution_count": 135,
   "metadata": {},
   "outputs": [],
   "source": [
    "df1 = df_train.copy()"
   ]
  },
  {
   "attachments": {},
   "cell_type": "markdown",
   "metadata": {},
   "source": [
    "\n",
    "- 'id': \t'Unique ID for the customer',\n",
    "- 'Gender': \t'Gender of the customer',\n",
    "- 'Age': \t'Age of the customer',\n",
    "- 'Driving_License': \t'0 : Customer does not have DL, 1 : Customer already has DL',\n",
    "- 'Region_Code': \t'Unique code for the region of the customer',\n",
    "- 'Previously_Insured': \t'1 : Customer already has Vehicle Insurance, 0 : Customer doesnt have Vehicle Insurance',\n",
    "- 'Vehicle_Age': \t'Age of the Vehicle',\n",
    "- 'Vehicle_Damage': \t'1 : Customer got his/her vehicle damaged in the past. 0 : Customer didnt get his/her vehicle damaged in the past.',\n",
    "- 'Annual_Premium': \t'The amount customer needs to pay as premium in the year',\n",
    "- 'Policy_Sales_Channel': \t'Anonymized Code for the channel of outreaching to the customer ie. Different Agents, Over Mail, Over Phone, In Person, etc.',\n",
    "- 'Vintage': \t'Number of Days, Customer has been associated with the company',\n",
    "- 'Response': \t'1 : Customer is interested, 0 : Customer is not interested'}\n",
    "\n"
   ]
  },
  {
   "attachments": {},
   "cell_type": "markdown",
   "metadata": {},
   "source": [
    "## 1.1 Data amount"
   ]
  },
  {
   "cell_type": "code",
   "execution_count": 136,
   "metadata": {},
   "outputs": [
    {
     "name": "stdout",
     "output_type": "stream",
     "text": [
      "Quantidade de linhas: 304887\n",
      "Quantidade de colunas: 12\n"
     ]
    }
   ],
   "source": [
    "print('Quantidade de linhas: {}'.format(df1.shape[0]))\n",
    "print('Quantidade de colunas: {}'.format(df1.shape[1]))\n"
   ]
  },
  {
   "attachments": {},
   "cell_type": "markdown",
   "metadata": {},
   "source": [
    "## 1.2 Data Types"
   ]
  },
  {
   "cell_type": "code",
   "execution_count": 137,
   "metadata": {},
   "outputs": [
    {
     "data": {
      "text/plain": [
       "id                        int64\n",
       "gender                   object\n",
       "age                       int64\n",
       "driving_license           int64\n",
       "region_code             float64\n",
       "previously_insured        int64\n",
       "vehicle_age              object\n",
       "vehicle_damage           object\n",
       "annual_premium          float64\n",
       "policy_sales_channel    float64\n",
       "vintage                   int64\n",
       "response                  int64\n",
       "dtype: object"
      ]
     },
     "execution_count": 137,
     "metadata": {},
     "output_type": "execute_result"
    }
   ],
   "source": [
    "df1.dtypes"
   ]
  },
  {
   "attachments": {},
   "cell_type": "markdown",
   "metadata": {},
   "source": [
    "## 1.3 Check NaN"
   ]
  },
  {
   "cell_type": "code",
   "execution_count": 138,
   "metadata": {},
   "outputs": [
    {
     "data": {
      "text/plain": [
       "id                      0\n",
       "gender                  0\n",
       "age                     0\n",
       "driving_license         0\n",
       "region_code             0\n",
       "previously_insured      0\n",
       "vehicle_age             0\n",
       "vehicle_damage          0\n",
       "annual_premium          0\n",
       "policy_sales_channel    0\n",
       "vintage                 0\n",
       "response                0\n",
       "dtype: int64"
      ]
     },
     "execution_count": 138,
     "metadata": {},
     "output_type": "execute_result"
    }
   ],
   "source": [
    "df1.isna().sum()"
   ]
  },
  {
   "attachments": {},
   "cell_type": "markdown",
   "metadata": {},
   "source": [
    "## 1.4 Descriptive Statistical"
   ]
  },
  {
   "cell_type": "code",
   "execution_count": 139,
   "metadata": {},
   "outputs": [],
   "source": [
    "numerical_features = df1.select_dtypes(include=['int64', 'float64'])\n",
    "categorical_features = df1.select_dtypes(exclude=['int64','float64'])"
   ]
  },
  {
   "attachments": {},
   "cell_type": "markdown",
   "metadata": {},
   "source": [
    "### 1.4.1 Numerical Features"
   ]
  },
  {
   "cell_type": "code",
   "execution_count": 140,
   "metadata": {},
   "outputs": [
    {
     "data": {
      "text/html": [
       "<div>\n",
       "<style scoped>\n",
       "    .dataframe tbody tr th:only-of-type {\n",
       "        vertical-align: middle;\n",
       "    }\n",
       "\n",
       "    .dataframe tbody tr th {\n",
       "        vertical-align: top;\n",
       "    }\n",
       "\n",
       "    .dataframe thead th {\n",
       "        text-align: right;\n",
       "    }\n",
       "</style>\n",
       "<table border=\"1\" class=\"dataframe\">\n",
       "  <thead>\n",
       "    <tr style=\"text-align: right;\">\n",
       "      <th></th>\n",
       "      <th>attributes</th>\n",
       "      <th>min</th>\n",
       "      <th>max</th>\n",
       "      <th>range</th>\n",
       "      <th>mean</th>\n",
       "      <th>median</th>\n",
       "      <th>std</th>\n",
       "      <th>skewness</th>\n",
       "      <th>kurtosis</th>\n",
       "    </tr>\n",
       "  </thead>\n",
       "  <tbody>\n",
       "    <tr>\n",
       "      <th>0</th>\n",
       "      <td>id</td>\n",
       "      <td>1.0</td>\n",
       "      <td>381109.0</td>\n",
       "      <td>381108.0</td>\n",
       "      <td>190594.098072</td>\n",
       "      <td>190639.0</td>\n",
       "      <td>110021.963852</td>\n",
       "      <td>-0.000004</td>\n",
       "      <td>-1.199753</td>\n",
       "    </tr>\n",
       "    <tr>\n",
       "      <th>1</th>\n",
       "      <td>age</td>\n",
       "      <td>20.0</td>\n",
       "      <td>85.0</td>\n",
       "      <td>65.0</td>\n",
       "      <td>38.835582</td>\n",
       "      <td>36.0</td>\n",
       "      <td>15.509496</td>\n",
       "      <td>0.670000</td>\n",
       "      <td>-0.570016</td>\n",
       "    </tr>\n",
       "    <tr>\n",
       "      <th>2</th>\n",
       "      <td>driving_license</td>\n",
       "      <td>0.0</td>\n",
       "      <td>1.0</td>\n",
       "      <td>1.0</td>\n",
       "      <td>0.997829</td>\n",
       "      <td>1.0</td>\n",
       "      <td>0.046547</td>\n",
       "      <td>-21.390677</td>\n",
       "      <td>455.564047</td>\n",
       "    </tr>\n",
       "    <tr>\n",
       "      <th>3</th>\n",
       "      <td>region_code</td>\n",
       "      <td>0.0</td>\n",
       "      <td>52.0</td>\n",
       "      <td>52.0</td>\n",
       "      <td>26.413340</td>\n",
       "      <td>28.0</td>\n",
       "      <td>13.217997</td>\n",
       "      <td>-0.117479</td>\n",
       "      <td>-0.863585</td>\n",
       "    </tr>\n",
       "    <tr>\n",
       "      <th>4</th>\n",
       "      <td>previously_insured</td>\n",
       "      <td>0.0</td>\n",
       "      <td>1.0</td>\n",
       "      <td>1.0</td>\n",
       "      <td>0.458373</td>\n",
       "      <td>0.0</td>\n",
       "      <td>0.498264</td>\n",
       "      <td>0.167088</td>\n",
       "      <td>-1.972094</td>\n",
       "    </tr>\n",
       "    <tr>\n",
       "      <th>5</th>\n",
       "      <td>annual_premium</td>\n",
       "      <td>2630.0</td>\n",
       "      <td>540165.0</td>\n",
       "      <td>537535.0</td>\n",
       "      <td>30571.851319</td>\n",
       "      <td>31675.0</td>\n",
       "      <td>17254.215590</td>\n",
       "      <td>1.853769</td>\n",
       "      <td>36.695689</td>\n",
       "    </tr>\n",
       "    <tr>\n",
       "      <th>6</th>\n",
       "      <td>policy_sales_channel</td>\n",
       "      <td>1.0</td>\n",
       "      <td>163.0</td>\n",
       "      <td>162.0</td>\n",
       "      <td>111.966591</td>\n",
       "      <td>131.0</td>\n",
       "      <td>54.229980</td>\n",
       "      <td>-0.897379</td>\n",
       "      <td>-0.976093</td>\n",
       "    </tr>\n",
       "    <tr>\n",
       "      <th>7</th>\n",
       "      <td>vintage</td>\n",
       "      <td>10.0</td>\n",
       "      <td>299.0</td>\n",
       "      <td>289.0</td>\n",
       "      <td>154.272609</td>\n",
       "      <td>154.0</td>\n",
       "      <td>83.642252</td>\n",
       "      <td>0.004656</td>\n",
       "      <td>-1.199888</td>\n",
       "    </tr>\n",
       "    <tr>\n",
       "      <th>8</th>\n",
       "      <td>response</td>\n",
       "      <td>0.0</td>\n",
       "      <td>1.0</td>\n",
       "      <td>1.0</td>\n",
       "      <td>0.121970</td>\n",
       "      <td>0.0</td>\n",
       "      <td>0.327251</td>\n",
       "      <td>2.310350</td>\n",
       "      <td>3.337740</td>\n",
       "    </tr>\n",
       "  </tbody>\n",
       "</table>\n",
       "</div>"
      ],
      "text/plain": [
       "             attributes     min       max     range           mean    median   \n",
       "0                    id     1.0  381109.0  381108.0  190594.098072  190639.0  \\\n",
       "1                   age    20.0      85.0      65.0      38.835582      36.0   \n",
       "2       driving_license     0.0       1.0       1.0       0.997829       1.0   \n",
       "3           region_code     0.0      52.0      52.0      26.413340      28.0   \n",
       "4    previously_insured     0.0       1.0       1.0       0.458373       0.0   \n",
       "5        annual_premium  2630.0  540165.0  537535.0   30571.851319   31675.0   \n",
       "6  policy_sales_channel     1.0     163.0     162.0     111.966591     131.0   \n",
       "7               vintage    10.0     299.0     289.0     154.272609     154.0   \n",
       "8              response     0.0       1.0       1.0       0.121970       0.0   \n",
       "\n",
       "             std   skewness    kurtosis  \n",
       "0  110021.963852  -0.000004   -1.199753  \n",
       "1      15.509496   0.670000   -0.570016  \n",
       "2       0.046547 -21.390677  455.564047  \n",
       "3      13.217997  -0.117479   -0.863585  \n",
       "4       0.498264   0.167088   -1.972094  \n",
       "5   17254.215590   1.853769   36.695689  \n",
       "6      54.229980  -0.897379   -0.976093  \n",
       "7      83.642252   0.004656   -1.199888  \n",
       "8       0.327251   2.310350    3.337740  "
      ]
     },
     "execution_count": 140,
     "metadata": {},
     "output_type": "execute_result"
    }
   ],
   "source": [
    "#Têndencia central\n",
    "t01 = pd.DataFrame(numerical_features.apply(np.mean)).T\n",
    "t02 = pd.DataFrame(numerical_features.apply(np.median)).T\n",
    "#Dispersão dos dados\n",
    "d01 = pd.DataFrame(numerical_features.apply(np.min)).T\n",
    "d02 = pd.DataFrame(numerical_features.apply(np.max)).T\n",
    "d03 = pd.DataFrame(numerical_features.apply(lambda x: x.max() - x.min())).T\n",
    "d04 = pd.DataFrame(numerical_features.apply(np.std)).T\n",
    "d05 = pd.DataFrame(numerical_features.apply(lambda x: x.skew())).T\n",
    "d06 = pd.DataFrame(numerical_features.apply(lambda x: x.kurtosis())).T\n",
    "\n",
    "m = pd.concat([d01,d02,d03,t01,t02,d04,d05,d06]).T.reset_index()\n",
    "m.columns = ['attributes', 'min','max','range','mean','median','std','skewness','kurtosis']\n",
    "m\n"
   ]
  },
  {
   "attachments": {},
   "cell_type": "markdown",
   "metadata": {},
   "source": [
    "### 1.4.2 Categorical Features"
   ]
  },
  {
   "cell_type": "code",
   "execution_count": 141,
   "metadata": {},
   "outputs": [
    {
     "data": {
      "text/plain": [
       "gender            2\n",
       "vehicle_age       3\n",
       "vehicle_damage    2\n",
       "dtype: int64"
      ]
     },
     "execution_count": 141,
     "metadata": {},
     "output_type": "execute_result"
    }
   ],
   "source": [
    "categorical_features.nunique()"
   ]
  },
  {
   "attachments": {},
   "cell_type": "markdown",
   "metadata": {},
   "source": [
    "# 2.0 Feature Engineering"
   ]
  },
  {
   "cell_type": "code",
   "execution_count": 142,
   "metadata": {},
   "outputs": [],
   "source": [
    "df2 = df1.copy()"
   ]
  },
  {
   "attachments": {},
   "cell_type": "markdown",
   "metadata": {},
   "source": [
    "## 2.1 Hypothesis Map"
   ]
  },
  {
   "attachments": {},
   "cell_type": "markdown",
   "metadata": {},
   "source": [
    "1. Índice de Criminalidade da Região influência na contratação do seguro veicular\n",
    "2. Clientes com maior salário contratariam o seguro veicular\n",
    "3. Clientes com carros mais novos contratariam o seguro veicular\n",
    "4. Pessoas mais velhas contratariam o seguro veicular\n",
    "5. Clientes cujo veículo já sofreu danos contratariam o seguro veicular\n",
    "6. Somente clientes habilitados contratariam o seguro veicular\n",
    "7. Clientes mais antigos da seguradora contratariam o seguro veicular\n",
    "8. Clientes com carros mais novos contratam o seguro veicular"
   ]
  },
  {
   "attachments": {},
   "cell_type": "markdown",
   "metadata": {},
   "source": [
    "# 3.0 Data Filtering"
   ]
  },
  {
   "cell_type": "code",
   "execution_count": 143,
   "metadata": {},
   "outputs": [],
   "source": [
    "df3 = df2.copy()"
   ]
  },
  {
   "attachments": {},
   "cell_type": "markdown",
   "metadata": {},
   "source": [
    "# 4.0 Balanced Data"
   ]
  },
  {
   "cell_type": "code",
   "execution_count": 144,
   "metadata": {},
   "outputs": [
    {
     "data": {
      "text/plain": [
       "(304887, 12)"
      ]
     },
     "execution_count": 144,
     "metadata": {},
     "output_type": "execute_result"
    }
   ],
   "source": [
    "df41 = df3.copy()\n",
    "df41.shape"
   ]
  },
  {
   "cell_type": "code",
   "execution_count": 145,
   "metadata": {},
   "outputs": [
    {
     "data": {
      "text/plain": [
       "response\n",
       "0    0.87803\n",
       "1    0.12197\n",
       "Name: proportion, dtype: float64"
      ]
     },
     "execution_count": 145,
     "metadata": {},
     "output_type": "execute_result"
    }
   ],
   "source": [
    "df41['response'].value_counts(normalize=True)"
   ]
  },
  {
   "cell_type": "code",
   "execution_count": 146,
   "metadata": {},
   "outputs": [],
   "source": [
    "df41 = df41.drop('id', axis=1)"
   ]
  },
  {
   "cell_type": "code",
   "execution_count": 147,
   "metadata": {},
   "outputs": [
    {
     "data": {
      "text/html": [
       "<div>\n",
       "<style scoped>\n",
       "    .dataframe tbody tr th:only-of-type {\n",
       "        vertical-align: middle;\n",
       "    }\n",
       "\n",
       "    .dataframe tbody tr th {\n",
       "        vertical-align: top;\n",
       "    }\n",
       "\n",
       "    .dataframe thead th {\n",
       "        text-align: right;\n",
       "    }\n",
       "</style>\n",
       "<table border=\"1\" class=\"dataframe\">\n",
       "  <thead>\n",
       "    <tr style=\"text-align: right;\">\n",
       "      <th></th>\n",
       "      <th>gender</th>\n",
       "      <th>age</th>\n",
       "      <th>driving_license</th>\n",
       "      <th>region_code</th>\n",
       "      <th>previously_insured</th>\n",
       "      <th>vehicle_age</th>\n",
       "      <th>vehicle_damage</th>\n",
       "      <th>annual_premium</th>\n",
       "      <th>policy_sales_channel</th>\n",
       "      <th>vintage</th>\n",
       "      <th>response</th>\n",
       "    </tr>\n",
       "  </thead>\n",
       "  <tbody>\n",
       "    <tr>\n",
       "      <th>361931</th>\n",
       "      <td>Female</td>\n",
       "      <td>41</td>\n",
       "      <td>1</td>\n",
       "      <td>21.0</td>\n",
       "      <td>1</td>\n",
       "      <td>1-2 Year</td>\n",
       "      <td>No</td>\n",
       "      <td>18149.0</td>\n",
       "      <td>152.0</td>\n",
       "      <td>118</td>\n",
       "      <td>0</td>\n",
       "    </tr>\n",
       "    <tr>\n",
       "      <th>344796</th>\n",
       "      <td>Female</td>\n",
       "      <td>57</td>\n",
       "      <td>1</td>\n",
       "      <td>4.0</td>\n",
       "      <td>0</td>\n",
       "      <td>1-2 Year</td>\n",
       "      <td>Yes</td>\n",
       "      <td>2630.0</td>\n",
       "      <td>124.0</td>\n",
       "      <td>251</td>\n",
       "      <td>0</td>\n",
       "    </tr>\n",
       "    <tr>\n",
       "      <th>358755</th>\n",
       "      <td>Female</td>\n",
       "      <td>21</td>\n",
       "      <td>1</td>\n",
       "      <td>15.0</td>\n",
       "      <td>0</td>\n",
       "      <td>&lt; 1 Year</td>\n",
       "      <td>No</td>\n",
       "      <td>27706.0</td>\n",
       "      <td>152.0</td>\n",
       "      <td>174</td>\n",
       "      <td>0</td>\n",
       "    </tr>\n",
       "    <tr>\n",
       "      <th>240800</th>\n",
       "      <td>Female</td>\n",
       "      <td>24</td>\n",
       "      <td>1</td>\n",
       "      <td>50.0</td>\n",
       "      <td>1</td>\n",
       "      <td>&lt; 1 Year</td>\n",
       "      <td>No</td>\n",
       "      <td>29645.0</td>\n",
       "      <td>160.0</td>\n",
       "      <td>272</td>\n",
       "      <td>0</td>\n",
       "    </tr>\n",
       "    <tr>\n",
       "      <th>126594</th>\n",
       "      <td>Male</td>\n",
       "      <td>59</td>\n",
       "      <td>1</td>\n",
       "      <td>33.0</td>\n",
       "      <td>1</td>\n",
       "      <td>1-2 Year</td>\n",
       "      <td>No</td>\n",
       "      <td>29928.0</td>\n",
       "      <td>26.0</td>\n",
       "      <td>156</td>\n",
       "      <td>0</td>\n",
       "    </tr>\n",
       "  </tbody>\n",
       "</table>\n",
       "</div>"
      ],
      "text/plain": [
       "        gender  age  driving_license  region_code  previously_insured   \n",
       "361931  Female   41                1         21.0                   1  \\\n",
       "344796  Female   57                1          4.0                   0   \n",
       "358755  Female   21                1         15.0                   0   \n",
       "240800  Female   24                1         50.0                   1   \n",
       "126594    Male   59                1         33.0                   1   \n",
       "\n",
       "       vehicle_age vehicle_damage  annual_premium  policy_sales_channel   \n",
       "361931    1-2 Year             No         18149.0                 152.0  \\\n",
       "344796    1-2 Year            Yes          2630.0                 124.0   \n",
       "358755    < 1 Year             No         27706.0                 152.0   \n",
       "240800    < 1 Year             No         29645.0                 160.0   \n",
       "126594    1-2 Year             No         29928.0                  26.0   \n",
       "\n",
       "        vintage  response  \n",
       "361931      118         0  \n",
       "344796      251         0  \n",
       "358755      174         0  \n",
       "240800      272         0  \n",
       "126594      156         0  "
      ]
     },
     "execution_count": 147,
     "metadata": {},
     "output_type": "execute_result"
    }
   ],
   "source": [
    "df41.sample(5)"
   ]
  },
  {
   "cell_type": "code",
   "execution_count": 148,
   "metadata": {},
   "outputs": [
    {
     "data": {
      "text/plain": [
       "gender                   object\n",
       "age                       int64\n",
       "driving_license           int64\n",
       "region_code             float64\n",
       "previously_insured        int64\n",
       "vehicle_age              object\n",
       "vehicle_damage           object\n",
       "annual_premium          float64\n",
       "policy_sales_channel    float64\n",
       "vintage                   int64\n",
       "response                  int64\n",
       "dtype: object"
      ]
     },
     "execution_count": 148,
     "metadata": {},
     "output_type": "execute_result"
    }
   ],
   "source": [
    "df41.dtypes"
   ]
  },
  {
   "cell_type": "code",
   "execution_count": 149,
   "metadata": {},
   "outputs": [],
   "source": [
    "# encoder categorical variables\n",
    "ohe = pp.OneHotEncoder()\n",
    "#numerical\n",
    "col_num  = df41.select_dtypes(include=['int64', 'float64']).drop('response',axis=1).columns.tolist()\n",
    "#categorical\n",
    "col_cat  = df41.select_dtypes(exclude=['int64', 'float64']).columns.tolist()\n",
    "#encoding\n",
    "\n",
    "df41_dummy = pd.DataFrame(ohe.fit_transform(df41[col_cat]).toarray(), index=df41.index)\n",
    "\n",
    "#join numerical and categorical\n",
    "\n",
    "df42 = pd.concat([df41[col_num], df41_dummy], axis=1)"
   ]
  },
  {
   "cell_type": "code",
   "execution_count": 150,
   "metadata": {},
   "outputs": [],
   "source": [
    "df42 = df42.rename(str, axis='columns')"
   ]
  },
  {
   "attachments": {},
   "cell_type": "markdown",
   "metadata": {},
   "source": [
    "## 4.1 Random UnderSampling"
   ]
  },
  {
   "cell_type": "code",
   "execution_count": 151,
   "metadata": {},
   "outputs": [],
   "source": [
    "#define sampler\n",
    "\n",
    "undersampling = us.RandomUnderSampler(sampling_strategy='auto', random_state=42)\n",
    "\n",
    "\n",
    "#apply sampler\n",
    "\n",
    "x_under, y_under = undersampling.fit_resample(df42, df41['response'])"
   ]
  },
  {
   "cell_type": "code",
   "execution_count": 152,
   "metadata": {},
   "outputs": [
    {
     "data": {
      "text/plain": [
       "response\n",
       "0    0.5\n",
       "1    0.5\n",
       "Name: proportion, dtype: float64"
      ]
     },
     "execution_count": 152,
     "metadata": {},
     "output_type": "execute_result"
    }
   ],
   "source": [
    "y_under.value_counts(normalize=True)"
   ]
  },
  {
   "cell_type": "code",
   "execution_count": 153,
   "metadata": {},
   "outputs": [],
   "source": [
    "#numerical data\n",
    "df43 = x_under[col_num]\n",
    "#categorical data\n",
    "df44 = x_under.drop(col_num, axis = 1)\n",
    "#join numerical categorical\n",
    "df45= pd.DataFrame(ohe.inverse_transform(df44),columns=col_cat, index=df44.index)\n",
    "\n",
    "\n",
    "df46 = pd.concat([df43, df45], axis=1)\n",
    "df46['response'] = y_under\n"
   ]
  },
  {
   "cell_type": "code",
   "execution_count": 154,
   "metadata": {},
   "outputs": [
    {
     "data": {
      "text/plain": [
       "response\n",
       "0    0.5\n",
       "1    0.5\n",
       "Name: proportion, dtype: float64"
      ]
     },
     "execution_count": 154,
     "metadata": {},
     "output_type": "execute_result"
    }
   ],
   "source": [
    "df46['response'].value_counts(normalize=True)"
   ]
  },
  {
   "attachments": {},
   "cell_type": "markdown",
   "metadata": {},
   "source": [
    "## 4.2 Random OverSampling"
   ]
  },
  {
   "attachments": {},
   "cell_type": "markdown",
   "metadata": {},
   "source": [
    "# 5.0 Exploratory Data Analysis"
   ]
  },
  {
   "cell_type": "code",
   "execution_count": 155,
   "metadata": {},
   "outputs": [
    {
     "data": {
      "text/html": [
       "<div>\n",
       "<style scoped>\n",
       "    .dataframe tbody tr th:only-of-type {\n",
       "        vertical-align: middle;\n",
       "    }\n",
       "\n",
       "    .dataframe tbody tr th {\n",
       "        vertical-align: top;\n",
       "    }\n",
       "\n",
       "    .dataframe thead th {\n",
       "        text-align: right;\n",
       "    }\n",
       "</style>\n",
       "<table border=\"1\" class=\"dataframe\">\n",
       "  <thead>\n",
       "    <tr style=\"text-align: right;\">\n",
       "      <th></th>\n",
       "      <th>id</th>\n",
       "      <th>gender</th>\n",
       "      <th>age</th>\n",
       "      <th>driving_license</th>\n",
       "      <th>region_code</th>\n",
       "      <th>previously_insured</th>\n",
       "      <th>vehicle_age</th>\n",
       "      <th>vehicle_damage</th>\n",
       "      <th>annual_premium</th>\n",
       "      <th>policy_sales_channel</th>\n",
       "      <th>vintage</th>\n",
       "      <th>response</th>\n",
       "    </tr>\n",
       "  </thead>\n",
       "  <tbody>\n",
       "    <tr>\n",
       "      <th>140881</th>\n",
       "      <td>140882</td>\n",
       "      <td>Male</td>\n",
       "      <td>50</td>\n",
       "      <td>1</td>\n",
       "      <td>41.0</td>\n",
       "      <td>0</td>\n",
       "      <td>1-2 Year</td>\n",
       "      <td>Yes</td>\n",
       "      <td>29390.0</td>\n",
       "      <td>26.0</td>\n",
       "      <td>10</td>\n",
       "      <td>1</td>\n",
       "    </tr>\n",
       "    <tr>\n",
       "      <th>147336</th>\n",
       "      <td>147337</td>\n",
       "      <td>Male</td>\n",
       "      <td>54</td>\n",
       "      <td>1</td>\n",
       "      <td>28.0</td>\n",
       "      <td>0</td>\n",
       "      <td>1-2 Year</td>\n",
       "      <td>Yes</td>\n",
       "      <td>2630.0</td>\n",
       "      <td>124.0</td>\n",
       "      <td>222</td>\n",
       "      <td>0</td>\n",
       "    </tr>\n",
       "    <tr>\n",
       "      <th>298610</th>\n",
       "      <td>298611</td>\n",
       "      <td>Male</td>\n",
       "      <td>24</td>\n",
       "      <td>1</td>\n",
       "      <td>43.0</td>\n",
       "      <td>1</td>\n",
       "      <td>&lt; 1 Year</td>\n",
       "      <td>No</td>\n",
       "      <td>2630.0</td>\n",
       "      <td>152.0</td>\n",
       "      <td>86</td>\n",
       "      <td>0</td>\n",
       "    </tr>\n",
       "    <tr>\n",
       "      <th>363916</th>\n",
       "      <td>363917</td>\n",
       "      <td>Female</td>\n",
       "      <td>55</td>\n",
       "      <td>1</td>\n",
       "      <td>0.0</td>\n",
       "      <td>0</td>\n",
       "      <td>1-2 Year</td>\n",
       "      <td>No</td>\n",
       "      <td>2630.0</td>\n",
       "      <td>26.0</td>\n",
       "      <td>297</td>\n",
       "      <td>0</td>\n",
       "    </tr>\n",
       "    <tr>\n",
       "      <th>20877</th>\n",
       "      <td>20878</td>\n",
       "      <td>Male</td>\n",
       "      <td>53</td>\n",
       "      <td>1</td>\n",
       "      <td>28.0</td>\n",
       "      <td>0</td>\n",
       "      <td>&gt; 2 Years</td>\n",
       "      <td>Yes</td>\n",
       "      <td>30658.0</td>\n",
       "      <td>124.0</td>\n",
       "      <td>86</td>\n",
       "      <td>0</td>\n",
       "    </tr>\n",
       "  </tbody>\n",
       "</table>\n",
       "</div>"
      ],
      "text/plain": [
       "            id  gender  age  driving_license  region_code  previously_insured   \n",
       "140881  140882    Male   50                1         41.0                   0  \\\n",
       "147336  147337    Male   54                1         28.0                   0   \n",
       "298610  298611    Male   24                1         43.0                   1   \n",
       "363916  363917  Female   55                1          0.0                   0   \n",
       "20877    20878    Male   53                1         28.0                   0   \n",
       "\n",
       "       vehicle_age vehicle_damage  annual_premium  policy_sales_channel   \n",
       "140881    1-2 Year            Yes         29390.0                  26.0  \\\n",
       "147336    1-2 Year            Yes          2630.0                 124.0   \n",
       "298610    < 1 Year             No          2630.0                 152.0   \n",
       "363916    1-2 Year             No          2630.0                  26.0   \n",
       "20877    > 2 Years            Yes         30658.0                 124.0   \n",
       "\n",
       "        vintage  response  \n",
       "140881       10         1  \n",
       "147336      222         0  \n",
       "298610       86         0  \n",
       "363916      297         0  \n",
       "20877        86         0  "
      ]
     },
     "execution_count": 155,
     "metadata": {},
     "output_type": "execute_result"
    }
   ],
   "source": [
    "df4 = df3.copy()\n",
    "df4.sample(5)"
   ]
  },
  {
   "attachments": {},
   "cell_type": "markdown",
   "metadata": {},
   "source": [
    "## 5.1 Univariate Analysis"
   ]
  },
  {
   "attachments": {},
   "cell_type": "markdown",
   "metadata": {},
   "source": [
    "### 4.1.1 Numerical Features"
   ]
  },
  {
   "cell_type": "code",
   "execution_count": 156,
   "metadata": {},
   "outputs": [
    {
     "data": {
      "text/plain": [
       "Index(['id', 'age', 'driving_license', 'region_code', 'previously_insured',\n",
       "       'annual_premium', 'policy_sales_channel', 'vintage', 'response'],\n",
       "      dtype='object')"
      ]
     },
     "execution_count": 156,
     "metadata": {},
     "output_type": "execute_result"
    }
   ],
   "source": [
    "df4.select_dtypes(include=['int64','float64']).columns"
   ]
  },
  {
   "cell_type": "code",
   "execution_count": 157,
   "metadata": {},
   "outputs": [
    {
     "data": {
      "text/plain": [
       "<Axes: xlabel='age'>"
      ]
     },
     "execution_count": 157,
     "metadata": {},
     "output_type": "execute_result"
    },
    {
     "data": {
      "image/png": "[encoded data removed]",
      "text/plain": [
       "<Figure size 1080x360 with 2 Axes>"
      ]
     },
     "metadata": {
      "needs_background": "light"
     },
     "output_type": "display_data"
    }
   ],
   "source": [
    "#Age  - Client Age\n",
    "plt.figure(figsize=(15,5))\n",
    "plt.subplot(1,2,1)\n",
    "sns.histplot(data=df4, x='age')\n",
    "plt.subplot(1,2,2)\n",
    "sns.boxplot(data=df4, x='age')"
   ]
  },
  {
   "attachments": {},
   "cell_type": "markdown",
   "metadata": {},
   "source": [
    "Como identificado na secção **1.4** a feature Age tem assimetria positiva indicando maior concentração no lado esquerdo do histograma na faixa de idade de 22 e 27 anos aproximadamente. Além de indicar que moda < mediana < média"
   ]
  },
  {
   "cell_type": "code",
   "execution_count": 158,
   "metadata": {},
   "outputs": [
    {
     "data": {
      "text/plain": [
       "<Axes: xlabel='annual_premium'>"
      ]
     },
     "execution_count": 158,
     "metadata": {},
     "output_type": "execute_result"
    },
    {
     "data": {
      "image/png": "[encoded data removed]",
      "text/plain": [
       "<Figure size 1080x360 with 2 Axes>"
      ]
     },
     "metadata": {
      "needs_background": "light"
     },
     "output_type": "display_data"
    }
   ],
   "source": [
    "#Annual Premium\n",
    "plt.figure(figsize=(15,5))\n",
    "plt.subplot(1,2,1)\n",
    "sns.histplot(data=df4, x='annual_premium')\n",
    "plt.subplot(1,2,2)\n",
    "sns.boxplot(data=df4, x='annual_premium')"
   ]
  },
  {
   "cell_type": "code",
   "execution_count": 159,
   "metadata": {},
   "outputs": [
    {
     "data": {
      "text/plain": [
       "<Axes: xlabel='vintage'>"
      ]
     },
     "execution_count": 159,
     "metadata": {},
     "output_type": "execute_result"
    },
    {
     "data": {
      "image/png": "[encoded data removed]",
      "text/plain": [
       "<Figure size 1080x360 with 2 Axes>"
      ]
     },
     "metadata": {
      "needs_background": "light"
     },
     "output_type": "display_data"
    }
   ],
   "source": [
    "# Vintage \n",
    "plt.figure(figsize=(15,5))\n",
    "plt.subplot(1,2,1)\n",
    "sns.histplot(data=df4, x='vintage')\n",
    "plt.subplot(1,2,2)\n",
    "sns.boxplot(data=df4, x='vintage')"
   ]
  },
  {
   "attachments": {},
   "cell_type": "markdown",
   "metadata": {},
   "source": [
    "### 4.1.2 Categorical Features"
   ]
  },
  {
   "cell_type": "code",
   "execution_count": 160,
   "metadata": {},
   "outputs": [
    {
     "data": {
      "text/plain": [
       "<Axes: xlabel='driving_license', ylabel='count'>"
      ]
     },
     "execution_count": 160,
     "metadata": {},
     "output_type": "execute_result"
    },
    {
     "data": {
      "image/png": "[encoded data removed]",
      "text/plain": [
       "<Figure size 1080x360 with 2 Axes>"
      ]
     },
     "metadata": {
      "needs_background": "light"
     },
     "output_type": "display_data"
    }
   ],
   "source": [
    "#Driving Licence\n",
    "plt.figure(figsize=(15,5))\n",
    "plt.subplot(1,2,1)\n",
    "sns.countplot(data=df4, x='driving_license')\n",
    "plt.subplot(1,2,2)\n",
    "aux = df4.loc[df4['driving_license'] == 0, :].reset_index()\n",
    "# sns.countplot(data=aux, x='driving_license')\n",
    "sns.countplot(data=aux, x='driving_license')\n"
   ]
  },
  {
   "cell_type": "code",
   "execution_count": 161,
   "metadata": {},
   "outputs": [
    {
     "data": {
      "text/plain": [
       "<Axes: xlabel='previously_insured', ylabel='count'>"
      ]
     },
     "execution_count": 161,
     "metadata": {},
     "output_type": "execute_result"
    },
    {
     "data": {
      "image/png": "[encoded data removed]",
      "text/plain": [
       "<Figure size 1080x360 with 1 Axes>"
      ]
     },
     "metadata": {
      "needs_background": "light"
     },
     "output_type": "display_data"
    }
   ],
   "source": [
    "# previously_insured\n",
    "\n",
    "plt.figure(figsize=(15,5))\n",
    "plt.subplot(1,2,1)\n",
    "sns.countplot(data=df4, x='previously_insured')"
   ]
  },
  {
   "cell_type": "code",
   "execution_count": 162,
   "metadata": {},
   "outputs": [
    {
     "data": {
      "text/plain": [
       "<Axes: xlabel='gender', ylabel='count'>"
      ]
     },
     "execution_count": 162,
     "metadata": {},
     "output_type": "execute_result"
    },
    {
     "data": {
      "image/png": "[encoded data removed]",
      "text/plain": [
       "<Figure size 720x360 with 1 Axes>"
      ]
     },
     "metadata": {
      "needs_background": "light"
     },
     "output_type": "display_data"
    }
   ],
   "source": [
    "#gender\n",
    "plt.figure(figsize=(10,5))\n",
    "sns.countplot(data=df4, x= 'gender') "
   ]
  },
  {
   "cell_type": "code",
   "execution_count": 163,
   "metadata": {},
   "outputs": [
    {
     "data": {
      "text/plain": [
       "<Axes: xlabel='vehicle_age', ylabel='count'>"
      ]
     },
     "execution_count": 163,
     "metadata": {},
     "output_type": "execute_result"
    },
    {
     "data": {
      "image/png": "[encoded data removed]",
      "text/plain": [
       "<Figure size 1080x360 with 2 Axes>"
      ]
     },
     "metadata": {
      "needs_background": "light"
     },
     "output_type": "display_data"
    }
   ],
   "source": [
    "#vehicle_age\n",
    "plt.figure(figsize=(15,5))\n",
    "plt.subplot(1,2,1)\n",
    "sns.countplot(data=df4, x= 'vehicle_age') \n",
    "plt.subplot(1,2,2)\n",
    "aux = df4.loc[df4['vehicle_age'] == '> 2 Years',:]\n",
    "sns.countplot(data=aux, x='vehicle_age')"
   ]
  },
  {
   "cell_type": "code",
   "execution_count": 164,
   "metadata": {},
   "outputs": [
    {
     "data": {
      "text/plain": [
       "<Axes: xlabel='vehicle_damage', ylabel='count'>"
      ]
     },
     "execution_count": 164,
     "metadata": {},
     "output_type": "execute_result"
    },
    {
     "data": {
      "image/png": "[encoded data removed]",
      "text/plain": [
       "<Figure size 1080x360 with 1 Axes>"
      ]
     },
     "metadata": {
      "needs_background": "light"
     },
     "output_type": "display_data"
    }
   ],
   "source": [
    "#vehicle_damage\n",
    "plt.figure(figsize=(15,5))\n",
    "plt.subplot(1,2,1)\n",
    "sns.countplot(data=df4, x= 'vehicle_damage')"
   ]
  },
  {
   "cell_type": "code",
   "execution_count": 165,
   "metadata": {},
   "outputs": [
    {
     "data": {
      "text/plain": [
       "<Axes: xlabel='response', ylabel='count'>"
      ]
     },
     "execution_count": 165,
     "metadata": {},
     "output_type": "execute_result"
    },
    {
     "data": {
      "image/png": "[encoded data removed]",
      "text/plain": [
       "<Figure size 1080x360 with 2 Axes>"
      ]
     },
     "metadata": {
      "needs_background": "light"
     },
     "output_type": "display_data"
    }
   ],
   "source": [
    "# Response\n",
    "\n",
    "plt.figure(figsize=(15,5))\n",
    "plt.subplot(1,2,1)\n",
    "sns.countplot(data=df4, x='response')\n",
    "plt.subplot(1,2,2)\n",
    "aux = df4.loc[df4['response'] == 1, :]\n",
    "sns.countplot(data=aux, x='response')"
   ]
  },
  {
   "cell_type": "code",
   "execution_count": 166,
   "metadata": {},
   "outputs": [
    {
     "data": {
      "text/plain": [
       "<Axes: xlabel='region_code'>"
      ]
     },
     "execution_count": 166,
     "metadata": {},
     "output_type": "execute_result"
    },
    {
     "data": {
      "image/png": "[encoded data removed]",
      "text/plain": [
       "<Figure size 1080x360 with 2 Axes>"
      ]
     },
     "metadata": {
      "needs_background": "light"
     },
     "output_type": "display_data"
    }
   ],
   "source": [
    "#region_code\n",
    "plt.figure(figsize=(15,5))\n",
    "plt.subplot(1,2,1)\n",
    "sns.histplot(data=df4, x='region_code')\n",
    "plt.subplot(1,2,2)\n",
    "sns.boxplot(data=df4, x='region_code')"
   ]
  },
  {
   "attachments": {},
   "cell_type": "markdown",
   "metadata": {},
   "source": [
    "## 5.2 Bivariate Analysis"
   ]
  },
  {
   "attachments": {},
   "cell_type": "markdown",
   "metadata": {},
   "source": [
    "### H3. Clientes com carros novos com menos de um ano contratariam o seguro veicular\n",
    " "
   ]
  },
  {
   "cell_type": "code",
   "execution_count": 167,
   "metadata": {},
   "outputs": [
    {
     "data": {
      "text/plain": [
       "<Axes: xlabel='vehicle_age', ylabel='response'>"
      ]
     },
     "execution_count": 167,
     "metadata": {},
     "output_type": "execute_result"
    },
    {
     "data": {
      "image/png": "[encoded data removed]",
      "text/plain": [
       "<Figure size 1080x360 with 2 Axes>"
      ]
     },
     "metadata": {
      "needs_background": "light"
     },
     "output_type": "display_data"
    }
   ],
   "source": [
    "plt.figure(figsize=(15,5))\n",
    "plt.subplot(1,2,1)\n",
    "aux = df4.loc[df4['response'] == 1, ['response', 'vehicle_age']].groupby(['vehicle_age']).count().reset_index()\n",
    "sns.barplot(data=aux, x='vehicle_age', y='response')\n",
    "plt.subplot(1,2,2)\n",
    "aux1 = df4.loc[df4['response'] == 0, ['response', 'vehicle_age']].groupby(['vehicle_age']).count().reset_index()\n",
    "sns.barplot(data=aux1, x='vehicle_age', y='response')\n"
   ]
  },
  {
   "cell_type": "code",
   "execution_count": 168,
   "metadata": {},
   "outputs": [
    {
     "name": "stdout",
     "output_type": "stream",
     "text": [
      "Total de pessoas que contratariam o seguro veicular e o carro tem menos de um ano: 0.1544\n",
      "Total de pessoas que contratariam o seguro veicular e o carro tem entre um e dois anos: 0.7443\n"
     ]
    }
   ],
   "source": [
    "total_response_v = len(df4.loc[df4['response'] == 1,:])\n",
    "############## Para menos de um ano #################\n",
    "total_less_oney = len(df4.loc[(df4['response'] == 1) & (df4['vehicle_age'] == '< 1 Year'),:])\n",
    "percentage_less_oney = total_less_oney/total_response_v\n",
    "print('Total de pessoas que contratariam o seguro veicular e o carro tem menos de um ano: {:.4f}'.format(percentage_less_oney))\n",
    "\n",
    "############## Entre um e dois anos #################\n",
    "total_less_oney = len(df4.loc[(df4['response'] == 1) & (df4['vehicle_age'] == '1-2 Year'),:])\n",
    "percentage_bwt_onetwo = total_less_oney/total_response_v\n",
    "print('Total de pessoas que contratariam o seguro veicular e o carro tem entre um e dois anos: {:.4f}'.format(percentage_bwt_onetwo))"
   ]
  },
  {
   "attachments": {},
   "cell_type": "markdown",
   "metadata": {},
   "source": [
    "Como apenas 15% das pessoas que tem o carro a menos de um ano contratariam o seguro a hipótese **H3** é falsa. Além disso, 74% das pessoas que contratariam o seguro tem o carro entre 1 e 2 anos."
   ]
  },
  {
   "attachments": {},
   "cell_type": "markdown",
   "metadata": {},
   "source": [
    "### H4. Pessoas acima dos 30 anos contratariam o seguro veicular\n"
   ]
  },
  {
   "cell_type": "code",
   "execution_count": 169,
   "metadata": {},
   "outputs": [
    {
     "name": "stderr",
     "output_type": "stream",
     "text": [
      "/tmp/ipykernel_23226/2479584926.py:7: SettingWithCopyWarning: \n",
      "A value is trying to be set on a copy of a slice from a DataFrame.\n",
      "Try using .loc[row_indexer,col_indexer] = value instead\n",
      "\n",
      "See the caveats in the documentation: https://pandas.pydata.org/pandas-docs/stable/user_guide/indexing.html#returning-a-view-versus-a-copy\n",
      "  aux['age_binned'] = pd.cut(aux['age'], bins)\n"
     ]
    },
    {
     "data": {
      "image/png": "[encoded data removed]",
      "text/plain": [
       "<Figure size 1440x360 with 2 Axes>"
      ]
     },
     "metadata": {
      "needs_background": "light"
     },
     "output_type": "display_data"
    }
   ],
   "source": [
    "aux = df4.loc[df4['response'] == 1,:]\n",
    "plt.figure(figsize=(20,5))\n",
    "plt.subplot(1,2,1)\n",
    "sns.histplot(data=aux, x='age')\n",
    "plt.subplot(1,2,2)\n",
    "bins = np.arange(20,90,5)\n",
    "aux['age_binned'] = pd.cut(aux['age'], bins)\n",
    "aux2 = aux.loc[:, ['response', 'age_binned']].groupby(['age_binned']).sum().reset_index()\n",
    "sns.barplot(data=aux2, x='age_binned',y='response')\n",
    "plt.xticks(rotation=90);"
   ]
  },
  {
   "cell_type": "code",
   "execution_count": 170,
   "metadata": {},
   "outputs": [
    {
     "name": "stdout",
     "output_type": "stream",
     "text": [
      "Total de pessoas que contratariam o seguro e tem mais de 30 anos: 0.8459\n",
      "Total de pessoas que contratariam o seguro e tem menos de 30 anos: 0.1367\n"
     ]
    }
   ],
   "source": [
    "less_30 =len(aux.loc[aux['age'] <30, : ])/len(aux)\n",
    "higher_30 = len(aux.loc[aux['age'] >30, : ])/len(aux)\n",
    "print('Total de pessoas que contratariam o seguro e tem mais de 30 anos: {:.4f}'.format(higher_30))\n",
    "print('Total de pessoas que contratariam o seguro e tem menos de 30 anos: {:.4f}'.format(less_30))\n"
   ]
  },
  {
   "attachments": {},
   "cell_type": "markdown",
   "metadata": {},
   "source": [
    "Hipótese é **verdadeira**, aproximadamente 85% das pessoas que contratariam o seguro tem mais de 30 anos de idade"
   ]
  },
  {
   "attachments": {},
   "cell_type": "markdown",
   "metadata": {},
   "source": [
    "### H5. Clientes cujo veículo já sofreu danos contratariam o seguro veicular"
   ]
  },
  {
   "cell_type": "code",
   "execution_count": 171,
   "metadata": {},
   "outputs": [
    {
     "data": {
      "text/plain": [
       "vehicle_damage\n",
       "Yes    0.504899\n",
       "No     0.495101\n",
       "Name: proportion, dtype: float64"
      ]
     },
     "execution_count": 171,
     "metadata": {},
     "output_type": "execute_result"
    }
   ],
   "source": [
    "df4['vehicle_damage'].value_counts(normalize=True)"
   ]
  },
  {
   "cell_type": "markdown",
   "metadata": {},
   "source": [
    "### H6. Somente clientes habilitados contratariam o seguro veicular\n"
   ]
  },
  {
   "cell_type": "code",
   "execution_count": 172,
   "metadata": {},
   "outputs": [
    {
     "data": {
      "text/plain": [
       "driving_license\n",
       "1    0.997829\n",
       "0    0.002171\n",
       "Name: proportion, dtype: float64"
      ]
     },
     "execution_count": 172,
     "metadata": {},
     "output_type": "execute_result"
    }
   ],
   "source": [
    "df4['driving_license'].value_counts(normalize=True)"
   ]
  },
  {
   "attachments": {},
   "cell_type": "markdown",
   "metadata": {},
   "source": [
    "Hipótese verdadeira, 99,7% dos clientes que contratariam o seguro são habilitados."
   ]
  },
  {
   "cell_type": "markdown",
   "metadata": {},
   "source": [
    "### H7. Clientes mais antigos da seguradora contratariam o seguro veicular\n"
   ]
  },
  {
   "cell_type": "code",
   "execution_count": 173,
   "metadata": {},
   "outputs": [
    {
     "data": {
      "image/png": "[encoded data removed]",
      "text/plain": [
       "<Figure size 1440x360 with 1 Axes>"
      ]
     },
     "metadata": {
      "needs_background": "light"
     },
     "output_type": "display_data"
    }
   ],
   "source": [
    "aux = df4.loc[df4['response'] == 1, ['response', 'vintage']]\n",
    "plt.figure(figsize=(20,5))\n",
    "bins = np.arange(1,320,30)\n",
    "aux['vintage_binned'] = pd.cut(aux['vintage'], bins = bins)\n",
    "aux2 = aux.loc[:, ['response','vintage_binned']].groupby(['vintage_binned']).sum().reset_index()\n",
    "sns.barplot(data=aux2,x='vintage_binned', y='response')\n",
    "plt.xticks(rotation=90);\n"
   ]
  },
  {
   "attachments": {},
   "cell_type": "markdown",
   "metadata": {},
   "source": [
    "## 5.3 Multivariate Analysis"
   ]
  },
  {
   "cell_type": "code",
   "execution_count": 174,
   "metadata": {},
   "outputs": [
    {
     "data": {
      "text/plain": [
       "<Axes: >"
      ]
     },
     "execution_count": 174,
     "metadata": {},
     "output_type": "execute_result"
    },
    {
     "data": {
      "image/png": "[encoded data removed]",
      "text/plain": [
       "<Figure size 1440x720 with 2 Axes>"
      ]
     },
     "metadata": {
      "needs_background": "light"
     },
     "output_type": "display_data"
    }
   ],
   "source": [
    "\n",
    "plt.figure(figsize=(20,10))\n",
    "sns.heatmap(numerical_features.corr('pearson'), annot=True)\n",
    "\n"
   ]
  },
  {
   "attachments": {},
   "cell_type": "markdown",
   "metadata": {},
   "source": [
    "# 6.0 Data Preparation"
   ]
  },
  {
   "cell_type": "code",
   "execution_count": 254,
   "metadata": {},
   "outputs": [],
   "source": [
    "df5 = df46.copy()\n"
   ]
  },
  {
   "cell_type": "code",
   "execution_count": 255,
   "metadata": {},
   "outputs": [
    {
     "data": {
      "text/html": [
       "<div>\n",
       "<style scoped>\n",
       "    .dataframe tbody tr th:only-of-type {\n",
       "        vertical-align: middle;\n",
       "    }\n",
       "\n",
       "    .dataframe tbody tr th {\n",
       "        vertical-align: top;\n",
       "    }\n",
       "\n",
       "    .dataframe thead th {\n",
       "        text-align: right;\n",
       "    }\n",
       "</style>\n",
       "<table border=\"1\" class=\"dataframe\">\n",
       "  <thead>\n",
       "    <tr style=\"text-align: right;\">\n",
       "      <th></th>\n",
       "      <th>age</th>\n",
       "      <th>driving_license</th>\n",
       "      <th>region_code</th>\n",
       "      <th>previously_insured</th>\n",
       "      <th>annual_premium</th>\n",
       "      <th>policy_sales_channel</th>\n",
       "      <th>vintage</th>\n",
       "      <th>gender</th>\n",
       "      <th>vehicle_age</th>\n",
       "      <th>vehicle_damage</th>\n",
       "      <th>response</th>\n",
       "    </tr>\n",
       "  </thead>\n",
       "  <tbody>\n",
       "    <tr>\n",
       "      <th>22193</th>\n",
       "      <td>33</td>\n",
       "      <td>1</td>\n",
       "      <td>28.0</td>\n",
       "      <td>0</td>\n",
       "      <td>46363.0</td>\n",
       "      <td>124.0</td>\n",
       "      <td>114</td>\n",
       "      <td>Female</td>\n",
       "      <td>1-2 Year</td>\n",
       "      <td>Yes</td>\n",
       "      <td>0</td>\n",
       "    </tr>\n",
       "    <tr>\n",
       "      <th>150347</th>\n",
       "      <td>64</td>\n",
       "      <td>1</td>\n",
       "      <td>11.0</td>\n",
       "      <td>1</td>\n",
       "      <td>39612.0</td>\n",
       "      <td>26.0</td>\n",
       "      <td>28</td>\n",
       "      <td>Male</td>\n",
       "      <td>1-2 Year</td>\n",
       "      <td>No</td>\n",
       "      <td>0</td>\n",
       "    </tr>\n",
       "    <tr>\n",
       "      <th>69197</th>\n",
       "      <td>78</td>\n",
       "      <td>1</td>\n",
       "      <td>28.0</td>\n",
       "      <td>0</td>\n",
       "      <td>59054.0</td>\n",
       "      <td>122.0</td>\n",
       "      <td>195</td>\n",
       "      <td>Female</td>\n",
       "      <td>&gt; 2 Years</td>\n",
       "      <td>Yes</td>\n",
       "      <td>0</td>\n",
       "    </tr>\n",
       "    <tr>\n",
       "      <th>372839</th>\n",
       "      <td>26</td>\n",
       "      <td>1</td>\n",
       "      <td>10.0</td>\n",
       "      <td>1</td>\n",
       "      <td>28673.0</td>\n",
       "      <td>152.0</td>\n",
       "      <td>224</td>\n",
       "      <td>Female</td>\n",
       "      <td>&lt; 1 Year</td>\n",
       "      <td>No</td>\n",
       "      <td>0</td>\n",
       "    </tr>\n",
       "    <tr>\n",
       "      <th>140927</th>\n",
       "      <td>27</td>\n",
       "      <td>1</td>\n",
       "      <td>28.0</td>\n",
       "      <td>1</td>\n",
       "      <td>50908.0</td>\n",
       "      <td>152.0</td>\n",
       "      <td>252</td>\n",
       "      <td>Female</td>\n",
       "      <td>&lt; 1 Year</td>\n",
       "      <td>No</td>\n",
       "      <td>0</td>\n",
       "    </tr>\n",
       "    <tr>\n",
       "      <th>...</th>\n",
       "      <td>...</td>\n",
       "      <td>...</td>\n",
       "      <td>...</td>\n",
       "      <td>...</td>\n",
       "      <td>...</td>\n",
       "      <td>...</td>\n",
       "      <td>...</td>\n",
       "      <td>...</td>\n",
       "      <td>...</td>\n",
       "      <td>...</td>\n",
       "      <td>...</td>\n",
       "    </tr>\n",
       "    <tr>\n",
       "      <th>347449</th>\n",
       "      <td>46</td>\n",
       "      <td>1</td>\n",
       "      <td>21.0</td>\n",
       "      <td>0</td>\n",
       "      <td>33012.0</td>\n",
       "      <td>26.0</td>\n",
       "      <td>232</td>\n",
       "      <td>Male</td>\n",
       "      <td>1-2 Year</td>\n",
       "      <td>Yes</td>\n",
       "      <td>1</td>\n",
       "    </tr>\n",
       "    <tr>\n",
       "      <th>321879</th>\n",
       "      <td>52</td>\n",
       "      <td>1</td>\n",
       "      <td>50.0</td>\n",
       "      <td>0</td>\n",
       "      <td>26838.0</td>\n",
       "      <td>124.0</td>\n",
       "      <td>103</td>\n",
       "      <td>Male</td>\n",
       "      <td>1-2 Year</td>\n",
       "      <td>Yes</td>\n",
       "      <td>1</td>\n",
       "    </tr>\n",
       "    <tr>\n",
       "      <th>64820</th>\n",
       "      <td>30</td>\n",
       "      <td>1</td>\n",
       "      <td>30.0</td>\n",
       "      <td>0</td>\n",
       "      <td>26651.0</td>\n",
       "      <td>154.0</td>\n",
       "      <td>50</td>\n",
       "      <td>Male</td>\n",
       "      <td>&lt; 1 Year</td>\n",
       "      <td>Yes</td>\n",
       "      <td>1</td>\n",
       "    </tr>\n",
       "    <tr>\n",
       "      <th>175203</th>\n",
       "      <td>43</td>\n",
       "      <td>1</td>\n",
       "      <td>28.0</td>\n",
       "      <td>0</td>\n",
       "      <td>28991.0</td>\n",
       "      <td>26.0</td>\n",
       "      <td>121</td>\n",
       "      <td>Male</td>\n",
       "      <td>1-2 Year</td>\n",
       "      <td>Yes</td>\n",
       "      <td>1</td>\n",
       "    </tr>\n",
       "    <tr>\n",
       "      <th>121958</th>\n",
       "      <td>27</td>\n",
       "      <td>1</td>\n",
       "      <td>37.0</td>\n",
       "      <td>0</td>\n",
       "      <td>24741.0</td>\n",
       "      <td>152.0</td>\n",
       "      <td>127</td>\n",
       "      <td>Female</td>\n",
       "      <td>&lt; 1 Year</td>\n",
       "      <td>Yes</td>\n",
       "      <td>1</td>\n",
       "    </tr>\n",
       "  </tbody>\n",
       "</table>\n",
       "<p>74374 rows × 11 columns</p>\n",
       "</div>"
      ],
      "text/plain": [
       "        age  driving_license  region_code  previously_insured  annual_premium   \n",
       "22193    33                1         28.0                   0         46363.0  \\\n",
       "150347   64                1         11.0                   1         39612.0   \n",
       "69197    78                1         28.0                   0         59054.0   \n",
       "372839   26                1         10.0                   1         28673.0   \n",
       "140927   27                1         28.0                   1         50908.0   \n",
       "...     ...              ...          ...                 ...             ...   \n",
       "347449   46                1         21.0                   0         33012.0   \n",
       "321879   52                1         50.0                   0         26838.0   \n",
       "64820    30                1         30.0                   0         26651.0   \n",
       "175203   43                1         28.0                   0         28991.0   \n",
       "121958   27                1         37.0                   0         24741.0   \n",
       "\n",
       "        policy_sales_channel  vintage  gender vehicle_age vehicle_damage   \n",
       "22193                  124.0      114  Female    1-2 Year            Yes  \\\n",
       "150347                  26.0       28    Male    1-2 Year             No   \n",
       "69197                  122.0      195  Female   > 2 Years            Yes   \n",
       "372839                 152.0      224  Female    < 1 Year             No   \n",
       "140927                 152.0      252  Female    < 1 Year             No   \n",
       "...                      ...      ...     ...         ...            ...   \n",
       "347449                  26.0      232    Male    1-2 Year            Yes   \n",
       "321879                 124.0      103    Male    1-2 Year            Yes   \n",
       "64820                  154.0       50    Male    < 1 Year            Yes   \n",
       "175203                  26.0      121    Male    1-2 Year            Yes   \n",
       "121958                 152.0      127  Female    < 1 Year            Yes   \n",
       "\n",
       "        response  \n",
       "22193          0  \n",
       "150347         0  \n",
       "69197          0  \n",
       "372839         0  \n",
       "140927         0  \n",
       "...          ...  \n",
       "347449         1  \n",
       "321879         1  \n",
       "64820          1  \n",
       "175203         1  \n",
       "121958         1  \n",
       "\n",
       "[74374 rows x 11 columns]"
      ]
     },
     "execution_count": 255,
     "metadata": {},
     "output_type": "execute_result"
    }
   ],
   "source": [
    "df5"
   ]
  },
  {
   "attachments": {},
   "cell_type": "markdown",
   "metadata": {},
   "source": [
    "### 6.1 Encodind"
   ]
  },
  {
   "cell_type": "code",
   "execution_count": 256,
   "metadata": {},
   "outputs": [
    {
     "name": "stderr",
     "output_type": "stream",
     "text": [
      "/home/alexandrerod/anaconda3/envs/HealthInsurance/lib/python3.11/site-packages/sklearn/preprocessing/_label.py:116: DataConversionWarning: A column-vector y was passed when a 1d array was expected. Please change the shape of y to (n_samples, ), for example using ravel().\n",
      "  y = column_or_1d(y, warn=True)\n",
      "/home/alexandrerod/anaconda3/envs/HealthInsurance/lib/python3.11/site-packages/sklearn/preprocessing/_label.py:134: DataConversionWarning: A column-vector y was passed when a 1d array was expected. Please change the shape of y to (n_samples, ), for example using ravel().\n",
      "  y = column_or_1d(y, dtype=self.classes_.dtype, warn=True)\n"
     ]
    }
   ],
   "source": [
    "\n",
    "le_vehicle_age = pp.LabelEncoder()\n",
    "\n",
    "#gender train\n",
    "df5 = pd.get_dummies(df5, prefix=['gender'], columns=['gender']  ,dtype='int64')\n",
    "\n",
    "#gender test\n",
    "df_test = pd.get_dummies(df_test, prefix=['gender'], columns=['gender'], dtype='int64' )\n",
    "\n",
    "#vehicle_age train\n",
    "df5['vehicle_age'] = le_vehicle_age.fit_transform(df5[['vehicle_age']].values)\n",
    "pickle.dump(le_vehicle_age, open('../parameters/vehicle_age_encoding.pkl','wb'))\n",
    "\n",
    "#vehicle_age test\n",
    "df_test['vehicle_age'] = le_vehicle_age.transform(df_test[['vehicle_age']].values)\n",
    "\n",
    "#vehicle_damage train\n",
    "df5 = pd.get_dummies(df5, prefix=['vehicle_damage'], columns=['vehicle_damage'] ,dtype='int64' )\n",
    "\n",
    "#vehicle_damage test\n",
    "df_test = pd.get_dummies(df_test, prefix=['vehicle_damage'], columns=['vehicle_damage'], dtype='int64'  )\n",
    "\n",
    "\n"
   ]
  },
  {
   "attachments": {},
   "cell_type": "markdown",
   "metadata": {},
   "source": [
    "### 6.3 Rescaling"
   ]
  },
  {
   "cell_type": "code",
   "execution_count": 177,
   "metadata": {},
   "outputs": [],
   "source": [
    "# rs_annual = pp.RobustScaler()\n",
    "# rs_vintage = pp.RobustScaler()\n",
    "\n",
    "# mms_age= pp.MinMaxScaler()\n",
    "# mms_region = pp.MinMaxScaler()\n",
    "# mms_policy = pp.MinMaxScaler()\n",
    "\n",
    "# #age train\n",
    "# df5['age'] = mms_age.fit_transform(df5[['age']].values)\n",
    "# pickle.dump(mms_age,open('../parameters/age_scaler.pkl', 'wb'))\n",
    "# #age test\n",
    "# df_test['age'] = mms_age.transform(df_test[['age']].values)\n",
    "\n",
    "# #region_code train\n",
    "# df5['region_code'] = mms_region.fit_transform(df5[['region_code']].values)\n",
    "# pickle.dump(mms_region, open('../parameters/region_scaler.pkl', 'wb'))\n",
    "# #region_code test\n",
    "# df_test['region_code'] = mms_region.transform(df_test[['region_code']].values)\n",
    "\n",
    "# #annual_premium train\n",
    "# df5['annual_premium'] = rs_annual.fit_transform(df5[['annual_premium']].values)\n",
    "# pickle.dump(rs_annual, open('../parameters/annual_premium.pkl', 'wb'))\n",
    "\n",
    "# #annual_premium test\n",
    "# df_test['annual_premium'] = rs_annual.transform(df_test[['annual_premium']].values)\n",
    "\n",
    "# #policy_sales_channel train\n",
    "# df5['policy_sales_channel'] = mms_policy.fit_transform(df5[['policy_sales_channel']].values)\n",
    "# pickle.dump(mms_policy, open('../parameters/policy_chanel_scaler.pkl', 'wb'))\n",
    "\n",
    "# #policy_sales_channel test\n",
    "# df_test['policy_sales_channel'] = mms_policy.transform(df_test[['policy_sales_channel']].values)\n",
    "\n",
    "# #vintage train\n",
    "# df5['vintage'] = rs_vintage.fit_transform(df5[['vintage']].values)\n",
    "# pickle.dump(rs_vintage, open('../parameters/vintage_scaler.pkl', 'wb'))\n",
    "# #vintage test\n",
    "# df_test['vintage'] = rs_vintage.transform(df_test[['vintage']].values)\n"
   ]
  },
  {
   "cell_type": "code",
   "execution_count": null,
   "metadata": {},
   "outputs": [],
   "source": []
  },
  {
   "attachments": {},
   "cell_type": "markdown",
   "metadata": {},
   "source": [
    "# 7.0 Feature Selection"
   ]
  },
  {
   "cell_type": "code",
   "execution_count": 178,
   "metadata": {},
   "outputs": [
    {
     "name": "stdout",
     "output_type": "stream",
     "text": [
      "Number of rows in x_train: 74374\n",
      "Number of rows in x_val: 76222\n",
      "Number of rows in y_train: 74374\n",
      "Number of rows in y_val: 76222\n"
     ]
    }
   ],
   "source": [
    "X_train = df5.drop('response', axis=1)\n",
    "y_train = df5['response']\n",
    "\n",
    "X_val = df_test.drop('response', axis=1)\n",
    "y_val = df_test['response']\n",
    "\n",
    "print('Number of rows in x_train: {}'.format(len(X_train)))\n",
    "print('Number of rows in x_val: {}'.format(len(X_val)))\n",
    "print('Number of rows in y_train: {}'.format(len(y_train)))\n",
    "print('Number of rows in y_val: {}'.format(len(y_val)))\n"
   ]
  },
  {
   "cell_type": "code",
   "execution_count": null,
   "metadata": {},
   "outputs": [],
   "source": []
  },
  {
   "attachments": {},
   "cell_type": "markdown",
   "metadata": {},
   "source": [
    "## 7.1 Boruta as Feat Selector"
   ]
  },
  {
   "cell_type": "code",
   "execution_count": 179,
   "metadata": {},
   "outputs": [],
   "source": [
    "# X_train_n = X_train.values\n",
    "# y_train_n = y_train.ravel()\n",
    "\n",
    "# rf= en.RandomForestClassifier(n_jobs=-1)"
   ]
  },
  {
   "attachments": {},
   "cell_type": "markdown",
   "metadata": {},
   "source": [
    "### 7.2.1 Features Select from boruta"
   ]
  },
  {
   "cell_type": "code",
   "execution_count": 180,
   "metadata": {},
   "outputs": [],
   "source": [
    "# boruta = BorutaPy(rf, n_estimators='auto', verbose=2, random_state=42)\n",
    "\n",
    "# boruta.fit(X_train_n, y_train_n)"
   ]
  },
  {
   "cell_type": "code",
   "execution_count": 181,
   "metadata": {},
   "outputs": [],
   "source": [
    "# cols_selected = boruta.support_.tolist()\n",
    "# cols_selected\n",
    "# X_train_fs = X_train\n",
    "# cols_selected_boruta = X_train_fs.iloc[:,cols_selected].columns.tolist()\n",
    "# cols_selected_boruta\n"
   ]
  },
  {
   "attachments": {},
   "cell_type": "markdown",
   "metadata": {},
   "source": [
    "### 7.1.2 Manual Feature Selection"
   ]
  },
  {
   "cell_type": "code",
   "execution_count": 182,
   "metadata": {},
   "outputs": [],
   "source": [
    "cols_selected_boruta = ['age', 'previously_insured', 'vehicle_damage_No', 'vehicle_damage_Yes']\n"
   ]
  },
  {
   "attachments": {},
   "cell_type": "markdown",
   "metadata": {},
   "source": [
    "## 7.2 Feature Importance"
   ]
  },
  {
   "cell_type": "code",
   "execution_count": 183,
   "metadata": {},
   "outputs": [
    {
     "data": {
      "text/html": [
       "<style>#sk-container-id-2 {color: black;background-color: white;}#sk-container-id-2 pre{padding: 0;}#sk-container-id-2 div.sk-toggleable {background-color: white;}#sk-container-id-2 label.sk-toggleable__label {cursor: pointer;display: block;width: 100%;margin-bottom: 0;padding: 0.3em;box-sizing: border-box;text-align: center;}#sk-container-id-2 label.sk-toggleable__label-arrow:before {content: \"▸\";float: left;margin-right: 0.25em;color: #696969;}#sk-container-id-2 label.sk-toggleable__label-arrow:hover:before {color: black;}#sk-container-id-2 div.sk-estimator:hover label.sk-toggleable__label-arrow:before {color: black;}#sk-container-id-2 div.sk-toggleable__content {max-height: 0;max-width: 0;overflow: hidden;text-align: left;background-color: #f0f8ff;}#sk-container-id-2 div.sk-toggleable__content pre {margin: 0.2em;color: black;border-radius: 0.25em;background-color: #f0f8ff;}#sk-container-id-2 input.sk-toggleable__control:checked~div.sk-toggleable__content {max-height: 200px;max-width: 100%;overflow: auto;}#sk-container-id-2 input.sk-toggleable__control:checked~label.sk-toggleable__label-arrow:before {content: \"▾\";}#sk-container-id-2 div.sk-estimator input.sk-toggleable__control:checked~label.sk-toggleable__label {background-color: #d4ebff;}#sk-container-id-2 div.sk-label input.sk-toggleable__control:checked~label.sk-toggleable__label {background-color: #d4ebff;}#sk-container-id-2 input.sk-hidden--visually {border: 0;clip: rect(1px 1px 1px 1px);clip: rect(1px, 1px, 1px, 1px);height: 1px;margin: -1px;overflow: hidden;padding: 0;position: absolute;width: 1px;}#sk-container-id-2 div.sk-estimator {font-family: monospace;background-color: #f0f8ff;border: 1px dotted black;border-radius: 0.25em;box-sizing: border-box;margin-bottom: 0.5em;}#sk-container-id-2 div.sk-estimator:hover {background-color: #d4ebff;}#sk-container-id-2 div.sk-parallel-item::after {content: \"\";width: 100%;border-bottom: 1px solid gray;flex-grow: 1;}#sk-container-id-2 div.sk-label:hover label.sk-toggleable__label {background-color: #d4ebff;}#sk-container-id-2 div.sk-serial::before {content: \"\";position: absolute;border-left: 1px solid gray;box-sizing: border-box;top: 0;bottom: 0;left: 50%;z-index: 0;}#sk-container-id-2 div.sk-serial {display: flex;flex-direction: column;align-items: center;background-color: white;padding-right: 0.2em;padding-left: 0.2em;position: relative;}#sk-container-id-2 div.sk-item {position: relative;z-index: 1;}#sk-container-id-2 div.sk-parallel {display: flex;align-items: stretch;justify-content: center;background-color: white;position: relative;}#sk-container-id-2 div.sk-item::before, #sk-container-id-2 div.sk-parallel-item::before {content: \"\";position: absolute;border-left: 1px solid gray;box-sizing: border-box;top: 0;bottom: 0;left: 50%;z-index: -1;}#sk-container-id-2 div.sk-parallel-item {display: flex;flex-direction: column;z-index: 1;position: relative;background-color: white;}#sk-container-id-2 div.sk-parallel-item:first-child::after {align-self: flex-end;width: 50%;}#sk-container-id-2 div.sk-parallel-item:last-child::after {align-self: flex-start;width: 50%;}#sk-container-id-2 div.sk-parallel-item:only-child::after {width: 0;}#sk-container-id-2 div.sk-dashed-wrapped {border: 1px dashed gray;margin: 0 0.4em 0.5em 0.4em;box-sizing: border-box;padding-bottom: 0.4em;background-color: white;}#sk-container-id-2 div.sk-label label {font-family: monospace;font-weight: bold;display: inline-block;line-height: 1.2em;}#sk-container-id-2 div.sk-label-container {text-align: center;}#sk-container-id-2 div.sk-container {/* jupyter's `normalize.less` sets `[hidden] { display: none; }` but bootstrap.min.css set `[hidden] { display: none !important; }` so we also need the `!important` here to be able to override the default hidden behavior on the sphinx rendered scikit-learn.org. See: https://github.com/scikit-learn/scikit-learn/issues/21755 */display: inline-block !important;position: relative;}#sk-container-id-2 div.sk-text-repr-fallback {display: none;}</style><div id=\"sk-container-id-2\" class=\"sk-top-container\"><div class=\"sk-text-repr-fallback\"><pre>RandomForestClassifier(n_estimators=1000, n_jobs=-1, random_state=42)</pre><b>In a Jupyter environment, please rerun this cell to show the HTML representation or trust the notebook. <br />On GitHub, the HTML representation is unable to render, please try loading this page with nbviewer.org.</b></div><div class=\"sk-container\" hidden><div class=\"sk-item\"><div class=\"sk-estimator sk-toggleable\"><input class=\"sk-toggleable__control sk-hidden--visually\" id=\"sk-estimator-id-2\" type=\"checkbox\" checked><label for=\"sk-estimator-id-2\" class=\"sk-toggleable__label sk-toggleable__label-arrow\">RandomForestClassifier</label><div class=\"sk-toggleable__content\"><pre>RandomForestClassifier(n_estimators=1000, n_jobs=-1, random_state=42)</pre></div></div></div></div></div>"
      ],
      "text/plain": [
       "RandomForestClassifier(n_estimators=1000, n_jobs=-1, random_state=42)"
      ]
     },
     "execution_count": 183,
     "metadata": {},
     "output_type": "execute_result"
    }
   ],
   "source": [
    "#model define\n",
    "rf_select = en.RandomForestClassifier(n_estimators=1000, random_state=42, n_jobs=-1)\n",
    "\n",
    "rf_select.fit(X_train, y_train)"
   ]
  },
  {
   "cell_type": "code",
   "execution_count": 184,
   "metadata": {},
   "outputs": [],
   "source": [
    "importances = rf_select.feature_importances_"
   ]
  },
  {
   "cell_type": "code",
   "execution_count": 185,
   "metadata": {},
   "outputs": [
    {
     "name": "stdout",
     "output_type": "stream",
     "text": [
      "age 0.1324875526254175\n",
      "driving_license 0.0006382068333260533\n",
      "region_code 0.08799879710969162\n",
      "previously_insured 0.10527267971468543\n",
      "annual_premium 0.16035303642829743\n",
      "policy_sales_channel 0.06585192841594212\n",
      "vintage 0.18052787475070847\n",
      "vehicle_age 0.015160909014734842\n",
      "gender_Female 0.003019268668836309\n",
      "gender_Male 0.0030759119472434904\n",
      "vehicle_damage_No 0.13460312888735937\n",
      "vehicle_damage_Yes 0.11101070560375752\n"
     ]
    }
   ],
   "source": [
    "for feature, importance in zip(X_train,importances):\n",
    "    print(feature, importance)"
   ]
  },
  {
   "cell_type": "code",
   "execution_count": 186,
   "metadata": {},
   "outputs": [
    {
     "data": {
      "image/png": "[encoded data removed]",
      "text/plain": [
       "<Figure size 1440x720 with 1 Axes>"
      ]
     },
     "metadata": {
      "needs_background": "light"
     },
     "output_type": "display_data"
    }
   ],
   "source": [
    "plt.figure(figsize=(20,10))\n",
    "plt.bar(X_train.columns, importances)\n",
    "plt.xlabel('Features')\n",
    "plt.ylabel('Importances')\n",
    "plt.xticks(rotation=90);"
   ]
  },
  {
   "cell_type": "code",
   "execution_count": 187,
   "metadata": {},
   "outputs": [
    {
     "data": {
      "text/plain": [
       "<BarContainer object of 12 artists>"
      ]
     },
     "execution_count": 187,
     "metadata": {},
     "output_type": "execute_result"
    },
    {
     "data": {
      "image/png": "[encoded data removed]",
      "text/plain": [
       "<Figure size 432x288 with 1 Axes>"
      ]
     },
     "metadata": {
      "needs_background": "light"
     },
     "output_type": "display_data"
    }
   ],
   "source": [
    "plt.barh(X_train.columns, importances)"
   ]
  },
  {
   "cell_type": "code",
   "execution_count": 188,
   "metadata": {},
   "outputs": [],
   "source": [
    "cols_selected_rf = ['age','vintage', 'annual_premium']"
   ]
  },
  {
   "attachments": {},
   "cell_type": "markdown",
   "metadata": {},
   "source": [
    "# 8.0 Machine Learning Modelling"
   ]
  },
  {
   "cell_type": "code",
   "execution_count": 189,
   "metadata": {},
   "outputs": [],
   "source": [
    "x_train = X_train[cols_selected_boruta]\n",
    "x_val = X_val[cols_selected_boruta]\n",
    "\n",
    "# x_train = X_train[cols_selected_rf]\n",
    "# x_test = X_test[cols_selected_rf]\n",
    "\n"
   ]
  },
  {
   "attachments": {},
   "cell_type": "markdown",
   "metadata": {},
   "source": [
    "## 8.1 KNN"
   ]
  },
  {
   "cell_type": "code",
   "execution_count": 190,
   "metadata": {},
   "outputs": [
    {
     "data": {
      "text/plain": [
       "<Axes: title={'center': 'Lift Curve'}, xlabel='Percentage of sample', ylabel='Lift'>"
      ]
     },
     "execution_count": 190,
     "metadata": {},
     "output_type": "execute_result"
    },
    {
     "data": {
      "image/png": "[encoded data removed]",
      "text/plain": [
       "<Figure size 432x288 with 1 Axes>"
      ]
     },
     "metadata": {
      "needs_background": "light"
     },
     "output_type": "display_data"
    },
    {
     "data": {
      "image/png": "[encoded data removed]",
      "text/plain": [
       "<Figure size 432x288 with 1 Axes>"
      ]
     },
     "metadata": {
      "needs_background": "light"
     },
     "output_type": "display_data"
    }
   ],
   "source": [
    "#model\n",
    "knn = ng.KNeighborsClassifier(n_neighbors=8)\n",
    "\n",
    "#model training\n",
    "knn.fit(x_train, y_train)\n",
    "\n",
    "#predict\n",
    "\n",
    "yhat_knn = knn.predict_proba(x_val)\n",
    "\n",
    "#performance\n",
    "result_knn  = model_result('Knn', x_val, y_val, yhat_knn ,2000)\n",
    "result_knn\n",
    "\n",
    "sktplt.metrics.plot_cumulative_gain(y_val, yhat_knn)\n",
    "sktplt.metrics.plot_lift_curve(y_val,yhat_knn)"
   ]
  },
  {
   "attachments": {},
   "cell_type": "markdown",
   "metadata": {},
   "source": [
    "#### 8.1.1 KNN - CROSS VALIDATION"
   ]
  },
  {
   "cell_type": "code",
   "execution_count": 191,
   "metadata": {},
   "outputs": [
    {
     "data": {
      "text/html": [
       "<div>\n",
       "<style scoped>\n",
       "    .dataframe tbody tr th:only-of-type {\n",
       "        vertical-align: middle;\n",
       "    }\n",
       "\n",
       "    .dataframe tbody tr th {\n",
       "        vertical-align: top;\n",
       "    }\n",
       "\n",
       "    .dataframe thead th {\n",
       "        text-align: right;\n",
       "    }\n",
       "</style>\n",
       "<table border=\"1\" class=\"dataframe\">\n",
       "  <thead>\n",
       "    <tr style=\"text-align: right;\">\n",
       "      <th></th>\n",
       "      <th>Model name</th>\n",
       "      <th>Precision at k</th>\n",
       "      <th>Recall at k</th>\n",
       "    </tr>\n",
       "  </thead>\n",
       "  <tbody>\n",
       "    <tr>\n",
       "      <th>0</th>\n",
       "      <td>KNN CV</td>\n",
       "      <td>0.993 +/- 0.0027</td>\n",
       "      <td>0.4275 +/- 0.0012</td>\n",
       "    </tr>\n",
       "  </tbody>\n",
       "</table>\n",
       "</div>"
      ],
      "text/plain": [
       "  Model name    Precision at k        Recall at k\n",
       "0     KNN CV  0.993 +/- 0.0027  0.4275 +/- 0.0012"
      ]
     },
     "execution_count": 191,
     "metadata": {},
     "output_type": "execute_result"
    }
   ],
   "source": [
    "knn_cv = cross_validation('KNN CV', knn, x_train,y_train, kfold=8)\n",
    "knn_cv"
   ]
  },
  {
   "attachments": {},
   "cell_type": "markdown",
   "metadata": {},
   "source": [
    "## 8.2 Decision Three"
   ]
  },
  {
   "cell_type": "code",
   "execution_count": 192,
   "metadata": {},
   "outputs": [
    {
     "data": {
      "text/plain": [
       "<Axes: title={'center': 'Lift Curve'}, xlabel='Percentage of sample', ylabel='Lift'>"
      ]
     },
     "execution_count": 192,
     "metadata": {},
     "output_type": "execute_result"
    },
    {
     "data": {
      "image/png": "[encoded data removed]",
      "text/plain": [
       "<Figure size 432x288 with 1 Axes>"
      ]
     },
     "metadata": {
      "needs_background": "light"
     },
     "output_type": "display_data"
    },
    {
     "data": {
      "image/png": "[encoded data removed]",
      "text/plain": [
       "<Figure size 432x288 with 1 Axes>"
      ]
     },
     "metadata": {
      "needs_background": "light"
     },
     "output_type": "display_data"
    }
   ],
   "source": [
    "#model\n",
    "model_tr = tr.DecisionTreeClassifier(max_depth=5, random_state=42)\n",
    "#model training\n",
    "model_tr.fit(x_train, y_train)\n",
    "#model predict\n",
    "yhat_tr = model_tr.predict_proba(x_val)\n",
    "#performance\n",
    "\n",
    "result_tr = model_result('Decision Tree', x_val, y_val,yhat_tr, 2000)\n",
    "\n",
    "sktplt.metrics.plot_cumulative_gain(y_val, yhat_tr)\n",
    "sktplt.metrics.plot_lift_curve(y_val, yhat_tr)"
   ]
  },
  {
   "attachments": {},
   "cell_type": "markdown",
   "metadata": {},
   "source": [
    "#### 8.2.1 Decision Tree Cross Validation"
   ]
  },
  {
   "cell_type": "code",
   "execution_count": 193,
   "metadata": {},
   "outputs": [
    {
     "data": {
      "text/html": [
       "<div>\n",
       "<style scoped>\n",
       "    .dataframe tbody tr th:only-of-type {\n",
       "        vertical-align: middle;\n",
       "    }\n",
       "\n",
       "    .dataframe tbody tr th {\n",
       "        vertical-align: top;\n",
       "    }\n",
       "\n",
       "    .dataframe thead th {\n",
       "        text-align: right;\n",
       "    }\n",
       "</style>\n",
       "<table border=\"1\" class=\"dataframe\">\n",
       "  <thead>\n",
       "    <tr style=\"text-align: right;\">\n",
       "      <th></th>\n",
       "      <th>Model name</th>\n",
       "      <th>Precision at k</th>\n",
       "      <th>Recall at k</th>\n",
       "    </tr>\n",
       "  </thead>\n",
       "  <tbody>\n",
       "    <tr>\n",
       "      <th>0</th>\n",
       "      <td>Decision Tree CV</td>\n",
       "      <td>0.8291 +/- 0.0455</td>\n",
       "      <td>0.3569 +/- 0.0196</td>\n",
       "    </tr>\n",
       "  </tbody>\n",
       "</table>\n",
       "</div>"
      ],
      "text/plain": [
       "         Model name     Precision at k        Recall at k\n",
       "0  Decision Tree CV  0.8291 +/- 0.0455  0.3569 +/- 0.0196"
      ]
     },
     "execution_count": 193,
     "metadata": {},
     "output_type": "execute_result"
    }
   ],
   "source": [
    "tr_cv = cross_validation('Decision Tree CV', model_tr, x_train, y_train, kfold=8)\n",
    "tr_cv"
   ]
  },
  {
   "attachments": {},
   "cell_type": "markdown",
   "metadata": {},
   "source": [
    "## 8.3 Random Forest"
   ]
  },
  {
   "cell_type": "code",
   "execution_count": 194,
   "metadata": {},
   "outputs": [
    {
     "data": {
      "text/plain": [
       "<Axes: title={'center': 'Lift Curve'}, xlabel='Percentage of sample', ylabel='Lift'>"
      ]
     },
     "execution_count": 194,
     "metadata": {},
     "output_type": "execute_result"
    },
    {
     "data": {
      "image/png": "[encoded data removed]",
      "text/plain": [
       "<Figure size 432x288 with 1 Axes>"
      ]
     },
     "metadata": {
      "needs_background": "light"
     },
     "output_type": "display_data"
    },
    {
     "data": {
      "image/png": "[encoded data removed]",
      "text/plain": [
       "<Figure size 432x288 with 1 Axes>"
      ]
     },
     "metadata": {
      "needs_background": "light"
     },
     "output_type": "display_data"
    }
   ],
   "source": [
    "#model definition\n",
    " \n",
    "rf= en.RandomForestClassifier(n_estimators= 1000,max_depth=5, n_jobs=-1, random_state=42)\n",
    "#model training\n",
    "rf.fit(x_train, y_train)\n",
    "#model predict\n",
    "yhat_rf = rf.predict_proba(x_val)\n",
    "#model performance\n",
    "result_rf = model_result('Random Forest', x_val,y_val,yhat= yhat_rf,k=2000)\n",
    "result_rf\n",
    "\n",
    "sktplt.metrics.plot_cumulative_gain(y_val, yhat_rf)\n",
    "sktplt.metrics.plot_lift_curve(y_val, yhat_rf)"
   ]
  },
  {
   "attachments": {},
   "cell_type": "markdown",
   "metadata": {},
   "source": [
    "#### 8.3.1 Random Forest Cross Validation"
   ]
  },
  {
   "cell_type": "code",
   "execution_count": 195,
   "metadata": {},
   "outputs": [
    {
     "data": {
      "text/html": [
       "<div>\n",
       "<style scoped>\n",
       "    .dataframe tbody tr th:only-of-type {\n",
       "        vertical-align: middle;\n",
       "    }\n",
       "\n",
       "    .dataframe tbody tr th {\n",
       "        vertical-align: top;\n",
       "    }\n",
       "\n",
       "    .dataframe thead th {\n",
       "        text-align: right;\n",
       "    }\n",
       "</style>\n",
       "<table border=\"1\" class=\"dataframe\">\n",
       "  <thead>\n",
       "    <tr style=\"text-align: right;\">\n",
       "      <th></th>\n",
       "      <th>Model name</th>\n",
       "      <th>Precision at k</th>\n",
       "      <th>Recall at k</th>\n",
       "    </tr>\n",
       "  </thead>\n",
       "  <tbody>\n",
       "    <tr>\n",
       "      <th>0</th>\n",
       "      <td>Random Forest CV</td>\n",
       "      <td>0.7784 +/- 0.0114</td>\n",
       "      <td>0.3351 +/- 0.0049</td>\n",
       "    </tr>\n",
       "  </tbody>\n",
       "</table>\n",
       "</div>"
      ],
      "text/plain": [
       "         Model name     Precision at k        Recall at k\n",
       "0  Random Forest CV  0.7784 +/- 0.0114  0.3351 +/- 0.0049"
      ]
     },
     "execution_count": 195,
     "metadata": {},
     "output_type": "execute_result"
    }
   ],
   "source": [
    "rf_cv = cross_validation('Random Forest CV', rf, x_train, y_train, kfold=8)\n",
    "rf_cv"
   ]
  },
  {
   "attachments": {},
   "cell_type": "markdown",
   "metadata": {},
   "source": [
    "## 8.4 XBG"
   ]
  },
  {
   "cell_type": "code",
   "execution_count": 196,
   "metadata": {},
   "outputs": [
    {
     "data": {
      "text/html": [
       "<div>\n",
       "<style scoped>\n",
       "    .dataframe tbody tr th:only-of-type {\n",
       "        vertical-align: middle;\n",
       "    }\n",
       "\n",
       "    .dataframe tbody tr th {\n",
       "        vertical-align: top;\n",
       "    }\n",
       "\n",
       "    .dataframe thead th {\n",
       "        text-align: right;\n",
       "    }\n",
       "</style>\n",
       "<table border=\"1\" class=\"dataframe\">\n",
       "  <thead>\n",
       "    <tr style=\"text-align: right;\">\n",
       "      <th></th>\n",
       "      <th>Model name</th>\n",
       "      <th>Precision at k</th>\n",
       "      <th>Recall at k</th>\n",
       "    </tr>\n",
       "  </thead>\n",
       "  <tbody>\n",
       "    <tr>\n",
       "      <th>0</th>\n",
       "      <td>XGB</td>\n",
       "      <td>0.383808</td>\n",
       "      <td>0.080647</td>\n",
       "    </tr>\n",
       "  </tbody>\n",
       "</table>\n",
       "</div>"
      ],
      "text/plain": [
       "  Model name  Precision at k  Recall at k\n",
       "0        XGB        0.383808     0.080647"
      ]
     },
     "execution_count": 196,
     "metadata": {},
     "output_type": "execute_result"
    }
   ],
   "source": [
    "#model\n",
    "xgb_model = xgb.XGBClassifier(n_estimators= 1000,max_depth=5, n_jobs=-1, random_state=42)\n",
    "#model training\n",
    "xgb_model.fit(x_train, y_train)\n",
    "#model predict\n",
    "yhat_xgb = xgb_model.predict_proba(x_val)\n",
    "#model performance\n",
    "result_xgb = model_result('XGB', x_val, y_val, yhat_xgb, k=2000)\n",
    "result_xgb\n",
    "\n",
    "# sktplt.metrics.plot_cumulative_gain(y_test, yhat_xgb),\n",
    "# sktplt.metrics.plot_lift_curve(y_test, yhat_xgb)"
   ]
  },
  {
   "attachments": {},
   "cell_type": "markdown",
   "metadata": {},
   "source": [
    "### 8.4.1 XGB Cross Validation"
   ]
  },
  {
   "cell_type": "code",
   "execution_count": 197,
   "metadata": {},
   "outputs": [
    {
     "data": {
      "text/html": [
       "<div>\n",
       "<style scoped>\n",
       "    .dataframe tbody tr th:only-of-type {\n",
       "        vertical-align: middle;\n",
       "    }\n",
       "\n",
       "    .dataframe tbody tr th {\n",
       "        vertical-align: top;\n",
       "    }\n",
       "\n",
       "    .dataframe thead th {\n",
       "        text-align: right;\n",
       "    }\n",
       "</style>\n",
       "<table border=\"1\" class=\"dataframe\">\n",
       "  <thead>\n",
       "    <tr style=\"text-align: right;\">\n",
       "      <th></th>\n",
       "      <th>Model name</th>\n",
       "      <th>Precision at k</th>\n",
       "      <th>Recall at k</th>\n",
       "    </tr>\n",
       "  </thead>\n",
       "  <tbody>\n",
       "    <tr>\n",
       "      <th>0</th>\n",
       "      <td>XGB CV</td>\n",
       "      <td>0.7798 +/- 0.0055</td>\n",
       "      <td>0.3357 +/- 0.0024</td>\n",
       "    </tr>\n",
       "  </tbody>\n",
       "</table>\n",
       "</div>"
      ],
      "text/plain": [
       "  Model name     Precision at k        Recall at k\n",
       "0     XGB CV  0.7798 +/- 0.0055  0.3357 +/- 0.0024"
      ]
     },
     "execution_count": 197,
     "metadata": {},
     "output_type": "execute_result"
    }
   ],
   "source": [
    "xgb_cv = cross_validation('XGB CV', xgb_model, x_train, y_train, kfold=8)\n",
    "xgb_cv"
   ]
  },
  {
   "attachments": {},
   "cell_type": "markdown",
   "metadata": {},
   "source": [
    "## 8.5 Compare model performance\n"
   ]
  },
  {
   "attachments": {},
   "cell_type": "markdown",
   "metadata": {},
   "source": [
    "### 8.5.1 Single Performance"
   ]
  },
  {
   "cell_type": "code",
   "execution_count": 198,
   "metadata": {},
   "outputs": [
    {
     "data": {
      "text/html": [
       "<div>\n",
       "<style scoped>\n",
       "    .dataframe tbody tr th:only-of-type {\n",
       "        vertical-align: middle;\n",
       "    }\n",
       "\n",
       "    .dataframe tbody tr th {\n",
       "        vertical-align: top;\n",
       "    }\n",
       "\n",
       "    .dataframe thead th {\n",
       "        text-align: right;\n",
       "    }\n",
       "</style>\n",
       "<table border=\"1\" class=\"dataframe\">\n",
       "  <thead>\n",
       "    <tr style=\"text-align: right;\">\n",
       "      <th></th>\n",
       "      <th>Model name</th>\n",
       "      <th>Precision at k</th>\n",
       "      <th>Recall at k</th>\n",
       "    </tr>\n",
       "  </thead>\n",
       "  <tbody>\n",
       "    <tr>\n",
       "      <th>0</th>\n",
       "      <td>Knn</td>\n",
       "      <td>0.108446</td>\n",
       "      <td>0.022787</td>\n",
       "    </tr>\n",
       "    <tr>\n",
       "      <th>1</th>\n",
       "      <td>Decision Tree</td>\n",
       "      <td>0.318841</td>\n",
       "      <td>0.066996</td>\n",
       "    </tr>\n",
       "    <tr>\n",
       "      <th>2</th>\n",
       "      <td>Random Forest</td>\n",
       "      <td>0.356322</td>\n",
       "      <td>0.074871</td>\n",
       "    </tr>\n",
       "    <tr>\n",
       "      <th>3</th>\n",
       "      <td>XGB</td>\n",
       "      <td>0.383808</td>\n",
       "      <td>0.080647</td>\n",
       "    </tr>\n",
       "  </tbody>\n",
       "</table>\n",
       "</div>"
      ],
      "text/plain": [
       "      Model name  Precision at k  Recall at k\n",
       "0            Knn        0.108446     0.022787\n",
       "1  Decision Tree        0.318841     0.066996\n",
       "2  Random Forest        0.356322     0.074871\n",
       "3            XGB        0.383808     0.080647"
      ]
     },
     "execution_count": 198,
     "metadata": {},
     "output_type": "execute_result"
    }
   ],
   "source": [
    "final_performance = pd.concat([result_knn, result_tr, result_rf, result_xgb])\n",
    "final_performance.reset_index(drop=True)"
   ]
  },
  {
   "attachments": {},
   "cell_type": "markdown",
   "metadata": {},
   "source": [
    "### 8.5.2 Cross Validation Performance"
   ]
  },
  {
   "cell_type": "code",
   "execution_count": 199,
   "metadata": {},
   "outputs": [
    {
     "data": {
      "text/html": [
       "<div>\n",
       "<style scoped>\n",
       "    .dataframe tbody tr th:only-of-type {\n",
       "        vertical-align: middle;\n",
       "    }\n",
       "\n",
       "    .dataframe tbody tr th {\n",
       "        vertical-align: top;\n",
       "    }\n",
       "\n",
       "    .dataframe thead th {\n",
       "        text-align: right;\n",
       "    }\n",
       "</style>\n",
       "<table border=\"1\" class=\"dataframe\">\n",
       "  <thead>\n",
       "    <tr style=\"text-align: right;\">\n",
       "      <th></th>\n",
       "      <th>Model name</th>\n",
       "      <th>Precision at k</th>\n",
       "      <th>Recall at k</th>\n",
       "    </tr>\n",
       "  </thead>\n",
       "  <tbody>\n",
       "    <tr>\n",
       "      <th>0</th>\n",
       "      <td>KNN CV</td>\n",
       "      <td>0.993 +/- 0.0027</td>\n",
       "      <td>0.4275 +/- 0.0012</td>\n",
       "    </tr>\n",
       "    <tr>\n",
       "      <th>1</th>\n",
       "      <td>Decision Tree CV</td>\n",
       "      <td>0.8291 +/- 0.0455</td>\n",
       "      <td>0.3569 +/- 0.0196</td>\n",
       "    </tr>\n",
       "    <tr>\n",
       "      <th>2</th>\n",
       "      <td>Random Forest CV</td>\n",
       "      <td>0.7784 +/- 0.0114</td>\n",
       "      <td>0.3351 +/- 0.0049</td>\n",
       "    </tr>\n",
       "    <tr>\n",
       "      <th>3</th>\n",
       "      <td>XGB CV</td>\n",
       "      <td>0.7798 +/- 0.0055</td>\n",
       "      <td>0.3357 +/- 0.0024</td>\n",
       "    </tr>\n",
       "  </tbody>\n",
       "</table>\n",
       "</div>"
      ],
      "text/plain": [
       "         Model name     Precision at k        Recall at k\n",
       "0            KNN CV   0.993 +/- 0.0027  0.4275 +/- 0.0012\n",
       "1  Decision Tree CV  0.8291 +/- 0.0455  0.3569 +/- 0.0196\n",
       "2  Random Forest CV  0.7784 +/- 0.0114  0.3351 +/- 0.0049\n",
       "3            XGB CV  0.7798 +/- 0.0055  0.3357 +/- 0.0024"
      ]
     },
     "execution_count": 199,
     "metadata": {},
     "output_type": "execute_result"
    }
   ],
   "source": [
    "performance_cv= pd.concat([knn_cv,tr_cv, rf_cv,xgb_cv])\n",
    "performance_cv.reset_index(drop=True)"
   ]
  },
  {
   "attachments": {},
   "cell_type": "markdown",
   "metadata": {},
   "source": [
    "# 9.0 Hyperparameter Fine Tuning"
   ]
  },
  {
   "attachments": {},
   "cell_type": "markdown",
   "metadata": {},
   "source": [
    "## 9.1 Random Search"
   ]
  },
  {
   "cell_type": "code",
   "execution_count": 200,
   "metadata": {},
   "outputs": [],
   "source": [
    "params = {\n",
    "    'n_estimators' : [100,200,300,400],\n",
    "    'max_depth': [3,5,8,12],\n",
    "    'subsample': [0.8,0.85,0.9,1],\n",
    "    'colsample_bytree': [0.3,0.5,0.7,1],\n",
    "    }\n",
    "\n",
    "MAX_EVAL = 10\n",
    "\n"
   ]
  },
  {
   "cell_type": "code",
   "execution_count": 201,
   "metadata": {},
   "outputs": [],
   "source": [
    "result_tunning_cv = pd.DataFrame()"
   ]
  },
  {
   "cell_type": "code",
   "execution_count": 202,
   "metadata": {},
   "outputs": [],
   "source": [
    "# #model\n",
    "# for i in range(MAX_EVAL):\n",
    "#     hp = {k: random.sample(v,1)[0] for k,v in params.items()}\n",
    "#     print(hp)\n",
    "#     xgb_model_tunning_cv = xgb.XGBClassifier(n_estimators = hp['n_estimators'],\n",
    "#                                         max_depth = hp['max_depth'],\n",
    "#                                         subsample = hp['subsample'],\n",
    "#                                         colsample_bytree = hp['colsample_bytree']                                   \n",
    "#                                         )\n",
    "    \n",
    "#     result_cv = cross_validation('XGB Tunning CV', xgb_model_tunning_cv, x_train, y_train, kfold=8)\n",
    "#     result_tunning_cv = pd.concat([result_tunning_cv, result_cv])"
   ]
  },
  {
   "cell_type": "code",
   "execution_count": 203,
   "metadata": {},
   "outputs": [],
   "source": [
    "# result_tunning_cv"
   ]
  },
  {
   "attachments": {},
   "cell_type": "markdown",
   "metadata": {},
   "source": [
    "## 9.2 Final Model"
   ]
  },
  {
   "cell_type": "code",
   "execution_count": 204,
   "metadata": {},
   "outputs": [],
   "source": [
    "# param_tunned = {'n_estimators': 1500, 'max_depth': 3, 'subsample': 1, 'colsample_bytree': 0.7}\n",
    "# # param_tunned = {'n_estimators': 1500, 'max_depth': 3, 'subsample': 1, 'colsample_bytree': 0.3}\n",
    "# param_tunned = {'n_estimators': 2000, 'max_depth': 12, 'subsample': 0.85, 'colsample_bytree': 0.7}\n",
    "param_tunned = {'n_estimators': 200, 'max_depth': 3, 'subsample': 0.85, 'colsample_bytree': 0.3}\n",
    "\n",
    "\n",
    "\n",
    "\n"
   ]
  },
  {
   "cell_type": "code",
   "execution_count": 205,
   "metadata": {},
   "outputs": [],
   "source": [
    "xgb_tunned = xgb.XGBClassifier(n_estimators = param_tunned['n_estimators'],\n",
    "                                        max_depth = param_tunned['max_depth'],\n",
    "                                        subsample = param_tunned['subsample'],\n",
    "                                        colsample_bytree = param_tunned['colsample_bytree']                                   \n",
    "                                        )\n",
    "#model training\n",
    "xgb_tunned.fit(x_train, y_train)\n",
    "#model predict\n",
    "yhat_xgb_tunned = xgb_tunned.predict_proba(x_val)\n",
    "#model performance\n",
    "result_tunned = model_result('XGB Tunned', x_val, y_test, yhat_xgb_tunned, k=2000)"
   ]
  },
  {
   "cell_type": "code",
   "execution_count": 206,
   "metadata": {},
   "outputs": [
    {
     "data": {
      "text/html": [
       "<div>\n",
       "<style scoped>\n",
       "    .dataframe tbody tr th:only-of-type {\n",
       "        vertical-align: middle;\n",
       "    }\n",
       "\n",
       "    .dataframe tbody tr th {\n",
       "        vertical-align: top;\n",
       "    }\n",
       "\n",
       "    .dataframe thead th {\n",
       "        text-align: right;\n",
       "    }\n",
       "</style>\n",
       "<table border=\"1\" class=\"dataframe\">\n",
       "  <thead>\n",
       "    <tr style=\"text-align: right;\">\n",
       "      <th></th>\n",
       "      <th>Model name</th>\n",
       "      <th>Precision at k</th>\n",
       "      <th>Recall at k</th>\n",
       "    </tr>\n",
       "  </thead>\n",
       "  <tbody>\n",
       "    <tr>\n",
       "      <th>0</th>\n",
       "      <td>XGB Tunned</td>\n",
       "      <td>0.386307</td>\n",
       "      <td>0.081172</td>\n",
       "    </tr>\n",
       "  </tbody>\n",
       "</table>\n",
       "</div>"
      ],
      "text/plain": [
       "   Model name  Precision at k  Recall at k\n",
       "0  XGB Tunned        0.386307     0.081172"
      ]
     },
     "execution_count": 206,
     "metadata": {},
     "output_type": "execute_result"
    }
   ],
   "source": [
    "result_tunned\n"
   ]
  },
  {
   "attachments": {},
   "cell_type": "markdown",
   "metadata": {},
   "source": [
    "# 10.0 Understanding Metrics"
   ]
  },
  {
   "cell_type": "code",
   "execution_count": 207,
   "metadata": {},
   "outputs": [
    {
     "data": {
      "text/plain": [
       "<matplotlib.collections.LineCollection at 0x7f00ad44ee90>"
      ]
     },
     "execution_count": 207,
     "metadata": {},
     "output_type": "execute_result"
    },
    {
     "data": {
      "image/png": "[encoded data removed]",
      "text/plain": [
       "<Figure size 432x288 with 1 Axes>"
      ]
     },
     "metadata": {
      "needs_background": "light"
     },
     "output_type": "display_data"
    }
   ],
   "source": [
    "sktplt.metrics.plot_cumulative_gain(y_val, yhat_xgb_tunned)\n",
    "plt.hlines(0.93,xmin=0, xmax=0.40, colors='green')\n",
    "plt.vlines(0.4, ymin=0, ymax=0.93, colors='green')\n",
    "\n",
    "plt.hlines(0.87,xmin=0, xmax=0.40, colors='red')\n",
    "plt.vlines(0.35, ymin=0, ymax=0.93, colors='red')"
   ]
  },
  {
   "cell_type": "code",
   "execution_count": 208,
   "metadata": {},
   "outputs": [
    {
     "data": {
      "text/plain": [
       "<matplotlib.collections.LineCollection at 0x7f00ad512550>"
      ]
     },
     "execution_count": 208,
     "metadata": {},
     "output_type": "execute_result"
    },
    {
     "data": {
      "image/png": "[encoded data removed]",
      "text/plain": [
       "<Figure size 432x288 with 1 Axes>"
      ]
     },
     "metadata": {
      "needs_background": "light"
     },
     "output_type": "display_data"
    }
   ],
   "source": [
    "sktplt.metrics.plot_lift_curve(y_val, yhat_xgb_tunned)\n",
    "plt.hlines(2.3,xmin=0, xmax=0.4, colors='green')\n",
    "plt.vlines(0.4, ymin=0, ymax=2.3, colors='green')"
   ]
  },
  {
   "attachments": {},
   "cell_type": "markdown",
   "metadata": {},
   "source": [
    "# 11.0 DEPLOY MODEL TO PRODUCTION\n"
   ]
  },
  {
   "cell_type": "code",
   "execution_count": 218,
   "metadata": {},
   "outputs": [],
   "source": [
    "#save trained model\n",
    "pickle.dump(xgb_tunned, open('/home/alexandrerod/Documentos/repos/health_insurance_cross_sell/models/xgb_tunned.pkl','wb'))\n"
   ]
  },
  {
   "attachments": {},
   "cell_type": "markdown",
   "metadata": {},
   "source": [
    "## 11.1 Heath Insurance Class"
   ]
  },
  {
   "cell_type": "code",
   "execution_count": 281,
   "metadata": {},
   "outputs": [],
   "source": [
    "class HealthInsurance:\n",
    "    def __init__(self):\n",
    "        self.home_path = '/home/alexandrerod/Documentos/repos/health_insurance_cross_sell/'\n",
    "        self.age_scaler = pickle.load(open(self.home_path + 'parameters/age_scaler.pkl','rb'))\n",
    "        self.annual_premium_scaler = pickle.load(open(self.home_path + 'parameters/annual_premium.pkl','rb'))\n",
    "        self.policy_chanel_scaler = pickle.load(open(self.home_path + 'parameters/policy_chanel_scaler.pkl','rb'))\n",
    "        self.region_scaler = pickle.load(open(self.home_path + 'parameters/region_scaler.pkl','rb'))\n",
    "        self.vintage_scaler = pickle.load(open(self.home_path + 'parameters/vintage_scaler.pkl','rb'))\n",
    "        self.vehicle_age_encoding = pickle.load(open(self.home_path + 'parameters/vehicle_age_encoding.pkl','rb'))\n",
    "\n",
    "    def cleanind_data (self, df1):\n",
    "\n",
    "        #old columns\n",
    "        cols_old = list(df1.columns)\n",
    "        #creating function\n",
    "        rename_columns = lambda x: inflection.underscore(x)\n",
    "        #new columns\n",
    "        cols_new = list(map(rename_columns, cols_old))\n",
    "        #renaming columns \n",
    "        df1.columns = cols_new\n",
    "\n",
    "        return df1\n",
    "    \n",
    "    def feature_engineering (self, df2):\n",
    "        return df2\n",
    "    \n",
    "    def data_preparation(self, df5):\n",
    "\n",
    "       \n",
    "        #gender train\n",
    "        df5 = pd.get_dummies(df5, prefix=['gender'], columns=['gender']  ,dtype='int64')\n",
    "        \n",
    "        \n",
    "        #vehicle_age train\n",
    "        df5['vehicle_age'] = self.vehicle_age_encoding.transform(df5[['vehicle_age']].values)\n",
    "\n",
    "    \n",
    "        #vehicle_damage train\n",
    "        df5 = pd.get_dummies(df5, prefix=['vehicle_damage'], columns=['vehicle_damage'] ,dtype='int64' )\n",
    "        \n",
    "    \n",
    "        cols_selected = ['age', 'previously_insured', 'vehicle_damage_No', 'vehicle_damage_Yes']\n",
    "        \n",
    "                            \n",
    "        return df5[cols_selected]\n",
    "    \n",
    "    def get_prediction (self, model, original_data, test_data):\n",
    "        #model prediciton\n",
    "        pred = model.predict_proba(test_data)\n",
    "        #join prediciton in original data\n",
    "        original_data['prediction'] = pred[:,1]\n",
    "        \n",
    "        return original_data.to_json(orient='records', date_format = 'ISO')\n"
   ]
  },
  {
   "attachments": {},
   "cell_type": "markdown",
   "metadata": {},
   "source": [
    "## 11.2 API Handler"
   ]
  },
  {
   "cell_type": "code",
   "execution_count": 274,
   "metadata": {},
   "outputs": [
    {
     "name": "stdout",
     "output_type": "stream",
     "text": [
      " * Serving Flask app '__main__'\n",
      " * Debug mode: off\n"
     ]
    },
    {
     "name": "stderr",
     "output_type": "stream",
     "text": [
      "Address already in use\n",
      "Port 5000 is in use by another program. Either identify and stop that program, or start the server with a different port.\n"
     ]
    },
    {
     "ename": "AttributeError",
     "evalue": "'tuple' object has no attribute 'tb_frame'",
     "output_type": "error",
     "traceback": [
      "\u001b[0;31m---------------------------------------------------------------------------\u001b[0m",
      "\u001b[0;31mOSError\u001b[0m                                   Traceback (most recent call last)",
      "File \u001b[0;32m~/anaconda3/envs/HealthInsurance/lib/python3.11/site-packages/werkzeug/serving.py:748\u001b[0m, in \u001b[0;36mBaseWSGIServer.__init__\u001b[0;34m(self, host, port, app, handler, passthrough_errors, ssl_context, fd)\u001b[0m\n\u001b[1;32m    747\u001b[0m \u001b[39mtry\u001b[39;00m:\n\u001b[0;32m--> 748\u001b[0m     \u001b[39mself\u001b[39m\u001b[39m.\u001b[39mserver_bind()\n\u001b[1;32m    749\u001b[0m     \u001b[39mself\u001b[39m\u001b[39m.\u001b[39mserver_activate()\n",
      "File \u001b[0;32m~/anaconda3/envs/HealthInsurance/lib/python3.11/http/server.py:136\u001b[0m, in \u001b[0;36mHTTPServer.server_bind\u001b[0;34m(self)\u001b[0m\n\u001b[1;32m    135\u001b[0m \u001b[39m\"\"\"Override server_bind to store the server name.\"\"\"\u001b[39;00m\n\u001b[0;32m--> 136\u001b[0m socketserver\u001b[39m.\u001b[39mTCPServer\u001b[39m.\u001b[39mserver_bind(\u001b[39mself\u001b[39m)\n\u001b[1;32m    137\u001b[0m host, port \u001b[39m=\u001b[39m \u001b[39mself\u001b[39m\u001b[39m.\u001b[39mserver_address[:\u001b[39m2\u001b[39m]\n",
      "File \u001b[0;32m~/anaconda3/envs/HealthInsurance/lib/python3.11/socketserver.py:472\u001b[0m, in \u001b[0;36mTCPServer.server_bind\u001b[0;34m(self)\u001b[0m\n\u001b[1;32m    471\u001b[0m     \u001b[39mself\u001b[39m\u001b[39m.\u001b[39msocket\u001b[39m.\u001b[39msetsockopt(socket\u001b[39m.\u001b[39mSOL_SOCKET, socket\u001b[39m.\u001b[39mSO_REUSEPORT, \u001b[39m1\u001b[39m)\n\u001b[0;32m--> 472\u001b[0m \u001b[39mself\u001b[39m\u001b[39m.\u001b[39msocket\u001b[39m.\u001b[39mbind(\u001b[39mself\u001b[39m\u001b[39m.\u001b[39mserver_address)\n\u001b[1;32m    473\u001b[0m \u001b[39mself\u001b[39m\u001b[39m.\u001b[39mserver_address \u001b[39m=\u001b[39m \u001b[39mself\u001b[39m\u001b[39m.\u001b[39msocket\u001b[39m.\u001b[39mgetsockname()\n",
      "\u001b[0;31mOSError\u001b[0m: [Errno 98] Address already in use",
      "\nDuring handling of the above exception, another exception occurred:\n",
      "\u001b[0;31mSystemExit\u001b[0m                                Traceback (most recent call last)",
      "    \u001b[0;31m[... skipping hidden 1 frame]\u001b[0m\n",
      "\u001b[1;32m/home/alexandrerod/Documentos/repos/health_insurance_cross_sell/notebooks/heath_insurance.ipynb Célula 154\u001b[0m line \u001b[0;36m4\n\u001b[1;32m     <a href='vscode-notebook-cell:/home/alexandrerod/Documentos/repos/health_insurance_cross_sell/notebooks/heath_insurance.ipynb#Y301sZmlsZQ%3D%3D?line=39'>40</a>\u001b[0m \u001b[39mif\u001b[39;00m \u001b[39m__name__\u001b[39m \u001b[39m==\u001b[39m \u001b[39m\"\u001b[39m\u001b[39m__main__\u001b[39m\u001b[39m\"\u001b[39m:\n\u001b[0;32m---> <a href='vscode-notebook-cell:/home/alexandrerod/Documentos/repos/health_insurance_cross_sell/notebooks/heath_insurance.ipynb#Y301sZmlsZQ%3D%3D?line=40'>41</a>\u001b[0m     app\u001b[39m.\u001b[39mrun(\u001b[39m'\u001b[39m\u001b[39m127.0.0.1\u001b[39m\u001b[39m'\u001b[39m)\n",
      "File \u001b[0;32m~/anaconda3/envs/HealthInsurance/lib/python3.11/site-packages/flask/app.py:889\u001b[0m, in \u001b[0;36mFlask.run\u001b[0;34m(self, host, port, debug, load_dotenv, **options)\u001b[0m\n\u001b[1;32m    888\u001b[0m \u001b[39mtry\u001b[39;00m:\n\u001b[0;32m--> 889\u001b[0m     run_simple(t\u001b[39m.\u001b[39mcast(\u001b[39mstr\u001b[39m, host), port, \u001b[39mself\u001b[39m, \u001b[39m*\u001b[39m\u001b[39m*\u001b[39moptions)\n\u001b[1;32m    890\u001b[0m \u001b[39mfinally\u001b[39;00m:\n\u001b[1;32m    891\u001b[0m     \u001b[39m# reset the first request information if the development server\u001b[39;00m\n\u001b[1;32m    892\u001b[0m     \u001b[39m# reset normally.  This makes it possible to restart the server\u001b[39;00m\n\u001b[1;32m    893\u001b[0m     \u001b[39m# without reloader and that stuff from an interactive shell.\u001b[39;00m\n",
      "File \u001b[0;32m~/anaconda3/envs/HealthInsurance/lib/python3.11/site-packages/werkzeug/serving.py:1075\u001b[0m, in \u001b[0;36mrun_simple\u001b[0;34m(hostname, port, application, use_reloader, use_debugger, use_evalex, extra_files, exclude_patterns, reloader_interval, reloader_type, threaded, processes, request_handler, static_files, passthrough_errors, ssl_context)\u001b[0m\n\u001b[1;32m   1073\u001b[0m     fd \u001b[39m=\u001b[39m \u001b[39mint\u001b[39m(os\u001b[39m.\u001b[39menviron[\u001b[39m\"\u001b[39m\u001b[39mWERKZEUG_SERVER_FD\u001b[39m\u001b[39m\"\u001b[39m])\n\u001b[0;32m-> 1075\u001b[0m srv \u001b[39m=\u001b[39m make_server(\n\u001b[1;32m   1076\u001b[0m     hostname,\n\u001b[1;32m   1077\u001b[0m     port,\n\u001b[1;32m   1078\u001b[0m     application,\n\u001b[1;32m   1079\u001b[0m     threaded,\n\u001b[1;32m   1080\u001b[0m     processes,\n\u001b[1;32m   1081\u001b[0m     request_handler,\n\u001b[1;32m   1082\u001b[0m     passthrough_errors,\n\u001b[1;32m   1083\u001b[0m     ssl_context,\n\u001b[1;32m   1084\u001b[0m     fd\u001b[39m=\u001b[39mfd,\n\u001b[1;32m   1085\u001b[0m )\n\u001b[1;32m   1086\u001b[0m srv\u001b[39m.\u001b[39msocket\u001b[39m.\u001b[39mset_inheritable(\u001b[39mTrue\u001b[39;00m)\n",
      "File \u001b[0;32m~/anaconda3/envs/HealthInsurance/lib/python3.11/site-packages/werkzeug/serving.py:915\u001b[0m, in \u001b[0;36mmake_server\u001b[0;34m(host, port, app, threaded, processes, request_handler, passthrough_errors, ssl_context, fd)\u001b[0m\n\u001b[1;32m    914\u001b[0m \u001b[39mif\u001b[39;00m threaded:\n\u001b[0;32m--> 915\u001b[0m     \u001b[39mreturn\u001b[39;00m ThreadedWSGIServer(\n\u001b[1;32m    916\u001b[0m         host, port, app, request_handler, passthrough_errors, ssl_context, fd\u001b[39m=\u001b[39mfd\n\u001b[1;32m    917\u001b[0m     )\n\u001b[1;32m    919\u001b[0m \u001b[39mif\u001b[39;00m processes \u001b[39m>\u001b[39m \u001b[39m1\u001b[39m:\n",
      "File \u001b[0;32m~/anaconda3/envs/HealthInsurance/lib/python3.11/site-packages/werkzeug/serving.py:771\u001b[0m, in \u001b[0;36mBaseWSGIServer.__init__\u001b[0;34m(self, host, port, app, handler, passthrough_errors, ssl_context, fd)\u001b[0m\n\u001b[1;32m    765\u001b[0m             \u001b[39mprint\u001b[39m(\n\u001b[1;32m    766\u001b[0m                 \u001b[39m\"\u001b[39m\u001b[39mOn macOS, try disabling the \u001b[39m\u001b[39m'\u001b[39m\u001b[39mAirPlay Receiver\u001b[39m\u001b[39m'\u001b[39m\u001b[39m service\u001b[39m\u001b[39m\"\u001b[39m\n\u001b[1;32m    767\u001b[0m                 \u001b[39m\"\u001b[39m\u001b[39m from System Preferences -> Sharing.\u001b[39m\u001b[39m\"\u001b[39m,\n\u001b[1;32m    768\u001b[0m                 file\u001b[39m=\u001b[39msys\u001b[39m.\u001b[39mstderr,\n\u001b[1;32m    769\u001b[0m             )\n\u001b[0;32m--> 771\u001b[0m     sys\u001b[39m.\u001b[39mexit(\u001b[39m1\u001b[39m)\n\u001b[1;32m    772\u001b[0m \u001b[39mexcept\u001b[39;00m \u001b[39mBaseException\u001b[39;00m:\n",
      "\u001b[0;31mSystemExit\u001b[0m: 1",
      "\nDuring handling of the above exception, another exception occurred:\n",
      "\u001b[0;31mAttributeError\u001b[0m                            Traceback (most recent call last)",
      "    \u001b[0;31m[... skipping hidden 1 frame]\u001b[0m\n",
      "File \u001b[0;32m~/anaconda3/envs/HealthInsurance/lib/python3.11/site-packages/IPython/core/interactiveshell.py:2092\u001b[0m, in \u001b[0;36mInteractiveShell.showtraceback\u001b[0;34m(self, exc_tuple, filename, tb_offset, exception_only, running_compiled_code)\u001b[0m\n\u001b[1;32m   2089\u001b[0m \u001b[39mif\u001b[39;00m exception_only:\n\u001b[1;32m   2090\u001b[0m     stb \u001b[39m=\u001b[39m [\u001b[39m'\u001b[39m\u001b[39mAn exception has occurred, use \u001b[39m\u001b[39m%\u001b[39m\u001b[39mtb to see \u001b[39m\u001b[39m'\u001b[39m\n\u001b[1;32m   2091\u001b[0m            \u001b[39m'\u001b[39m\u001b[39mthe full traceback.\u001b[39m\u001b[39m\\n\u001b[39;00m\u001b[39m'\u001b[39m]\n\u001b[0;32m-> 2092\u001b[0m     stb\u001b[39m.\u001b[39mextend(\u001b[39mself\u001b[39m\u001b[39m.\u001b[39mInteractiveTB\u001b[39m.\u001b[39mget_exception_only(etype,\n\u001b[1;32m   2093\u001b[0m                                                      value))\n\u001b[1;32m   2094\u001b[0m \u001b[39melse\u001b[39;00m:\n\u001b[1;32m   2095\u001b[0m     \u001b[39mtry\u001b[39;00m:\n\u001b[1;32m   2096\u001b[0m         \u001b[39m# Exception classes can customise their traceback - we\u001b[39;00m\n\u001b[1;32m   2097\u001b[0m         \u001b[39m# use this in IPython.parallel for exceptions occurring\u001b[39;00m\n\u001b[1;32m   2098\u001b[0m         \u001b[39m# in the engines. This should return a list of strings.\u001b[39;00m\n",
      "File \u001b[0;32m~/anaconda3/envs/HealthInsurance/lib/python3.11/site-packages/IPython/core/ultratb.py:644\u001b[0m, in \u001b[0;36mListTB.get_exception_only\u001b[0;34m(self, etype, value)\u001b[0m\n\u001b[1;32m    636\u001b[0m \u001b[39mdef\u001b[39;00m \u001b[39mget_exception_only\u001b[39m(\u001b[39mself\u001b[39m, etype, value):\n\u001b[1;32m    637\u001b[0m     \u001b[39m\"\"\"Only print the exception type and message, without a traceback.\u001b[39;00m\n\u001b[1;32m    638\u001b[0m \n\u001b[1;32m    639\u001b[0m \u001b[39m    Parameters\u001b[39;00m\n\u001b[0;32m   (...)\u001b[0m\n\u001b[1;32m    642\u001b[0m \u001b[39m    value : exception value\u001b[39;00m\n\u001b[1;32m    643\u001b[0m \u001b[39m    \"\"\"\u001b[39;00m\n\u001b[0;32m--> 644\u001b[0m     \u001b[39mreturn\u001b[39;00m ListTB\u001b[39m.\u001b[39mstructured_traceback(\u001b[39mself\u001b[39m, etype, value)\n",
      "File \u001b[0;32m~/anaconda3/envs/HealthInsurance/lib/python3.11/site-packages/IPython/core/ultratb.py:511\u001b[0m, in \u001b[0;36mListTB.structured_traceback\u001b[0;34m(self, etype, evalue, etb, tb_offset, context)\u001b[0m\n\u001b[1;32m    508\u001b[0m     chained_exc_ids\u001b[39m.\u001b[39madd(\u001b[39mid\u001b[39m(exception[\u001b[39m1\u001b[39m]))\n\u001b[1;32m    509\u001b[0m     chained_exceptions_tb_offset \u001b[39m=\u001b[39m \u001b[39m0\u001b[39m\n\u001b[1;32m    510\u001b[0m     out_list \u001b[39m=\u001b[39m (\n\u001b[0;32m--> 511\u001b[0m         \u001b[39mself\u001b[39m\u001b[39m.\u001b[39mstructured_traceback(\n\u001b[1;32m    512\u001b[0m             etype, evalue, (etb, chained_exc_ids),\n\u001b[1;32m    513\u001b[0m             chained_exceptions_tb_offset, context)\n\u001b[1;32m    514\u001b[0m         \u001b[39m+\u001b[39m chained_exception_message\n\u001b[1;32m    515\u001b[0m         \u001b[39m+\u001b[39m out_list)\n\u001b[1;32m    517\u001b[0m \u001b[39mreturn\u001b[39;00m out_list\n",
      "File \u001b[0;32m~/anaconda3/envs/HealthInsurance/lib/python3.11/site-packages/IPython/core/ultratb.py:1310\u001b[0m, in \u001b[0;36mAutoFormattedTB.structured_traceback\u001b[0;34m(self, etype, value, tb, tb_offset, number_of_lines_of_context)\u001b[0m\n\u001b[1;32m   1308\u001b[0m \u001b[39melse\u001b[39;00m:\n\u001b[1;32m   1309\u001b[0m     \u001b[39mself\u001b[39m\u001b[39m.\u001b[39mtb \u001b[39m=\u001b[39m tb\n\u001b[0;32m-> 1310\u001b[0m \u001b[39mreturn\u001b[39;00m FormattedTB\u001b[39m.\u001b[39mstructured_traceback(\n\u001b[1;32m   1311\u001b[0m     \u001b[39mself\u001b[39m, etype, value, tb, tb_offset, number_of_lines_of_context)\n",
      "File \u001b[0;32m~/anaconda3/envs/HealthInsurance/lib/python3.11/site-packages/IPython/core/ultratb.py:1199\u001b[0m, in \u001b[0;36mFormattedTB.structured_traceback\u001b[0;34m(self, etype, value, tb, tb_offset, number_of_lines_of_context)\u001b[0m\n\u001b[1;32m   1196\u001b[0m mode \u001b[39m=\u001b[39m \u001b[39mself\u001b[39m\u001b[39m.\u001b[39mmode\n\u001b[1;32m   1197\u001b[0m \u001b[39mif\u001b[39;00m mode \u001b[39min\u001b[39;00m \u001b[39mself\u001b[39m\u001b[39m.\u001b[39mverbose_modes:\n\u001b[1;32m   1198\u001b[0m     \u001b[39m# Verbose modes need a full traceback\u001b[39;00m\n\u001b[0;32m-> 1199\u001b[0m     \u001b[39mreturn\u001b[39;00m VerboseTB\u001b[39m.\u001b[39mstructured_traceback(\n\u001b[1;32m   1200\u001b[0m         \u001b[39mself\u001b[39m, etype, value, tb, tb_offset, number_of_lines_of_context\n\u001b[1;32m   1201\u001b[0m     )\n\u001b[1;32m   1202\u001b[0m \u001b[39melif\u001b[39;00m mode \u001b[39m==\u001b[39m \u001b[39m'\u001b[39m\u001b[39mMinimal\u001b[39m\u001b[39m'\u001b[39m:\n\u001b[1;32m   1203\u001b[0m     \u001b[39mreturn\u001b[39;00m ListTB\u001b[39m.\u001b[39mget_exception_only(\u001b[39mself\u001b[39m, etype, value)\n",
      "File \u001b[0;32m~/anaconda3/envs/HealthInsurance/lib/python3.11/site-packages/IPython/core/ultratb.py:1052\u001b[0m, in \u001b[0;36mVerboseTB.structured_traceback\u001b[0;34m(self, etype, evalue, etb, tb_offset, number_of_lines_of_context)\u001b[0m\n\u001b[1;32m   1043\u001b[0m \u001b[39mdef\u001b[39;00m \u001b[39mstructured_traceback\u001b[39m(\n\u001b[1;32m   1044\u001b[0m     \u001b[39mself\u001b[39m,\n\u001b[1;32m   1045\u001b[0m     etype: \u001b[39mtype\u001b[39m,\n\u001b[0;32m   (...)\u001b[0m\n\u001b[1;32m   1049\u001b[0m     number_of_lines_of_context: \u001b[39mint\u001b[39m \u001b[39m=\u001b[39m \u001b[39m5\u001b[39m,\n\u001b[1;32m   1050\u001b[0m ):\n\u001b[1;32m   1051\u001b[0m     \u001b[39m\"\"\"Return a nice text document describing the traceback.\"\"\"\u001b[39;00m\n\u001b[0;32m-> 1052\u001b[0m     formatted_exception \u001b[39m=\u001b[39m \u001b[39mself\u001b[39m\u001b[39m.\u001b[39mformat_exception_as_a_whole(etype, evalue, etb, number_of_lines_of_context,\n\u001b[1;32m   1053\u001b[0m                                                            tb_offset)\n\u001b[1;32m   1055\u001b[0m     colors \u001b[39m=\u001b[39m \u001b[39mself\u001b[39m\u001b[39m.\u001b[39mColors  \u001b[39m# just a shorthand + quicker name lookup\u001b[39;00m\n\u001b[1;32m   1056\u001b[0m     colorsnormal \u001b[39m=\u001b[39m colors\u001b[39m.\u001b[39mNormal  \u001b[39m# used a lot\u001b[39;00m\n",
      "File \u001b[0;32m~/anaconda3/envs/HealthInsurance/lib/python3.11/site-packages/IPython/core/ultratb.py:953\u001b[0m, in \u001b[0;36mVerboseTB.format_exception_as_a_whole\u001b[0;34m(self, etype, evalue, etb, number_of_lines_of_context, tb_offset)\u001b[0m\n\u001b[1;32m    950\u001b[0m \u001b[39massert\u001b[39;00m \u001b[39misinstance\u001b[39m(tb_offset, \u001b[39mint\u001b[39m)\n\u001b[1;32m    951\u001b[0m head \u001b[39m=\u001b[39m \u001b[39mself\u001b[39m\u001b[39m.\u001b[39mprepare_header(etype, \u001b[39mself\u001b[39m\u001b[39m.\u001b[39mlong_header)\n\u001b[1;32m    952\u001b[0m records \u001b[39m=\u001b[39m (\n\u001b[0;32m--> 953\u001b[0m     \u001b[39mself\u001b[39m\u001b[39m.\u001b[39mget_records(etb, number_of_lines_of_context, tb_offset) \u001b[39mif\u001b[39;00m etb \u001b[39melse\u001b[39;00m []\n\u001b[1;32m    954\u001b[0m )\n\u001b[1;32m    956\u001b[0m frames \u001b[39m=\u001b[39m []\n\u001b[1;32m    957\u001b[0m skipped \u001b[39m=\u001b[39m \u001b[39m0\u001b[39m\n",
      "File \u001b[0;32m~/anaconda3/envs/HealthInsurance/lib/python3.11/site-packages/IPython/core/ultratb.py:1021\u001b[0m, in \u001b[0;36mVerboseTB.get_records\u001b[0;34m(self, etb, number_of_lines_of_context, tb_offset)\u001b[0m\n\u001b[1;32m   1019\u001b[0m \u001b[39mwhile\u001b[39;00m cf \u001b[39mis\u001b[39;00m \u001b[39mnot\u001b[39;00m \u001b[39mNone\u001b[39;00m:\n\u001b[1;32m   1020\u001b[0m     \u001b[39mtry\u001b[39;00m:\n\u001b[0;32m-> 1021\u001b[0m         source_file \u001b[39m=\u001b[39m inspect\u001b[39m.\u001b[39mgetsourcefile(etb\u001b[39m.\u001b[39mtb_frame)\n\u001b[1;32m   1022\u001b[0m         lines, first \u001b[39m=\u001b[39m inspect\u001b[39m.\u001b[39mgetsourcelines(etb\u001b[39m.\u001b[39mtb_frame)\n\u001b[1;32m   1023\u001b[0m     \u001b[39mexcept\u001b[39;00m \u001b[39mOSError\u001b[39;00m:\n",
      "\u001b[0;31mAttributeError\u001b[0m: 'tuple' object has no attribute 'tb_frame'"
     ]
    }
   ],
   "source": [
    "#load model \n",
    "\n",
    "path = '/home/alexandrerod/Documentos/repos/health_insurance_cross_sell/'\n",
    "model = pickle.load(open(path + 'models/xgb_tunned.pkl', 'rb'))\n",
    "\n",
    "#start api\n",
    "app = Flask(__name__)\n",
    "\n",
    "@app.route('/predict', methods=['POST'])\n",
    "\n",
    "def health_insurance_predict():\n",
    "    test_json = request.get_json()\n",
    "\n",
    "    if test_json:\n",
    "        if isinstance(test_json,dict):\n",
    "            test_raw = pd.DataFrame(test_json, index=[0])\n",
    "        else:\n",
    "            test_raw = pd.DataFrame(test_json, columns=test_json[0].keys())\n",
    "\n",
    "        #start class\n",
    "        pipeline = HealthInsurance()\n",
    "\n",
    "        #cleaning\n",
    "        df1 = pipeline.cleanind_data(test_raw)\n",
    "\n",
    "        #feature engineering\n",
    "        df2 = pipeline.feature_engineering(df1)\n",
    "\n",
    "        #data preparation\n",
    "        df3 = pipeline.data_preparation(df2)\n",
    "\n",
    "        #predict\n",
    "        df_response = pipeline.get_prediction(model, test_raw, df3)\n",
    "\n",
    "        return df_response\n",
    "    else:\n",
    "        return Response({}, status=200, mimetype='application/json')\n",
    "\n",
    "\n",
    "if __name__ == \"__main__\":\n",
    "    app.run('127.0.0.1')\n",
    "    "
   ]
  },
  {
   "attachments": {},
   "cell_type": "markdown",
   "metadata": {},
   "source": [
    "## 11.3 API Tester"
   ]
  },
  {
   "cell_type": "code",
   "execution_count": 310,
   "metadata": {},
   "outputs": [],
   "source": [
    "df_test = pd.read_csv('../inputs/test.csv')\n",
    "df_test['response'] = y_test\n"
   ]
  },
  {
   "cell_type": "code",
   "execution_count": 311,
   "metadata": {},
   "outputs": [],
   "source": [
    "df_test = df_test.sample(10)"
   ]
  },
  {
   "cell_type": "code",
   "execution_count": 312,
   "metadata": {},
   "outputs": [
    {
     "data": {
      "text/html": [
       "<div>\n",
       "<style scoped>\n",
       "    .dataframe tbody tr th:only-of-type {\n",
       "        vertical-align: middle;\n",
       "    }\n",
       "\n",
       "    .dataframe tbody tr th {\n",
       "        vertical-align: top;\n",
       "    }\n",
       "\n",
       "    .dataframe thead th {\n",
       "        text-align: right;\n",
       "    }\n",
       "</style>\n",
       "<table border=\"1\" class=\"dataframe\">\n",
       "  <thead>\n",
       "    <tr style=\"text-align: right;\">\n",
       "      <th></th>\n",
       "      <th>id</th>\n",
       "      <th>Gender</th>\n",
       "      <th>Age</th>\n",
       "      <th>Driving_License</th>\n",
       "      <th>Region_Code</th>\n",
       "      <th>Previously_Insured</th>\n",
       "      <th>Vehicle_Age</th>\n",
       "      <th>Vehicle_Damage</th>\n",
       "      <th>Annual_Premium</th>\n",
       "      <th>Policy_Sales_Channel</th>\n",
       "      <th>Vintage</th>\n",
       "      <th>response</th>\n",
       "    </tr>\n",
       "  </thead>\n",
       "  <tbody>\n",
       "    <tr>\n",
       "      <th>95084</th>\n",
       "      <td>476194</td>\n",
       "      <td>Male</td>\n",
       "      <td>24</td>\n",
       "      <td>1</td>\n",
       "      <td>15.0</td>\n",
       "      <td>1</td>\n",
       "      <td>&lt; 1 Year</td>\n",
       "      <td>No</td>\n",
       "      <td>2630.0</td>\n",
       "      <td>152.0</td>\n",
       "      <td>152</td>\n",
       "      <td>NaN</td>\n",
       "    </tr>\n",
       "    <tr>\n",
       "      <th>91026</th>\n",
       "      <td>472136</td>\n",
       "      <td>Female</td>\n",
       "      <td>35</td>\n",
       "      <td>1</td>\n",
       "      <td>3.0</td>\n",
       "      <td>0</td>\n",
       "      <td>1-2 Year</td>\n",
       "      <td>Yes</td>\n",
       "      <td>26102.0</td>\n",
       "      <td>26.0</td>\n",
       "      <td>110</td>\n",
       "      <td>0.0</td>\n",
       "    </tr>\n",
       "    <tr>\n",
       "      <th>87726</th>\n",
       "      <td>468836</td>\n",
       "      <td>Male</td>\n",
       "      <td>22</td>\n",
       "      <td>1</td>\n",
       "      <td>46.0</td>\n",
       "      <td>0</td>\n",
       "      <td>&lt; 1 Year</td>\n",
       "      <td>No</td>\n",
       "      <td>2630.0</td>\n",
       "      <td>152.0</td>\n",
       "      <td>77</td>\n",
       "      <td>NaN</td>\n",
       "    </tr>\n",
       "    <tr>\n",
       "      <th>115653</th>\n",
       "      <td>496763</td>\n",
       "      <td>Female</td>\n",
       "      <td>35</td>\n",
       "      <td>1</td>\n",
       "      <td>35.0</td>\n",
       "      <td>0</td>\n",
       "      <td>1-2 Year</td>\n",
       "      <td>Yes</td>\n",
       "      <td>52918.0</td>\n",
       "      <td>154.0</td>\n",
       "      <td>164</td>\n",
       "      <td>NaN</td>\n",
       "    </tr>\n",
       "    <tr>\n",
       "      <th>14438</th>\n",
       "      <td>395548</td>\n",
       "      <td>Female</td>\n",
       "      <td>24</td>\n",
       "      <td>1</td>\n",
       "      <td>28.0</td>\n",
       "      <td>0</td>\n",
       "      <td>&lt; 1 Year</td>\n",
       "      <td>Yes</td>\n",
       "      <td>44929.0</td>\n",
       "      <td>122.0</td>\n",
       "      <td>221</td>\n",
       "      <td>0.0</td>\n",
       "    </tr>\n",
       "    <tr>\n",
       "      <th>72534</th>\n",
       "      <td>453644</td>\n",
       "      <td>Female</td>\n",
       "      <td>37</td>\n",
       "      <td>1</td>\n",
       "      <td>14.0</td>\n",
       "      <td>1</td>\n",
       "      <td>1-2 Year</td>\n",
       "      <td>No</td>\n",
       "      <td>35151.0</td>\n",
       "      <td>152.0</td>\n",
       "      <td>157</td>\n",
       "      <td>NaN</td>\n",
       "    </tr>\n",
       "    <tr>\n",
       "      <th>20603</th>\n",
       "      <td>401713</td>\n",
       "      <td>Male</td>\n",
       "      <td>22</td>\n",
       "      <td>1</td>\n",
       "      <td>33.0</td>\n",
       "      <td>0</td>\n",
       "      <td>&lt; 1 Year</td>\n",
       "      <td>Yes</td>\n",
       "      <td>17578.0</td>\n",
       "      <td>152.0</td>\n",
       "      <td>277</td>\n",
       "      <td>NaN</td>\n",
       "    </tr>\n",
       "    <tr>\n",
       "      <th>35096</th>\n",
       "      <td>416206</td>\n",
       "      <td>Female</td>\n",
       "      <td>25</td>\n",
       "      <td>1</td>\n",
       "      <td>36.0</td>\n",
       "      <td>0</td>\n",
       "      <td>&lt; 1 Year</td>\n",
       "      <td>No</td>\n",
       "      <td>26916.0</td>\n",
       "      <td>152.0</td>\n",
       "      <td>57</td>\n",
       "      <td>NaN</td>\n",
       "    </tr>\n",
       "    <tr>\n",
       "      <th>48617</th>\n",
       "      <td>429727</td>\n",
       "      <td>Male</td>\n",
       "      <td>60</td>\n",
       "      <td>1</td>\n",
       "      <td>43.0</td>\n",
       "      <td>0</td>\n",
       "      <td>1-2 Year</td>\n",
       "      <td>Yes</td>\n",
       "      <td>2630.0</td>\n",
       "      <td>157.0</td>\n",
       "      <td>46</td>\n",
       "      <td>NaN</td>\n",
       "    </tr>\n",
       "    <tr>\n",
       "      <th>50863</th>\n",
       "      <td>431973</td>\n",
       "      <td>Male</td>\n",
       "      <td>75</td>\n",
       "      <td>1</td>\n",
       "      <td>28.0</td>\n",
       "      <td>1</td>\n",
       "      <td>1-2 Year</td>\n",
       "      <td>Yes</td>\n",
       "      <td>71647.0</td>\n",
       "      <td>26.0</td>\n",
       "      <td>55</td>\n",
       "      <td>NaN</td>\n",
       "    </tr>\n",
       "  </tbody>\n",
       "</table>\n",
       "</div>"
      ],
      "text/plain": [
       "            id  Gender  Age  Driving_License  Region_Code  Previously_Insured   \n",
       "95084   476194    Male   24                1         15.0                   1  \\\n",
       "91026   472136  Female   35                1          3.0                   0   \n",
       "87726   468836    Male   22                1         46.0                   0   \n",
       "115653  496763  Female   35                1         35.0                   0   \n",
       "14438   395548  Female   24                1         28.0                   0   \n",
       "72534   453644  Female   37                1         14.0                   1   \n",
       "20603   401713    Male   22                1         33.0                   0   \n",
       "35096   416206  Female   25                1         36.0                   0   \n",
       "48617   429727    Male   60                1         43.0                   0   \n",
       "50863   431973    Male   75                1         28.0                   1   \n",
       "\n",
       "       Vehicle_Age Vehicle_Damage  Annual_Premium  Policy_Sales_Channel   \n",
       "95084     < 1 Year             No          2630.0                 152.0  \\\n",
       "91026     1-2 Year            Yes         26102.0                  26.0   \n",
       "87726     < 1 Year             No          2630.0                 152.0   \n",
       "115653    1-2 Year            Yes         52918.0                 154.0   \n",
       "14438     < 1 Year            Yes         44929.0                 122.0   \n",
       "72534     1-2 Year             No         35151.0                 152.0   \n",
       "20603     < 1 Year            Yes         17578.0                 152.0   \n",
       "35096     < 1 Year             No         26916.0                 152.0   \n",
       "48617     1-2 Year            Yes          2630.0                 157.0   \n",
       "50863     1-2 Year            Yes         71647.0                  26.0   \n",
       "\n",
       "        Vintage  response  \n",
       "95084       152       NaN  \n",
       "91026       110       0.0  \n",
       "87726        77       NaN  \n",
       "115653      164       NaN  \n",
       "14438       221       0.0  \n",
       "72534       157       NaN  \n",
       "20603       277       NaN  \n",
       "35096        57       NaN  \n",
       "48617        46       NaN  \n",
       "50863        55       NaN  "
      ]
     },
     "execution_count": 312,
     "metadata": {},
     "output_type": "execute_result"
    }
   ],
   "source": [
    "df_test"
   ]
  },
  {
   "cell_type": "code",
   "execution_count": 313,
   "metadata": {},
   "outputs": [
    {
     "data": {
      "text/plain": [
       "'[{\"id\": 476194, \"Gender\": \"Male\", \"Age\": 24, \"Driving_License\": 1, \"Region_Code\": 15.0, \"Previously_Insured\": 1, \"Vehicle_Age\": \"< 1 Year\", \"Vehicle_Damage\": \"No\", \"Annual_Premium\": 2630.0, \"Policy_Sales_Channel\": 152.0, \"Vintage\": 152, \"response\": NaN}, {\"id\": 472136, \"Gender\": \"Female\", \"Age\": 35, \"Driving_License\": 1, \"Region_Code\": 3.0, \"Previously_Insured\": 0, \"Vehicle_Age\": \"1-2 Year\", \"Vehicle_Damage\": \"Yes\", \"Annual_Premium\": 26102.0, \"Policy_Sales_Channel\": 26.0, \"Vintage\": 110, \"response\": 0.0}, {\"id\": 468836, \"Gender\": \"Male\", \"Age\": 22, \"Driving_License\": 1, \"Region_Code\": 46.0, \"Previously_Insured\": 0, \"Vehicle_Age\": \"< 1 Year\", \"Vehicle_Damage\": \"No\", \"Annual_Premium\": 2630.0, \"Policy_Sales_Channel\": 152.0, \"Vintage\": 77, \"response\": NaN}, {\"id\": 496763, \"Gender\": \"Female\", \"Age\": 35, \"Driving_License\": 1, \"Region_Code\": 35.0, \"Previously_Insured\": 0, \"Vehicle_Age\": \"1-2 Year\", \"Vehicle_Damage\": \"Yes\", \"Annual_Premium\": 52918.0, \"Policy_Sales_Channel\": 154.0, \"Vintage\": 164, \"response\": NaN}, {\"id\": 395548, \"Gender\": \"Female\", \"Age\": 24, \"Driving_License\": 1, \"Region_Code\": 28.0, \"Previously_Insured\": 0, \"Vehicle_Age\": \"< 1 Year\", \"Vehicle_Damage\": \"Yes\", \"Annual_Premium\": 44929.0, \"Policy_Sales_Channel\": 122.0, \"Vintage\": 221, \"response\": 0.0}, {\"id\": 453644, \"Gender\": \"Female\", \"Age\": 37, \"Driving_License\": 1, \"Region_Code\": 14.0, \"Previously_Insured\": 1, \"Vehicle_Age\": \"1-2 Year\", \"Vehicle_Damage\": \"No\", \"Annual_Premium\": 35151.0, \"Policy_Sales_Channel\": 152.0, \"Vintage\": 157, \"response\": NaN}, {\"id\": 401713, \"Gender\": \"Male\", \"Age\": 22, \"Driving_License\": 1, \"Region_Code\": 33.0, \"Previously_Insured\": 0, \"Vehicle_Age\": \"< 1 Year\", \"Vehicle_Damage\": \"Yes\", \"Annual_Premium\": 17578.0, \"Policy_Sales_Channel\": 152.0, \"Vintage\": 277, \"response\": NaN}, {\"id\": 416206, \"Gender\": \"Female\", \"Age\": 25, \"Driving_License\": 1, \"Region_Code\": 36.0, \"Previously_Insured\": 0, \"Vehicle_Age\": \"< 1 Year\", \"Vehicle_Damage\": \"No\", \"Annual_Premium\": 26916.0, \"Policy_Sales_Channel\": 152.0, \"Vintage\": 57, \"response\": NaN}, {\"id\": 429727, \"Gender\": \"Male\", \"Age\": 60, \"Driving_License\": 1, \"Region_Code\": 43.0, \"Previously_Insured\": 0, \"Vehicle_Age\": \"1-2 Year\", \"Vehicle_Damage\": \"Yes\", \"Annual_Premium\": 2630.0, \"Policy_Sales_Channel\": 157.0, \"Vintage\": 46, \"response\": NaN}, {\"id\": 431973, \"Gender\": \"Male\", \"Age\": 75, \"Driving_License\": 1, \"Region_Code\": 28.0, \"Previously_Insured\": 1, \"Vehicle_Age\": \"1-2 Year\", \"Vehicle_Damage\": \"Yes\", \"Annual_Premium\": 71647.0, \"Policy_Sales_Channel\": 26.0, \"Vintage\": 55, \"response\": NaN}]'"
      ]
     },
     "execution_count": 313,
     "metadata": {},
     "output_type": "execute_result"
    }
   ],
   "source": [
    "#convert dataframe to json\n",
    "\n",
    "data = json.dumps(df_test.to_dict(orient='records'))\n",
    "data"
   ]
  },
  {
   "cell_type": "code",
   "execution_count": 314,
   "metadata": {},
   "outputs": [
    {
     "name": "stdout",
     "output_type": "stream",
     "text": [
      "Status Code 200\n"
     ]
    }
   ],
   "source": [
    "# API Call\n",
    "url = 'http://127.0.0.1:5000/predict'\n",
    "#url = 'https://health-insurance-model.herokuapp.com/predict'\n",
    "header = {'Content-type': 'application/json' }\n",
    "data = data\n",
    "r = requests.post( url, data=data, headers=header )\n",
    "print( 'Status Code {}'.format( r.status_code ) )"
   ]
  },
  {
   "cell_type": "code",
   "execution_count": 300,
   "metadata": {},
   "outputs": [
    {
     "data": {
      "text/plain": [
       "<Response [200]>"
      ]
     },
     "execution_count": 300,
     "metadata": {},
     "output_type": "execute_result"
    }
   ],
   "source": [
    "r"
   ]
  },
  {
   "cell_type": "code",
   "execution_count": 315,
   "metadata": {},
   "outputs": [
    {
     "data": {
      "text/html": [
       "<div>\n",
       "<style scoped>\n",
       "    .dataframe tbody tr th:only-of-type {\n",
       "        vertical-align: middle;\n",
       "    }\n",
       "\n",
       "    .dataframe tbody tr th {\n",
       "        vertical-align: top;\n",
       "    }\n",
       "\n",
       "    .dataframe thead th {\n",
       "        text-align: right;\n",
       "    }\n",
       "</style>\n",
       "<table border=\"1\" class=\"dataframe\">\n",
       "  <thead>\n",
       "    <tr style=\"text-align: right;\">\n",
       "      <th></th>\n",
       "      <th>id</th>\n",
       "      <th>gender</th>\n",
       "      <th>age</th>\n",
       "      <th>driving_license</th>\n",
       "      <th>region_code</th>\n",
       "      <th>previously_insured</th>\n",
       "      <th>vehicle_age</th>\n",
       "      <th>vehicle_damage</th>\n",
       "      <th>annual_premium</th>\n",
       "      <th>policy_sales_channel</th>\n",
       "      <th>vintage</th>\n",
       "      <th>response</th>\n",
       "      <th>prediction</th>\n",
       "    </tr>\n",
       "  </thead>\n",
       "  <tbody>\n",
       "    <tr>\n",
       "      <th>1</th>\n",
       "      <td>472136</td>\n",
       "      <td>Female</td>\n",
       "      <td>35</td>\n",
       "      <td>1</td>\n",
       "      <td>3.0</td>\n",
       "      <td>0</td>\n",
       "      <td>1-2 Year</td>\n",
       "      <td>Yes</td>\n",
       "      <td>26102.0</td>\n",
       "      <td>26.0</td>\n",
       "      <td>110</td>\n",
       "      <td>0.0</td>\n",
       "      <td>0.808383</td>\n",
       "    </tr>\n",
       "    <tr>\n",
       "      <th>3</th>\n",
       "      <td>496763</td>\n",
       "      <td>Female</td>\n",
       "      <td>35</td>\n",
       "      <td>1</td>\n",
       "      <td>35.0</td>\n",
       "      <td>0</td>\n",
       "      <td>1-2 Year</td>\n",
       "      <td>Yes</td>\n",
       "      <td>52918.0</td>\n",
       "      <td>154.0</td>\n",
       "      <td>164</td>\n",
       "      <td>NaN</td>\n",
       "      <td>0.808383</td>\n",
       "    </tr>\n",
       "    <tr>\n",
       "      <th>8</th>\n",
       "      <td>429727</td>\n",
       "      <td>Male</td>\n",
       "      <td>60</td>\n",
       "      <td>1</td>\n",
       "      <td>43.0</td>\n",
       "      <td>0</td>\n",
       "      <td>1-2 Year</td>\n",
       "      <td>Yes</td>\n",
       "      <td>2630.0</td>\n",
       "      <td>157.0</td>\n",
       "      <td>46</td>\n",
       "      <td>NaN</td>\n",
       "      <td>0.615595</td>\n",
       "    </tr>\n",
       "    <tr>\n",
       "      <th>4</th>\n",
       "      <td>395548</td>\n",
       "      <td>Female</td>\n",
       "      <td>24</td>\n",
       "      <td>1</td>\n",
       "      <td>28.0</td>\n",
       "      <td>0</td>\n",
       "      <td>&lt; 1 Year</td>\n",
       "      <td>Yes</td>\n",
       "      <td>44929.0</td>\n",
       "      <td>122.0</td>\n",
       "      <td>221</td>\n",
       "      <td>0.0</td>\n",
       "      <td>0.552961</td>\n",
       "    </tr>\n",
       "    <tr>\n",
       "      <th>6</th>\n",
       "      <td>401713</td>\n",
       "      <td>Male</td>\n",
       "      <td>22</td>\n",
       "      <td>1</td>\n",
       "      <td>33.0</td>\n",
       "      <td>0</td>\n",
       "      <td>&lt; 1 Year</td>\n",
       "      <td>Yes</td>\n",
       "      <td>17578.0</td>\n",
       "      <td>152.0</td>\n",
       "      <td>277</td>\n",
       "      <td>NaN</td>\n",
       "      <td>0.499482</td>\n",
       "    </tr>\n",
       "  </tbody>\n",
       "</table>\n",
       "</div>"
      ],
      "text/plain": [
       "       id  gender  age  driving_license  region_code  previously_insured   \n",
       "1  472136  Female   35                1          3.0                   0  \\\n",
       "3  496763  Female   35                1         35.0                   0   \n",
       "8  429727    Male   60                1         43.0                   0   \n",
       "4  395548  Female   24                1         28.0                   0   \n",
       "6  401713    Male   22                1         33.0                   0   \n",
       "\n",
       "  vehicle_age vehicle_damage  annual_premium  policy_sales_channel  vintage   \n",
       "1    1-2 Year            Yes         26102.0                  26.0      110  \\\n",
       "3    1-2 Year            Yes         52918.0                 154.0      164   \n",
       "8    1-2 Year            Yes          2630.0                 157.0       46   \n",
       "4    < 1 Year            Yes         44929.0                 122.0      221   \n",
       "6    < 1 Year            Yes         17578.0                 152.0      277   \n",
       "\n",
       "   response  prediction  \n",
       "1       0.0    0.808383  \n",
       "3       NaN    0.808383  \n",
       "8       NaN    0.615595  \n",
       "4       0.0    0.552961  \n",
       "6       NaN    0.499482  "
      ]
     },
     "execution_count": 315,
     "metadata": {},
     "output_type": "execute_result"
    }
   ],
   "source": [
    "d1 = pd.DataFrame(r.json(), columns=r.json()[0].keys())\n",
    "d1.sort_values('prediction', ascending=False).head()"
   ]
  },
  {
   "cell_type": "code",
   "execution_count": null,
   "metadata": {},
   "outputs": [],
   "source": []
  }
 ],
 "metadata": {
  "kernelspec": {
   "display_name": "HealthInsurance",
   "language": "python",
   "name": "python3"
  },
  "language_info": {
   "codemirror_mode": {
    "name": "ipython",
    "version": 3
   },
   "file_extension": ".py",
   "mimetype": "text/x-python",
   "name": "python",
   "nbconvert_exporter": "python",
   "pygments_lexer": "ipython3",
   "version": "3.11.3"
  },
  "orig_nbformat": 4
 },
 "nbformat": 4,
 "nbformat_minor": 2
}
